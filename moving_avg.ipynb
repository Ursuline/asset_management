{
 "cells": [
  {
   "cell_type": "markdown",
   "metadata": {},
   "source": [
    "# Moving average trading"
   ]
  },
  {
   "cell_type": "code",
   "execution_count": 1,
   "metadata": {
    "ExecuteTime": {
     "end_time": "2021-03-24T08:33:12.866792Z",
     "start_time": "2021-03-24T08:33:11.503669Z"
    }
   },
   "outputs": [],
   "source": [
    "import os\n",
    "import pandas as pd\n",
    "import numpy as np\n",
    "from tqdm.notebook import tqdm\n",
    "from datetime import datetime\n",
    "import matplotlib.pyplot as plt\n",
    "import matplotlib.dates as mdates\n",
    "import seaborn as sns\n",
    "import ipywidgets as widgets\n",
    "from ipywidgets import HBox, VBox, TwoByTwoLayout, Label\n",
    "from ipywidgets import interactive, interactive_output\n",
    "from ipywidgets import FloatSlider, IntSlider, SelectionSlider, SelectionRangeSlider\n",
    "from IPython.display import display\n",
    "import security_comparison as sc\n",
    "import trading as tra\n",
    "\n",
    "%matplotlib inline\n",
    "%load_ext autoreload\n",
    "%autoreload 2"
   ]
  },
  {
   "cell_type": "markdown",
   "metadata": {},
   "source": [
    "### Default parameters"
   ]
  },
  {
   "cell_type": "code",
   "execution_count": 2,
   "metadata": {
    "ExecuteTime": {
     "end_time": "2021-03-24T08:33:12.908667Z",
     "start_time": "2021-03-24T08:33:12.868472Z"
    },
    "hide_input": false
   },
   "outputs": [],
   "source": [
    "DIRNAME  = 'data'\n",
    "PLOT_DIR = 'plots'\n",
    "HUGE     = 1000000\n",
    "\n",
    "positions = ['long', 'short', 'n/c']\n",
    "SWITCHES  = ['buy', 'sell', 'n/c']\n",
    "\n",
    "DEFAULT_PERIOD = '5y'  # data download period\n",
    "\n",
    "#Min & max rolling window spans \n",
    "MIN_SPAN       = 5   \n",
    "MAX_SPAN       = 60\n",
    "\n",
    "# Min & max buffer around mean \n",
    "MIN_BUFF       = 0.0 \n",
    "MAX_BUFF       = 0.03\n",
    "\n",
    "INIT_WEALTH    = 100.0 \n",
    "pd.options.display.float_format = '{:,.2f}'.format\n",
    "\n",
    "# ---------------------------#\n",
    "FEE_PCT        = .004  # broker's fee\n",
    "\n",
    "TICKER     = 'HO.PA'\n",
    "REFRESH    = True # Download fresh Yahoo data \n",
    "\n",
    "START_DATE = '2017-07-15'\n",
    "END_DATE   = '2021-03-22'"
   ]
  },
  {
   "cell_type": "markdown",
   "metadata": {},
   "source": [
    "### Data download"
   ]
  },
  {
   "cell_type": "code",
   "execution_count": 3,
   "metadata": {
    "ExecuteTime": {
     "end_time": "2021-03-24T08:33:13.010792Z",
     "start_time": "2021-03-24T08:33:12.910998Z"
    }
   },
   "outputs": [
    {
     "name": "stdout",
     "output_type": "stream",
     "text": [
      "Downloading data from Yahoo Finance\n",
      "Loading ticker HO.PA\n",
      "[*********************100%***********************]  1 of 1 completed\n"
     ]
    },
    {
     "data": {
      "text/html": [
       "<div>\n",
       "<style scoped>\n",
       "    .dataframe tbody tr th:only-of-type {\n",
       "        vertical-align: middle;\n",
       "    }\n",
       "\n",
       "    .dataframe tbody tr th {\n",
       "        vertical-align: top;\n",
       "    }\n",
       "\n",
       "    .dataframe thead th {\n",
       "        text-align: right;\n",
       "    }\n",
       "</style>\n",
       "<table border=\"1\" class=\"dataframe\">\n",
       "  <thead>\n",
       "    <tr style=\"text-align: right;\">\n",
       "      <th></th>\n",
       "      <th>Close</th>\n",
       "    </tr>\n",
       "    <tr>\n",
       "      <th>Date</th>\n",
       "      <th></th>\n",
       "    </tr>\n",
       "  </thead>\n",
       "  <tbody>\n",
       "    <tr>\n",
       "      <th>2016-03-24</th>\n",
       "      <td>69.03</td>\n",
       "    </tr>\n",
       "    <tr>\n",
       "      <th>2016-03-29</th>\n",
       "      <td>69.22</td>\n",
       "    </tr>\n",
       "    <tr>\n",
       "      <th>2016-03-30</th>\n",
       "      <td>69.42</td>\n",
       "    </tr>\n",
       "    <tr>\n",
       "      <th>2016-03-31</th>\n",
       "      <td>69.02</td>\n",
       "    </tr>\n",
       "    <tr>\n",
       "      <th>2016-04-01</th>\n",
       "      <td>68.24</td>\n",
       "    </tr>\n",
       "    <tr>\n",
       "      <th>...</th>\n",
       "      <td>...</td>\n",
       "    </tr>\n",
       "    <tr>\n",
       "      <th>2021-03-18</th>\n",
       "      <td>83.86</td>\n",
       "    </tr>\n",
       "    <tr>\n",
       "      <th>2021-03-19</th>\n",
       "      <td>81.98</td>\n",
       "    </tr>\n",
       "    <tr>\n",
       "      <th>2021-03-22</th>\n",
       "      <td>82.00</td>\n",
       "    </tr>\n",
       "    <tr>\n",
       "      <th>2021-03-23</th>\n",
       "      <td>82.12</td>\n",
       "    </tr>\n",
       "    <tr>\n",
       "      <th>2021-03-24</th>\n",
       "      <td>82.08</td>\n",
       "    </tr>\n",
       "  </tbody>\n",
       "</table>\n",
       "<p>1280 rows × 1 columns</p>\n",
       "</div>"
      ],
      "text/plain": [
       "            Close\n",
       "Date             \n",
       "2016-03-24  69.03\n",
       "2016-03-29  69.22\n",
       "2016-03-30  69.42\n",
       "2016-03-31  69.02\n",
       "2016-04-01  68.24\n",
       "...           ...\n",
       "2021-03-18  83.86\n",
       "2021-03-19  81.98\n",
       "2021-03-22  82.00\n",
       "2021-03-23  82.12\n",
       "2021-03-24  82.08\n",
       "\n",
       "[1280 rows x 1 columns]"
      ]
     },
     "execution_count": 3,
     "metadata": {},
     "output_type": "execute_result"
    }
   ],
   "source": [
    "raw = tra.load_security(dirname = DIRNAME, \n",
    "                        ticker  = TICKER, \n",
    "                        refresh = REFRESH, \n",
    "                        period  = DEFAULT_PERIOD,\n",
    "                        )\n",
    "security = pd.DataFrame(raw[f'Close_{TICKER}'])\n",
    "security.rename(columns={f'Close_{TICKER}': \"Close\"},\n",
    "                inplace=True)\n",
    "\n",
    "security"
   ]
  },
  {
   "cell_type": "markdown",
   "metadata": {},
   "source": [
    "#### Setup default start & end dates"
   ]
  },
  {
   "cell_type": "code",
   "execution_count": 4,
   "metadata": {
    "ExecuteTime": {
     "end_time": "2021-03-24T08:33:13.054428Z",
     "start_time": "2021-03-24T08:33:13.013262Z"
    }
   },
   "outputs": [
    {
     "name": "stdout",
     "output_type": "stream",
     "text": [
      "('15-Jul-2017', '22-Mar-2021')\n",
      "(datetime.datetime(2017, 7, 15, 0, 0), datetime.datetime(2021, 3, 22, 0, 0))\n",
      "('2017-07-15', '2021-03-22')\n"
     ]
    }
   ],
   "source": [
    "# Check dates \n",
    "print(tra.get_title_dates(security, START_DATE, END_DATE))\n",
    "print(tra.get_datetime_dates(security, START_DATE, END_DATE))\n",
    "print(tra.get_filename_dates(security, START_DATE, END_DATE))"
   ]
  },
  {
   "cell_type": "code",
   "execution_count": 5,
   "metadata": {},
   "outputs": [
    {
     "name": "stdout",
     "output_type": "stream",
     "text": [
      "16-03-24\n"
     ]
    }
   ],
   "source": [
    "print(security.index[0].strftime('%y-%m-%d'))"
   ]
  },
  {
   "cell_type": "markdown",
   "metadata": {},
   "source": [
    "## Plotting functions"
   ]
  },
  {
   "cell_type": "markdown",
   "metadata": {},
   "source": [
    "#### Default plot parameters"
   ]
  },
  {
   "cell_type": "code",
   "execution_count": 6,
   "metadata": {
    "ExecuteTime": {
     "end_time": "2021-03-24T08:33:13.284528Z",
     "start_time": "2021-03-24T08:33:13.244125Z"
    }
   },
   "outputs": [],
   "source": [
    "colors = plt.rcParams['axes.prop_cycle'].by_key()['color']\n",
    "year_month_fmt = mdates.DateFormatter('%b-%y')\n",
    "title_size     = 14\n",
    "vline_color    = 'tomato'\n",
    "gridcolor      = '#ededed'\n",
    "title_color    = 'dimgrey'\n",
    "fig_width      = 14\n",
    "fig_height     = 8"
   ]
  },
  {
   "cell_type": "markdown",
   "metadata": {},
   "source": [
    "### Supporting routines"
   ]
  },
  {
   "cell_type": "code",
   "execution_count": 7,
   "metadata": {
    "ExecuteTime": {
     "end_time": "2021-03-24T08:33:13.326015Z",
     "start_time": "2021-03-24T08:33:13.286253Z"
    }
   },
   "outputs": [],
   "source": [
    "def save_figure(p_file, dpi=360, extension='png'):\n",
    "    '''\n",
    "    Save figure to file\n",
    "    '''\n",
    "    filename = os.path.join(PLOT_DIR, p_file + f'.{extension}')\n",
    "    plt.savefig(filename,\n",
    "                dpi=dpi,\n",
    "                transparent=False,\n",
    "                orientation='landscape',\n",
    "                bbox_inches='tight')"
   ]
  },
  {
   "cell_type": "code",
   "execution_count": 8,
   "metadata": {
    "ExecuteTime": {
     "end_time": "2021-03-24T08:33:13.370339Z",
     "start_time": "2021-03-24T08:33:13.327865Z"
    }
   },
   "outputs": [],
   "source": [
    "def plot_arrows(axis, data):\n",
    "    ''' \n",
    "    Draws position-switching arrows on axis\n",
    "    '''\n",
    "    vertical_range = data['Close'].max() - data['Close'].min()\n",
    "    horizont_range = (data.index[-1] - data.index[0]).days\n",
    "    arrow_length   = vertical_range/10\n",
    "    head_width     = horizont_range/100\n",
    "    head_length    = vertical_range/50\n",
    "    space          = vertical_range/100  # space bw arrow tip and curve\n",
    "\n",
    "    for row in range(data.shape[0]):\n",
    "        if data.SWITCH[row] == SWITCHES[0]:  # buy\n",
    "            y_start = data.loc[data.index[row], 'Close'] + arrow_length\n",
    "            color = colors[2]\n",
    "            dy = -arrow_length+space\n",
    "        elif data.SWITCH[row] == SWITCHES[1]:  # sell\n",
    "            y_start = data.loc[data.index[row], 'Close'] - arrow_length\n",
    "            color = colors[3]\n",
    "            dy = arrow_length-space\n",
    "        else:  # don't draw the arrow\n",
    "            continue\n",
    "        arrow_start = data.loc[data.index[row], 'Close']\n",
    "        axis.arrow(x=data.index[row], y=y_start,\n",
    "                   dx=0, dy=dy,\n",
    "                   head_width=head_width,\n",
    "                   head_length=head_length,\n",
    "                   length_includes_head=True,\n",
    "                   linestyle='-',\n",
    "                   color=color,\n",
    "                  )"
   ]
  },
  {
   "cell_type": "markdown",
   "metadata": {},
   "source": [
    "### Main plotting function"
   ]
  },
  {
   "cell_type": "code",
   "execution_count": 9,
   "metadata": {
    "ExecuteTime": {
     "end_time": "2021-03-24T08:33:13.416124Z",
     "start_time": "2021-03-24T08:33:13.372119Z"
    }
   },
   "outputs": [],
   "source": [
    "def plot_moving(span, fee_pct, buffer, date_range, reactivity=1):\n",
    "    '''\n",
    "    Plots price with moving average\n",
    "    span -> rolling span\n",
    "    fee -> fee associated with switching position\n",
    "    reactivity -> time lag in days after Close (normally = 1)\n",
    "    '''\n",
    "    title_date_format = '%d-%b-%Y'\n",
    "    start = date_range[0]\n",
    "    end   = date_range[1]\n",
    "    start_string = start.strftime('%d-%b-%Y')\n",
    "    end_string   = end.strftime('%d-%b-%Y')\n",
    "    \n",
    "    #start = datetime.strptime(start_date, \"%Y-%m-%d\")\n",
    "    #end = datetime.strptime(end_date, \"%Y-%m-%d\")\n",
    "\n",
    "    # Extract time window\n",
    "    df = tra.build_strategy(TICKER,\n",
    "                          security.loc[start:end, :].copy(),\n",
    "                          span,\n",
    "                          buffer,\n",
    "                          INIT_WEALTH,\n",
    "                         )\n",
    "    fee  = tra.get_fee(df, fee_pct, SWITCHES)\n",
    "    hold = tra.get_cumret(df, 'hold', INIT_WEALTH)  # cumulative returns for hold strategy\n",
    "    ema  = tra.get_cumret(df, 'ema', INIT_WEALTH, fee)  # cumulative returns for EMA strategy\n",
    "\n",
    "    fig, ax = plt.subplots(figsize=(14, 8))\n",
    "    ax.plot(df.index, df.Close, linewidth=1, label='Price')\n",
    "    ax.plot(df.index, df.EMA, linewidth=1, label=f'{span}-days EMA')\n",
    "\n",
    "    ax.legend(loc='best')\n",
    "    ax.set_ylabel('Price ($)')\n",
    "    ax.xaxis.set_major_formatter(year_month_fmt)\n",
    "    ax.grid(b=None, which='both', axis='both',\n",
    "             color=gridcolor, linestyle='-', linewidth=1)\n",
    "\n",
    "    title  = f'{TICKER} | '\n",
    "    title += f'{start.strftime(title_date_format)} - {end.strftime(title_date_format)}\\n'\n",
    "    title += f'EMA payoff={ema:.2%} (Hold={hold:.1%}) | '\n",
    "    title += f'{span}-day rolling mean | {buffer:.2%} buffer'\n",
    "    ax.set_title(title, fontsize=title_size, color=title_color)\n",
    "\n",
    "    plot_arrows(ax, df)\n",
    "    save_figure(f'{TICKER}_{start_string}_{end_string}')\n",
    "    return df"
   ]
  },
  {
   "cell_type": "markdown",
   "metadata": {},
   "source": [
    "#### Test driver for main plot"
   ]
  },
  {
   "cell_type": "code",
   "execution_count": 10,
   "metadata": {
    "ExecuteTime": {
     "end_time": "2021-03-24T08:33:13.456680Z",
     "start_time": "2021-03-24T08:33:13.417655Z"
    }
   },
   "outputs": [],
   "source": [
    "#start_date = '2017-07-15'\n",
    "#df = plot_moving(span=29, fee_pct=.004, buffer=.02)\n",
    "\n",
    "# display_full_dataframe(df)"
   ]
  },
  {
   "cell_type": "code",
   "execution_count": 11,
   "metadata": {
    "ExecuteTime": {
     "end_time": "2021-03-24T08:33:13.499431Z",
     "start_time": "2021-03-24T08:33:13.458497Z"
    }
   },
   "outputs": [],
   "source": [
    "def plot_max_values(df, ax, n_values, max_val, min_val, form):\n",
    "    '''\n",
    "    Plots maximum values in dataframe as vertical lines\n",
    "    '''\n",
    "    largest_idx = pd.Series(df['ema'].nlargest(n_values)).index\n",
    "    for large in largest_idx:\n",
    "        ax.axvline(df.iloc[large][0],\n",
    "                   color=vline_color,\n",
    "                   linestyle=':',\n",
    "                   linewidth=1)\n",
    "        if form.lower() == 'integer':\n",
    "            text = f'{df.iloc[large][0]:.0f}'\n",
    "        elif form.lower() == 'percent':\n",
    "            text = f'{df.iloc[large][0]:.2%}'\n",
    "        else:\n",
    "            raise ValueError(f'{form} not implemented / should be integer or percent')\n",
    "            \n",
    "        ax.annotate(text=text,\n",
    "                    xy=(df.iloc[large][0],\n",
    "                        min_val + np.random.uniform(0, 1)*(max_val-min_val)),\n",
    "                    color=vline_color,\n",
    "                    )\n",
    "    return largest_idx"
   ]
  },
  {
   "cell_type": "code",
   "execution_count": 12,
   "metadata": {
    "ExecuteTime": {
     "end_time": "2021-03-24T08:33:13.542752Z",
     "start_time": "2021-03-24T08:33:13.501262Z"
    }
   },
   "outputs": [],
   "source": [
    "def plot_setup(df, target, xlabel):\n",
    "    fig, ax = plt.subplots(figsize=(fig_width, fig_height))\n",
    "    ax.plot(df[target],\n",
    "            df.ema,\n",
    "            linewidth=1,\n",
    "            label='EMA return',\n",
    "           )\n",
    "    ax.legend(loc='best')\n",
    "    ax.set_xlabel(xlabel)\n",
    "    ax.set_ylabel('return (x)')\n",
    "    plt.grid(b=None, which='major', axis='both', color='#f1f1f1')\n",
    "    return fig, ax"
   ]
  },
  {
   "cell_type": "code",
   "execution_count": 13,
   "metadata": {
    "ExecuteTime": {
     "end_time": "2021-03-24T08:33:13.588196Z",
     "start_time": "2021-03-24T08:33:13.544413Z"
    }
   },
   "outputs": [],
   "source": [
    "# Finds optimal span for a given buffer size\n",
    "def plot_span_range(buffer, n_values, fee_pct, date_range, extension='png'):\n",
    "    emas = []\n",
    "    span_range = [MIN_SPAN, MAX_SPAN]\n",
    "    spans = np.arange(span_range[0],\n",
    "                      span_range[1] + 1)\n",
    "    start = date_range[0]\n",
    "    end   = date_range[1]\n",
    "    start_string = start.strftime('%d-%b-%Y')\n",
    "    end_string   = end.strftime('%d-%b-%Y')\n",
    "\n",
    "    for i, span in enumerate(spans):\n",
    "        df = tra.build_strategy(TICKER,\n",
    "                              security.loc[start:end, :].copy(),\n",
    "                              span,\n",
    "                              buffer,\n",
    "                              INIT_WEALTH,\n",
    "                             )\n",
    "        fee = tra.get_fee(df, fee_pct, SWITCHES)\n",
    "        ema = tra.get_cumret(df, 'ema', INIT_WEALTH, fee)\n",
    "        emas.append(ema)\n",
    "        if i == 0:\n",
    "            hold = tra.get_cumret(df, 'hold', INIT_WEALTH)\n",
    "    df = pd.DataFrame(data=[spans, emas]).T\n",
    "    df.columns = ['span', 'ema']\n",
    "    \n",
    "    max_val = df['ema'].max()\n",
    "    min_val = df['ema'].min()\n",
    "\n",
    "    # Plot\n",
    "    fig, ax     = plot_setup(df, target='span', xlabel='rolling mean span (days)')\n",
    "    largest_idx = plot_max_values(df, ax, n_values, max_val, min_val, 'integer')\n",
    "\n",
    "    title  = f'{TICKER} | {start_string} - {end_string}\\n'\n",
    "    title += f'EMA max payoff={max_val:.2%} (hold={hold:.2%}) | '\n",
    "    title += f'opt span={df.iloc[largest_idx[0]][0]:.0f} days | '\n",
    "    title += f'{buffer:.2%} buffer'\n",
    "    ax.set_title(title, fontsize=title_size, color=title_color)\n",
    "\n",
    "    # save plot to file\n",
    "    save_figure(f'{TICKER}_{start_string}_{end_string}_spans')"
   ]
  },
  {
   "cell_type": "code",
   "execution_count": 14,
   "metadata": {
    "ExecuteTime": {
     "end_time": "2021-03-24T08:33:13.633639Z",
     "start_time": "2021-03-24T08:33:13.590090Z"
    }
   },
   "outputs": [],
   "source": [
    "# Finds optimal buffer size for a given rolling-window span\n",
    "\n",
    "def plot_buffer_range(span, n_values, fee_pct, date_range, extension='png'):\n",
    "    buffer_range = [MIN_BUFF, MAX_BUFF]\n",
    "    buffers = np.linspace(buffer_range[0],\n",
    "                          buffer_range[1],\n",
    "                          101)\n",
    "    start = date_range[0]\n",
    "    end   = date_range[1]\n",
    "    start_string = start.strftime('%d-%b-%Y')\n",
    "    end_string   = end.strftime('%d-%b-%Y')\n",
    "    \n",
    "    emas = []\n",
    "    for i, buffer in enumerate(buffers):\n",
    "        df = tra.build_strategy(TICKER,\n",
    "                              security.loc[start:end, :].copy(),\n",
    "                              span,\n",
    "                              buffer,\n",
    "                              INIT_WEALTH,\n",
    "                             )\n",
    "        if i == 0:\n",
    "            hold = tra.get_cumret(df, 'hold', INIT_WEALTH)\n",
    "        fee = tra.get_fee(df, fee_pct, SWITCHES)\n",
    "        emas.append(tra.get_cumret(df, 'ema', INIT_WEALTH, fee))\n",
    "        \n",
    "    df = pd.DataFrame(data=[buffers, emas]).T\n",
    "    df.columns = ['buffer', 'ema']\n",
    "    \n",
    "    max_val = df['ema'].max()\n",
    "    min_val = df['ema'].min()\n",
    "\n",
    "    # Plot\n",
    "    fig, ax     = plot_setup(df, target='buffer', xlabel='buffer size (% around EMA)')\n",
    "    largest_idx = plot_max_values(df, ax, n_values, max_val, min_val, 'percent')\n",
    "\n",
    "    title  = f'{TICKER} | {start_string} - {end_string}\\n'\n",
    "    title += f'EMA max payoff={max_val:.2%} (hold={hold:.2%}) | '\n",
    "    title += f'{span}-day mean | '\n",
    "    title += f'opt buffer={df.iloc[largest_idx[0]][0]:.2%}' \n",
    "    ax.set_title(title, fontsize=title_size, color=title_color)\n",
    " \n",
    "    save_figure(f'{TICKER}_{start_string}_{end_string}_buffers')"
   ]
  },
  {
   "cell_type": "code",
   "execution_count": null,
   "metadata": {
    "ExecuteTime": {
     "end_time": "2021-03-24T08:39:36.615261Z",
     "start_time": "2021-03-24T08:33:13.635569Z"
    },
    "scrolled": false
   },
   "outputs": [
    {
     "data": {
      "application/vnd.jupyter.widget-view+json": {
       "model_id": "2418f9d5e9f74d04a8e595826c591cd6",
       "version_major": 2,
       "version_minor": 0
      },
      "text/plain": [
       "HBox(children=(HTML(value='Outer Level / 56'), FloatProgress(value=1.0, bar_style='info', layout=Layout(width=…"
      ]
     },
     "metadata": {},
     "output_type": "display_data"
    }
   ],
   "source": [
    "# Contour plot of EMA for all window span/buffer size combinations\n",
    "\n",
    "def plot_maxima(emas, spans, buffers, hold, ax, n_maxima):\n",
    "        '''\n",
    "        Plot points corresponding to n_maxima largest EMA  \n",
    "        *** Top values are destroyed: refactor ***\n",
    "        '''\n",
    "        _emas = emas.copy()\n",
    "        for i in range(n_maxima):\n",
    "            # Get coordinates of maximum emas value\n",
    "            max_idx = np.unravel_index(np.argmax(_emas, axis=None),\n",
    "                                       _emas.shape)\n",
    "            if i == 0: # Save best EMA\n",
    "                max_ema  = np.max(_emas) \n",
    "                max_span = spans[max_idx[0]]\n",
    "                max_buff = buffers[max_idx[1]]\n",
    "\n",
    "            ax.plot(buffers[max_idx[1]], spans[max_idx[0]], marker = 'x')\n",
    "            ax.annotate(i, xy=(buffers[max_idx[1]],\n",
    "                               spans[max_idx[0]]), \n",
    "                           textcoords='data',\n",
    "                           fontsize=8,\n",
    "                        )\n",
    "            print(f'Max EMA {i}={np.max(_emas):.2%}: {spans[max_idx[0]]:.0f}-days buffer={buffers[max_idx[1]]:.2%} (hold={hold:.2%})')\n",
    "            \n",
    "            # set max emas value to arbitrily small number and re-iterate\n",
    "            _emas[max_idx[0]][max_idx[1]] = - HUGE\n",
    "        return max_ema, max_span, max_buff\n",
    "\n",
    "def plot_buffer_span_contours(fee_pct=FEE_PCT):\n",
    "    '''\n",
    "    Contour plot of EMA as a function of rolling-window span & buffer\n",
    "    '''\n",
    "    fig_size   = (14, 14)\n",
    "    n_contours = 10 # number of contours\n",
    "    n_maxima   = 10 # number of maximum points to plot\n",
    "    n_buffers  = 101\n",
    "    \n",
    "    # Get start & end dates in various fomats\n",
    "    start, end             = tra.get_datetime_dates(security, START_DATE, END_DATE)\n",
    "    start_title, end_title = tra.get_title_dates(security, START_DATE, END_DATE)\n",
    "    start_name, end_name   = tra.get_filename_dates(security, START_DATE, END_DATE)\n",
    "    \n",
    "    # define rolling window span range\n",
    "    spans = np.arange(MIN_SPAN,\n",
    "                      MAX_SPAN + 1, \n",
    "                      step = 1)\n",
    "    \n",
    "    # define buffer range\n",
    "    buffers = np.linspace(MIN_BUFF,\n",
    "                          MAX_BUFF,\n",
    "                          n_buffers,)\n",
    "    # Initialize EMA returns \n",
    "    emas = np.zeros((spans.shape[0], buffers.shape[0]), dtype=np.float64)\n",
    "    \n",
    "    # Fill EMAS for all span/buffer combinations\n",
    "    tqdm_desc = f'Outer Level / {MAX_SPAN - MIN_SPAN + 1}'\n",
    "    for i, span in tqdm(enumerate(spans), desc=tqdm_desc):\n",
    "        for j, buffer in enumerate(buffers):\n",
    "            df  = tra.build_strategy(TICKER,\n",
    "                                   security.loc[start:end, :].copy(),\n",
    "                                   span,\n",
    "                                   buffer,\n",
    "                                   INIT_WEALTH,\n",
    "                                  ) \n",
    "            emas[i][j] = tra.get_cumret(df, 'ema', INIT_WEALTH, tra.get_fee(df, fee_pct, SWITCHES))\n",
    "            if i == 0 and j == 0:\n",
    "                hold = tra.get_cumret(df, 'hold', INIT_WEALTH)\n",
    "\n",
    "    # Plot\n",
    "    fig, ax = plt.subplots(figsize=fig_size)\n",
    "    plt.contourf(buffers, spans, emas, \n",
    "                 levels=n_contours, \n",
    "                 cmap='viridis', \n",
    "                 )\n",
    "    plt.colorbar(label='EMA return')\n",
    "            \n",
    "    # Plot maxima points \n",
    "    max_ema, max_span, max_buff = plot_maxima(emas, spans, buffers, hold, ax, n_maxima)\n",
    "        \n",
    "    # Axis labels\n",
    "    ax.set_xlabel('buffer')\n",
    "    ax.set_ylabel('span')\n",
    "    \n",
    "    # Build title\n",
    "    title  = f'{TICKER} | {start_title} - {end_title}\\n'\n",
    "    title += f'EMA max payoff={max_ema:.2%} (hold={hold:.2%}) | '\n",
    "    title += f'{max_span:.0f}-day mean | '\n",
    "    title += f'opt buffer={max_buff:.2%}'\n",
    "    ax.set_title(title, fontsize=title_size, color=title_color)\n",
    "    \n",
    "    plt.grid(b=None, which='major', axis='both', color=gridcolor)\n",
    "    save_figure(f'{TICKER}_{start_name}_{end_name}_contours')\n",
    "    plt.show()\n",
    "    \n",
    "plot_buffer_span_contours()\n",
    "    "
   ]
  },
  {
   "cell_type": "markdown",
   "metadata": {},
   "source": [
    "### Interactive plots"
   ]
  },
  {
   "cell_type": "markdown",
   "metadata": {
    "ExecuteTime": {
     "end_time": "2021-03-22T12:10:46.432031Z",
     "start_time": "2021-03-22T12:10:46.387091Z"
    }
   },
   "source": [
    "#### Widget defaults"
   ]
  },
  {
   "cell_type": "code",
   "execution_count": null,
   "metadata": {
    "ExecuteTime": {
     "end_time": "2021-03-24T08:49:03.924569Z",
     "start_time": "2021-03-24T08:49:03.892176Z"
    }
   },
   "outputs": [],
   "source": [
    "string_style = {'description_width': 'initial', \n",
    "                'handle_color':      'lawngreen'}\n",
    "\n",
    "start_period, end_period = tra.get_datetime_dates(security, START_DATE, END_DATE)\n",
    "dates   = pd.date_range(start_period, end_period, freq='D')\n",
    "options = [(date.strftime(' %d/%m/%Y'), date) for date in dates]\n",
    "index   = (0, len(options)-1)\n",
    "\n",
    "# Tx/broker's fee\n",
    "min_fee     = 0.0\n",
    "max_fee     = .01\n",
    "delta_fee   = .0005\n",
    "default_fee = FEE_PCT\n",
    "\n",
    "# of days for running mean\n",
    "min_span     = MIN_SPAN\n",
    "max_span     = MAX_SPAN\n",
    "delta_span   = 1\n",
    "default_span = 20\n",
    "\n",
    "# buffer around EMA\n",
    "min_buffer     = MIN_BUFF\n",
    "max_buffer     = MAX_BUFF\n",
    "delta_buffer   = .0001\n",
    "default_buffer = .01\n",
    "\n",
    "# number of maxima\n",
    "max_value     = 15\n",
    "default_value = 12\n",
    "\n",
    "#start_date = '2017-07-15'"
   ]
  },
  {
   "cell_type": "markdown",
   "metadata": {},
   "source": [
    "#### Interactive returns for window span"
   ]
  },
  {
   "cell_type": "code",
   "execution_count": null,
   "metadata": {
    "ExecuteTime": {
     "end_time": "2021-03-24T08:49:12.076496Z",
     "start_time": "2021-03-24T08:49:06.202921Z"
    }
   },
   "outputs": [],
   "source": [
    "# Mean window span range optimizer interactive\n",
    "\n",
    "buffer_slider = FloatSlider(min=min_buffer,\n",
    "                            max=max_buffer,\n",
    "                            step=delta_buffer,\n",
    "                            value=default_buffer,\n",
    "                            style=string_style,\n",
    "                            continuous_update=False,\n",
    "                            description='Buffer (%):',\n",
    "                            disabled=False,\n",
    "                            readout=True,\n",
    "                            readout_format='.2%',\n",
    "                            layout      = {'width': '250px'},\n",
    "                           )\n",
    "\n",
    "max_values_slider = SelectionSlider(options=[x for x in range(0, max_value+1)],\n",
    "                                    value=default_value,\n",
    "                                    description='Number of maxima:',\n",
    "                                    style=string_style,\n",
    "                                    disabled=False,\n",
    "                                    continuous_update=False,\n",
    "                                    readout=True,\n",
    "                                    readout_format='d',\n",
    "                                    layout      = {'width': '500px'},\n",
    "                                   )\n",
    "\n",
    "fee_slider = FloatSlider(min=min_fee,\n",
    "                         max=max_fee,\n",
    "                         step=delta_fee,\n",
    "                         value=default_fee,\n",
    "                         description='Fees (%):',\n",
    "                         style=string_style,\n",
    "                         disabled=False,\n",
    "                         continuous_update=False,\n",
    "                         readout=True,\n",
    "                         readout_format='.2%',\n",
    "                         layout      = {'width': '250px'},\n",
    "                        )\n",
    "\n",
    "date_range_slider = SelectionRangeSlider(options = options,\n",
    "                                         index   = index,\n",
    "                                         description = 'Period:',\n",
    "                                         orientation = 'horizontal',\n",
    "                                         style       = string_style,\n",
    "                                         layout      = {'width': '500px'}\n",
    "                                        )\n",
    "\n",
    "ui  = widgets.HBox([buffer_slider, fee_slider, max_values_slider])\n",
    "out = widgets.interactive_output(plot_span_range,\n",
    "                                 {'buffer': buffer_slider,\n",
    "                                  'n_values': max_values_slider,\n",
    "                                  'fee_pct': fee_slider,\n",
    "                                  }\n",
    "                                 )\n",
    "\n",
    "out = interactive_output(plot_span_range,\n",
    "                         {'buffer'      : buffer_slider,\n",
    "                          'n_values'  : max_values_slider,\n",
    "                          'fee_pct'   : fee_slider,\n",
    "                          'date_range': date_range_slider,\n",
    "                          }\n",
    "                         )\n",
    "\n",
    "ui = TwoByTwoLayout(top_left     = fee_slider,\n",
    "                    top_right    = date_range_slider,\n",
    "                    bottom_left  = buffer_slider,\n",
    "                    bottom_right = max_values_slider,\n",
    "                    )\n",
    "\n",
    "display(ui, out)"
   ]
  },
  {
   "cell_type": "markdown",
   "metadata": {},
   "source": [
    "#### Interactive returns for buffer size"
   ]
  },
  {
   "cell_type": "code",
   "execution_count": null,
   "metadata": {
    "ExecuteTime": {
     "end_time": "2021-03-24T08:49:21.855189Z",
     "start_time": "2021-03-24T08:49:12.081397Z"
    }
   },
   "outputs": [],
   "source": [
    "# Buffer range optimizer interactive \n",
    "span_slider = IntSlider(min=min_span,\n",
    "                        max=max_span,\n",
    "                        step=delta_span,\n",
    "                        value=default_span,\n",
    "                        description='Mean span:',\n",
    "                        style=string_style,\n",
    "                        disabled=False,\n",
    "                        continuous_update=False,\n",
    "                        readout=True,\n",
    "                        readout_format='d',\n",
    "                        layout = {'width': '250px'},\n",
    "                       )\n",
    "\n",
    "max_values_slider = SelectionSlider(options=[x for x in range(0, max_value+1)],\n",
    "                                    value=default_value,\n",
    "                                    description='Number of maxima:',\n",
    "                                    style=string_style,\n",
    "                                    disabled=False,\n",
    "                                    continuous_update=False,\n",
    "                                    readout=True,\n",
    "                                    readout_format='d',\n",
    "                                    layout = {'width': '500px'},\n",
    "                                   )\n",
    "\n",
    "fee_slider = FloatSlider(min=min_fee,\n",
    "                         max=max_fee,\n",
    "                         step=delta_fee,\n",
    "                         value=default_fee,\n",
    "                         description='Fees (%):',\n",
    "                         style=string_style,\n",
    "                         disabled=False,\n",
    "                         continuous_update=False,\n",
    "                         readout=True,\n",
    "                         readout_format='.2%',\n",
    "                         layout = {'width': '250px'},\n",
    "                        )\n",
    "\n",
    "date_range_slider = SelectionRangeSlider(options = options,\n",
    "                                         index   = index,\n",
    "                                         description = 'Period:',\n",
    "                                         orientation = 'horizontal',\n",
    "                                         style  = string_style,\n",
    "                                         layout = {'width': '500px'},\n",
    "                                        )\n",
    "\n",
    "out = interactive_output(plot_buffer_range,\n",
    "                         {'span'      : span_slider,\n",
    "                          'n_values'  : max_values_slider,\n",
    "                          'fee_pct'   : fee_slider,\n",
    "                          'date_range': date_range_slider,\n",
    "                          }\n",
    "                         )\n",
    "\n",
    "ui = TwoByTwoLayout(top_left     = fee_slider,\n",
    "                    top_right    = date_range_slider,\n",
    "                    bottom_left  = span_slider,\n",
    "                    bottom_right = max_values_slider,\n",
    "                    )\n",
    "\n",
    "display(ui, out)"
   ]
  },
  {
   "cell_type": "markdown",
   "metadata": {},
   "source": [
    "#### Interactive buffer-span"
   ]
  },
  {
   "cell_type": "code",
   "execution_count": null,
   "metadata": {
    "ExecuteTime": {
     "end_time": "2021-03-24T08:49:23.067658Z",
     "start_time": "2021-03-24T08:49:21.857471Z"
    }
   },
   "outputs": [],
   "source": [
    "# Buffer-span interactive plot\n",
    "\n",
    "fee_slider = FloatSlider(min=min_fee,\n",
    "                         max=max_fee,\n",
    "                         step=delta_fee,\n",
    "                         value=default_fee,\n",
    "                         description='Fees (%):',\n",
    "                         style=string_style,\n",
    "                         disabled=False,\n",
    "                         continuous_update=False,\n",
    "                         readout=True,\n",
    "                         readout_format='.2%',\n",
    "                         layout={'width': '250px'},\n",
    "                         )\n",
    "\n",
    "span_slider = IntSlider(min=min_span,\n",
    "                        max=max_span,\n",
    "                        step=delta_span,\n",
    "                        value=default_span,\n",
    "                        description='Mean span:',\n",
    "                        style=string_style,\n",
    "                        disabled=False,\n",
    "                        continuous_update=False,\n",
    "                        readout=True,\n",
    "                        readout_format='d',\n",
    "                        layout={'width': '250px'},\n",
    "                        )\n",
    "\n",
    "buffer_slider = FloatSlider(min=min_buffer,\n",
    "                            max=max_buffer,\n",
    "                            step=delta_buffer,\n",
    "                            value=default_buffer,\n",
    "                            style=string_style,\n",
    "                            continuous_update=False,\n",
    "                            description='Buffer (%):',\n",
    "                            disabled=False,\n",
    "                            readout=True,\n",
    "                            readout_format='.2%',\n",
    "                            layout={'width': '500px'},\n",
    "                            )\n",
    "\n",
    "# Date range slider\n",
    "date_range_slider = SelectionRangeSlider(options = options,\n",
    "                                         index   = index,\n",
    "                                         description = 'Period:',\n",
    "                                         orientation = 'horizontal',\n",
    "                                         style       = string_style,\n",
    "                                         layout      = {'width': '500px'}\n",
    "                                        )\n",
    "\n",
    "\n",
    "out = interactive_output(plot_moving,\n",
    "                         {'span'      : span_slider,\n",
    "                          'buffer'    : buffer_slider,\n",
    "                          'fee_pct'   : fee_slider,\n",
    "                          'date_range': date_range_slider,\n",
    "                          }\n",
    "                         )\n",
    "\n",
    "ui = TwoByTwoLayout(top_left     = fee_slider,\n",
    "                    top_right    = date_range_slider,\n",
    "                    bottom_left  = span_slider,\n",
    "                    bottom_right = buffer_slider,\n",
    "                    )\n",
    "\n",
    "display(ui, out)"
   ]
  },
  {
   "cell_type": "code",
   "execution_count": null,
   "metadata": {},
   "outputs": [],
   "source": []
  }
 ],
 "metadata": {
  "hide_input": false,
  "kernelspec": {
   "display_name": "Python 3",
   "language": "python",
   "name": "python3"
  },
  "language_info": {
   "codemirror_mode": {
    "name": "ipython",
    "version": 3
   },
   "file_extension": ".py",
   "mimetype": "text/x-python",
   "name": "python",
   "nbconvert_exporter": "python",
   "pygments_lexer": "ipython3",
   "version": "3.8.5"
  },
  "toc": {
   "base_numbering": 1,
   "nav_menu": {},
   "number_sections": false,
   "sideBar": true,
   "skip_h1_title": false,
   "title_cell": "Table of Contents",
   "title_sidebar": "Contents",
   "toc_cell": false,
   "toc_position": {
    "height": "calc(100% - 180px)",
    "left": "10px",
    "top": "150px",
    "width": "234.238px"
   },
   "toc_section_display": true,
   "toc_window_display": false
  }
 },
 "nbformat": 4,
 "nbformat_minor": 4
}
