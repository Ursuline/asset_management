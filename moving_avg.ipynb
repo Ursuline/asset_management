{
 "cells": [
  {
   "cell_type": "markdown",
   "metadata": {},
   "source": [
    "# Moving average trading"
   ]
  },
  {
   "cell_type": "code",
   "execution_count": 25,
   "metadata": {
    "ExecuteTime": {
     "end_time": "2021-03-24T08:33:12.866792Z",
     "start_time": "2021-03-24T08:33:11.503669Z"
    }
   },
   "outputs": [
    {
     "name": "stdout",
     "output_type": "stream",
     "text": [
      "The autoreload extension is already loaded. To reload it, use:\n",
      "  %reload_ext autoreload\n"
     ]
    }
   ],
   "source": [
    "import os\n",
    "import sys\n",
    "import pandas as pd\n",
    "import numpy as np\n",
    "from datetime import datetime\n",
    "from datetime import timedelta\n",
    "import matplotlib.pyplot as plt\n",
    "\n",
    "import ipywidgets as widgets\n",
    "from ipywidgets import TwoByTwoLayout\n",
    "from ipywidgets import HBox, VBox, Label\n",
    "from ipywidgets import interactive_output, jslink\n",
    "from ipywidgets import FloatSlider, IntSlider, SelectionSlider, SelectionRangeSlider\n",
    "from ipywidgets import FloatText, IntText\n",
    "from IPython.display import display\n",
    "\n",
    "import trading as tra\n",
    "import trading_plots as trp\n",
    "import trading_defaults as dft\n",
    "\n",
    "%matplotlib inline\n",
    "%load_ext autoreload\n",
    "%autoreload 2"
   ]
  },
  {
   "cell_type": "markdown",
   "metadata": {},
   "source": [
    "### Default parameters"
   ]
  },
  {
   "cell_type": "code",
   "execution_count": 26,
   "metadata": {
    "ExecuteTime": {
     "end_time": "2021-03-24T08:33:12.908667Z",
     "start_time": "2021-03-24T08:33:12.868472Z"
    },
    "hide_input": false
   },
   "outputs": [
    {
     "name": "stdout",
     "output_type": "stream",
     "text": [
      "2021-03-25\n"
     ]
    }
   ],
   "source": [
    "TICKER     = 'AAPL'\n",
    "REFRESH    = True # Download fresh Yahoo data \n",
    "\n",
    "START_DATE = '2020-07-17'\n",
    "END_DATE   = datetime.strftime(datetime.now()- timedelta(days = 1), '%Y-%m-%d') #yesterday\n",
    "print(END_DATE)"
   ]
  },
  {
   "cell_type": "markdown",
   "metadata": {},
   "source": [
    "### Data download"
   ]
  },
  {
   "cell_type": "code",
   "execution_count": 3,
   "metadata": {
    "ExecuteTime": {
     "end_time": "2021-03-24T08:33:13.010792Z",
     "start_time": "2021-03-24T08:33:12.910998Z"
    }
   },
   "outputs": [
    {
     "name": "stdout",
     "output_type": "stream",
     "text": [
      "Downloading data from Yahoo Finance\n",
      "Loading ticker AAPL\n",
      "[*********************100%***********************]  1 of 1 completed\n"
     ]
    }
   ],
   "source": [
    "try:\n",
    "    raw = tra.load_security(dirname = dft.DATA_DIR, \n",
    "                            ticker  = TICKER, \n",
    "                            refresh = REFRESH, \n",
    "                            period  = dft.DEFAULT_PERIOD,\n",
    "                            )\n",
    "except IndexError:\n",
    "        print(f'Could not load {TICKER}')\n",
    "except:\n",
    "    print(f'Error type {sys.exc_info()[0]}')\n",
    "else:\n",
    "    security = pd.DataFrame(raw[f'Close_{TICKER}'])\n",
    "    security.rename(columns={f'Close_{TICKER}': \"Close\"},\n",
    "                    inplace=True)\n",
    "\n",
    "    security"
   ]
  },
  {
   "cell_type": "markdown",
   "metadata": {},
   "source": [
    "#### Setup default start & end dates"
   ]
  },
  {
   "cell_type": "code",
   "execution_count": 4,
   "metadata": {
    "ExecuteTime": {
     "end_time": "2021-03-24T08:33:13.054428Z",
     "start_time": "2021-03-24T08:33:13.013262Z"
    }
   },
   "outputs": [
    {
     "name": "stdout",
     "output_type": "stream",
     "text": [
      "[datetime.datetime(2020, 7, 17, 0, 0), datetime.datetime(2021, 3, 24, 0, 0)]\n"
     ]
    }
   ],
   "source": [
    "# Check dates \n",
    "#print(tra.get_title_dates(security, START_DATE, END_DATE))\n",
    "print(tra.get_datetime_date_range(security, START_DATE, END_DATE))\n",
    "#print(tra.get_filename_dates(security, START_DATE, END_DATE))"
   ]
  },
  {
   "cell_type": "markdown",
   "metadata": {},
   "source": [
    "## Plotting functions"
   ]
  },
  {
   "cell_type": "code",
   "execution_count": 5,
   "metadata": {},
   "outputs": [],
   "source": [
    "def plot_moving(span, date_range, fee_pct, buffer):\n",
    "    trp.plot_moving(TICKER, date_range, security,span, fee_pct, buffer)"
   ]
  },
  {
   "cell_type": "code",
   "execution_count": 6,
   "metadata": {},
   "outputs": [],
   "source": [
    "def plot_span_range(buffer, n_values, fee_pct, date_range):\n",
    "    trp.plot_span_range(buffer     = buffer, \n",
    "                        n_values   = n_values, \n",
    "                        fee_pct    = fee_pct, \n",
    "                        date_range = date_range, \n",
    "                        ticker     = TICKER, \n",
    "                        security   = security, \n",
    "                       )"
   ]
  },
  {
   "cell_type": "code",
   "execution_count": 7,
   "metadata": {},
   "outputs": [],
   "source": [
    "#### test driver for trp.plot_span_range\n",
    "plot = False\n",
    "\n",
    "if plot:\n",
    "    plot_span_range(buffer     = .01, \n",
    "                    n_values   = 12, \n",
    "                    fee_pct    = FEE_PCT, \n",
    "                    date_range = [datetime.strptime(START_DATE, '%Y-%m-%d'), \n",
    "                                  datetime.strptime(END_DATE, '%Y-%m-%d')], \n",
    "                   )"
   ]
  },
  {
   "cell_type": "code",
   "execution_count": 8,
   "metadata": {},
   "outputs": [],
   "source": [
    "def plot_buffer_range(span, n_values, fee_pct, date_range):\n",
    "    trp.plot_buffer_range(span       = span, \n",
    "                          n_values   = n_values, \n",
    "                          fee_pct    = fee_pct, \n",
    "                          date_range = date_range, \n",
    "                          ticker     = TICKER, \n",
    "                          security   = security, \n",
    "                         )"
   ]
  },
  {
   "cell_type": "code",
   "execution_count": 9,
   "metadata": {},
   "outputs": [],
   "source": [
    "#### test driver for trp.plot_span_range\n",
    "plot = False\n",
    "if plot:\n",
    "    plot_buffer_range(span       = 20, \n",
    "                      n_values   = 12, \n",
    "                      fee_pct    = FEE_PCT, \n",
    "                      date_range = [datetime.strptime(START_DATE, '%Y-%m-%d'), \n",
    "                                    datetime.strptime(END_DATE, '%Y-%m-%d')], \n",
    "                     )"
   ]
  },
  {
   "cell_type": "code",
   "execution_count": 15,
   "metadata": {},
   "outputs": [
    {
     "name": "stderr",
     "output_type": "stream",
     "text": [
      "Outer Level / 56: 56it [01:05,  1.17s/it]\n"
     ]
    },
    {
     "name": "stdout",
     "output_type": "stream",
     "text": [
      "\n",
      "Max EMA 0=19.76%: 5-days buffer=1.17% (hold=25.30%)\n",
      "Max EMA 1=19.76%: 6-days buffer=1.14% (hold=25.30%)\n",
      "Max EMA 2=19.76%: 6-days buffer=1.17% (hold=25.30%)\n",
      "Max EMA 3=19.73%: 5-days buffer=2.58% (hold=25.30%)\n",
      "Max EMA 4=19.73%: 5-days buffer=2.61% (hold=25.30%)\n",
      "Max EMA 5=19.73%: 5-days buffer=2.64% (hold=25.30%)\n",
      "Max EMA 6=19.73%: 5-days buffer=2.67% (hold=25.30%)\n",
      "Max EMA 7=19.73%: 5-days buffer=2.70% (hold=25.30%)\n",
      "Max EMA 8=19.73%: 5-days buffer=2.73% (hold=25.30%)\n",
      "Max EMA 9=19.73%: 5-days buffer=2.76% (hold=25.30%)\n"
     ]
    },
    {
     "data": {
      "image/png": "[encoded data removed]",
      "text/plain": [
       "<Figure size 1008x1008 with 2 Axes>"
      ]
     },
     "metadata": {
      "needs_background": "light"
     },
     "output_type": "display_data"
    }
   ],
   "source": [
    "# Driver for plot_buffer_span_contours\n",
    "plot = True\n",
    "if plot:\n",
    "    date_range = tra.get_datetime_date_range(security, START_DATE, END_DATE)\n",
    "    spans, buffers, emas, hold = tra.build_ema_map(TICKER, security, date_range)\n",
    "    trp.plot_buffer_span_contours(TICKER, date_range, spans, buffers, emas, hold)"
   ]
  },
  {
   "cell_type": "code",
   "execution_count": null,
   "metadata": {},
   "outputs": [],
   "source": [
    "x = []\n",
    "for i, span in enumerate(spans): \n",
    "    for j, buffer in enumerate(buffers):\n",
    "        x.append([span, buffer, emas[i,j]])\n",
    "        \n",
    "x = pd.DataFrame(x, columns=['span', 'buffer', 'ema'])"
   ]
  },
  {
   "cell_type": "markdown",
   "metadata": {},
   "source": [
    "### Interactive plots"
   ]
  },
  {
   "cell_type": "markdown",
   "metadata": {
    "ExecuteTime": {
     "end_time": "2021-03-22T12:10:46.432031Z",
     "start_time": "2021-03-22T12:10:46.387091Z"
    }
   },
   "source": [
    "#### Widget defaults"
   ]
  },
  {
   "cell_type": "code",
   "execution_count": null,
   "metadata": {
    "ExecuteTime": {
     "end_time": "2021-03-24T08:49:03.924569Z",
     "start_time": "2021-03-24T08:49:03.892176Z"
    }
   },
   "outputs": [],
   "source": [
    "### Default parameter values\n",
    "string_style = {'description_width': 'initial', \n",
    "                'handle_color':      'lawngreen'}\n",
    "\n",
    "start_period, end_period = tra.get_datetime_dates(security, START_DATE, END_DATE)\n",
    "dates        = pd.date_range(start_period, end_period, freq='D')\n",
    "date_options = [(date.strftime(' %d/%m/%Y'), date) for date in dates]\n",
    "date_index   = (0, len(date_options) - 1)\n",
    "\n",
    "# Tx/broker's fee\n",
    "min_fee     = 0.0\n",
    "max_fee     = .01\n",
    "delta_fee   = .0005\n",
    "default_fee = dft.FEE_PCT\n",
    "\n",
    "# of days for running mean\n",
    "min_span     = dft.MIN_SPAN\n",
    "max_span     = dft.MAX_SPAN\n",
    "delta_span   = 1\n",
    "default_span = 20\n",
    "\n",
    "# buffer around EMA\n",
    "min_buffer     = dft.MIN_BUFF\n",
    "max_buffer     = dft.MAX_BUFF\n",
    "delta_buffer   = .0001\n",
    "default_buffer = .01\n",
    "\n",
    "# number of maxima\n",
    "max_value     = 15\n",
    "default_value = 12"
   ]
  },
  {
   "cell_type": "code",
   "execution_count": null,
   "metadata": {},
   "outputs": [],
   "source": [
    "## Widget methods\n",
    "\n",
    "### Sliders\n",
    "def get_span_slider():\n",
    "    return IntSlider(min = min_span,\n",
    "                     max=max_span,\n",
    "                     step=delta_span,\n",
    "                     value=default_span,\n",
    "                     style=string_style,\n",
    "                     disabled=False,\n",
    "                     continuous_update=False,\n",
    "                     readout=True,\n",
    "                     readout_format='d',\n",
    "                     layout = {'width': '250px'},\n",
    "                    )\n",
    "\n",
    "def get_buffer_slider():\n",
    "    return FloatSlider(min=min_buffer,\n",
    "                        max=max_buffer,\n",
    "                        step=delta_buffer,\n",
    "                        value=default_buffer,\n",
    "                        style=string_style,\n",
    "                        continuous_update=False,\n",
    "                        disabled=False,\n",
    "                        readout=True,\n",
    "                        readout_format='.2%',\n",
    "                        layout      = {'width': '250px'},\n",
    "                       )\n",
    "    \n",
    "def get_fee_slider():\n",
    "    return FloatSlider(min=min_fee,\n",
    "                       max=max_fee,\n",
    "                       step=delta_fee,\n",
    "                       value=default_fee,\n",
    "                       style=string_style,\n",
    "                       disabled=False,\n",
    "                       continuous_update=False,\n",
    "                       readout=True,\n",
    "                       readout_format='.2%',\n",
    "                       layout      = {'width': '250px'},\n",
    "                      )\n",
    "\n",
    "def get_max_values_slider():\n",
    "   return SelectionSlider(options=[x for x in range(0, max_value+1)],\n",
    "                          value=default_value,\n",
    "                          description='Number of maxima:',\n",
    "                          style=string_style,\n",
    "                          disabled=False,\n",
    "                          continuous_update=False,\n",
    "                          readout=True,\n",
    "                          readout_format='d',\n",
    "                          layout      = {'width': '500px'},\n",
    "                          )\n",
    "                       \n",
    "def get_date_range_slider():\n",
    "    return SelectionRangeSlider(options  = date_options,\n",
    "                                 index   = date_index,\n",
    "                                 description = 'Period:',\n",
    "                                 orientation = 'horizontal',\n",
    "                                 style       = string_style,\n",
    "                                 layout      = {'width': '500px'}\n",
    "                                )\n",
    "### Text boxes\n",
    "def get_fee_text_box():\n",
    "    return FloatText(min=min_fee,\n",
    "                     max=max_fee,\n",
    "                     step=delta_fee,\n",
    "                     value=default_fee,\n",
    "                     description='Fees:',\n",
    "                     style=string_style,\n",
    "                     disabled=False,\n",
    "                     readout_format='6.3%',\n",
    "                     layout={'width': '150px'},\n",
    "                    )\n",
    "                       \n",
    "def get_span_text_box():\n",
    "    return IntText(min   = min_span,\n",
    "                   max   = max_span,\n",
    "                   step  = delta_span,\n",
    "                   value = default_span,\n",
    "                   style          = string_style,\n",
    "                   disabled       = False,\n",
    "                   description    = 'Span:',\n",
    "                   readout_format = 'd',\n",
    "                   layout={'width': '150px'},\n",
    "                   )\n",
    "                       \n",
    "def get_buffer_text_box():\n",
    "    return FloatText(min   = min_fee,\n",
    "                     max   = max_fee,\n",
    "                     step  = delta_fee,\n",
    "                     value = default_fee,\n",
    "                     style       = string_style,\n",
    "                     disabled    = False,\n",
    "                     description = 'Buffer:',\n",
    "                     readout_format = '3%',\n",
    "                     layout = {'width': '150px'},\n",
    "                    )"
   ]
  },
  {
   "cell_type": "markdown",
   "metadata": {},
   "source": [
    "#### Interactive returns for window span"
   ]
  },
  {
   "cell_type": "code",
   "execution_count": null,
   "metadata": {
    "ExecuteTime": {
     "end_time": "2021-03-24T08:49:12.076496Z",
     "start_time": "2021-03-24T08:49:06.202921Z"
    }
   },
   "outputs": [],
   "source": [
    "# Mean window span range optimizer interactive\n",
    "buffer_slider   = get_buffer_slider()\n",
    "buffer_text_box = get_buffer_text_box()\n",
    "buffer_link     = jslink((buffer_slider, 'value'), (buffer_text_box, 'value'))\n",
    "\n",
    "max_values_slider   = get_max_values_slider()\n",
    "\n",
    "fee_slider   = get_fee_slider()\n",
    "fee_text_box = get_fee_text_box()\n",
    "fee_link     = jslink((fee_slider, 'value'), (fee_text_box, 'value'))\n",
    "\n",
    "date_range_slider = get_date_range_slider()\n",
    "\n",
    "fee_widgets    = HBox([fee_text_box, fee_slider])\n",
    "buffer_widgets = HBox([buffer_text_box, buffer_slider])\n",
    "\n",
    "out = interactive_output(plot_span_range,\n",
    "                         {'buffer'    : buffer_slider,\n",
    "                          'n_values'  : max_values_slider,\n",
    "                          'fee_pct'   : fee_slider,\n",
    "                          'date_range': date_range_slider,\n",
    "                         }\n",
    "                        )\n",
    "\n",
    "ui = TwoByTwoLayout(top_left     = fee_widgets,\n",
    "                    top_right    = date_range_slider,\n",
    "                    bottom_left  = buffer_widgets,\n",
    "                    bottom_right = max_values_slider,\n",
    "                   )\n",
    "\n",
    "display(ui, out)"
   ]
  },
  {
   "cell_type": "markdown",
   "metadata": {},
   "source": [
    "#### Interactive returns for buffer size"
   ]
  },
  {
   "cell_type": "code",
   "execution_count": null,
   "metadata": {
    "ExecuteTime": {
     "end_time": "2021-03-24T08:49:21.855189Z",
     "start_time": "2021-03-24T08:49:12.081397Z"
    }
   },
   "outputs": [],
   "source": [
    "# Buffer range optimizer interactive \n",
    "span_slider   = get_span_slider()\n",
    "span_text_box = get_span_text_box()\n",
    "span_link     = jslink((span_slider, 'value'), (span_text_box, 'value'))\n",
    "\n",
    "max_values_slider = get_max_values_slider()\n",
    "\n",
    "fee_slider   = get_fee_slider()\n",
    "fee_text_box = get_fee_text_box()\n",
    "fee_link     = jslink((fee_slider, 'value'), (fee_text_box, 'value'))\n",
    "\n",
    "date_range_slider = get_date_range_slider()\n",
    "\n",
    "fee_widgets    = HBox([fee_text_box, fee_slider])\n",
    "span_widgets = HBox([span_text_box, span_slider])\n",
    "\n",
    "out = interactive_output(plot_buffer_range,\n",
    "                         {'span'      : span_slider,\n",
    "                          'n_values'  : max_values_slider,\n",
    "                          'fee_pct'   : fee_slider,\n",
    "                          'date_range': date_range_slider,\n",
    "                          }\n",
    "                         )\n",
    "\n",
    "ui = TwoByTwoLayout(top_left     = fee_widgets,\n",
    "                    top_right    = date_range_slider,\n",
    "                    bottom_left  = span_widgets,\n",
    "                    bottom_right = max_values_slider,\n",
    "                    )\n",
    "\n",
    "display(ui, out)"
   ]
  },
  {
   "cell_type": "markdown",
   "metadata": {},
   "source": [
    "#### Interactive buffer-span"
   ]
  },
  {
   "cell_type": "code",
   "execution_count": null,
   "metadata": {
    "ExecuteTime": {
     "end_time": "2021-03-24T08:49:23.067658Z",
     "start_time": "2021-03-24T08:49:21.857471Z"
    },
    "scrolled": false
   },
   "outputs": [],
   "source": [
    "# Buffer-span interactive plot\n",
    "fee_slider   = get_fee_slider()\n",
    "fee_text_box = get_fee_text_box()\n",
    "fee_link     = jslink((fee_slider, 'value'), (fee_text_box, 'value'))\n",
    "\n",
    "span_slider   = get_span_slider()\n",
    "span_text_box = get_span_text_box()\n",
    "span_link     = jslink((span_slider, 'value'), (span_text_box, 'value'))\n",
    "\n",
    "buffer_slider   = get_buffer_slider()\n",
    "buffer_text_box = get_buffer_text_box()\n",
    "buffer_link     = jslink((buffer_slider, 'value'), (buffer_text_box, 'value'))\n",
    "\n",
    "date_range_slider = get_date_range_slider()\n",
    "\n",
    "out = interactive_output(plot_moving,\n",
    "                         {'span'      : span_slider,\n",
    "                          'buffer'    : buffer_slider,\n",
    "                          'fee_pct'   : fee_slider,\n",
    "                          'date_range': date_range_slider,\n",
    "                          }\n",
    "                         )\n",
    "\n",
    "fee_widgets    = HBox([fee_text_box, fee_slider])\n",
    "span_widgets   = HBox([span_text_box, span_slider])\n",
    "buffer_widgets = HBox([buffer_text_box, buffer_slider])\n",
    "\n",
    "ui = TwoByTwoLayout(top_left     = fee_widgets,\n",
    "                    top_right    = date_range_slider,\n",
    "                    bottom_left  = span_widgets,\n",
    "                    bottom_right = buffer_widgets,\n",
    "                   )\n",
    "\n",
    "display(ui, out)"
   ]
  },
  {
   "cell_type": "code",
   "execution_count": null,
   "metadata": {},
   "outputs": [],
   "source": []
  }
 ],
 "metadata": {
  "hide_input": false,
  "kernelspec": {
   "display_name": "Python 3",
   "language": "python",
   "name": "python3"
  },
  "language_info": {
   "codemirror_mode": {
    "name": "ipython",
    "version": 3
   },
   "file_extension": ".py",
   "mimetype": "text/x-python",
   "name": "python",
   "nbconvert_exporter": "python",
   "pygments_lexer": "ipython3",
   "version": "3.8.5"
  },
  "toc": {
   "base_numbering": 1,
   "nav_menu": {},
   "number_sections": false,
   "sideBar": true,
   "skip_h1_title": false,
   "title_cell": "Table of Contents",
   "title_sidebar": "Contents",
   "toc_cell": false,
   "toc_position": {
    "height": "calc(100% - 180px)",
    "left": "10px",
    "top": "150px",
    "width": "234.238px"
   },
   "toc_section_display": true,
   "toc_window_display": false
  }
 },
 "nbformat": 4,
 "nbformat_minor": 4
}
