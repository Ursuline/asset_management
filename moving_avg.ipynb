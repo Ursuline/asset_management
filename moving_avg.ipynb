{
 "cells": [
  {
   "cell_type": "markdown",
   "metadata": {},
   "source": [
    "# EMA trading"
   ]
  },
  {
   "cell_type": "code",
   "execution_count": 1,
   "metadata": {
    "ExecuteTime": {
     "end_time": "2021-03-24T08:33:12.866792Z",
     "start_time": "2021-03-24T08:33:11.503669Z"
    }
   },
   "outputs": [],
   "source": [
    "import os\n",
    "import sys\n",
    "import pandas as pd\n",
    "import numpy as np\n",
    "from datetime import datetime\n",
    "from datetime import timedelta\n",
    "import matplotlib.pyplot as plt\n",
    "import plotly.graph_objects as go\n",
    "\n",
    "from statsmodels.graphics.tsaplots import plot_pacf, plot_acf\n",
    "\n",
    "import ipywidgets as widgets\n",
    "from ipywidgets import TwoByTwoLayout\n",
    "from ipywidgets import HBox, VBox, Label\n",
    "from ipywidgets import interactive_output, jslink\n",
    "from ipywidgets import FloatSlider, IntSlider, SelectionSlider, SelectionRangeSlider\n",
    "from ipywidgets import FloatText, IntText, Dropdown\n",
    "from IPython.display import display, clear_output\n",
    "\n",
    "import trading as tra\n",
    "import trading_plots as trp\n",
    "import trading_defaults as dft\n",
    "\n",
    "%matplotlib inline\n",
    "%load_ext autoreload\n",
    "%autoreload 2\n",
    "%load_ext snakeviz"
   ]
  },
  {
   "cell_type": "markdown",
   "metadata": {},
   "source": [
    "### Default parameters"
   ]
  },
  {
   "cell_type": "code",
   "execution_count": 2,
   "metadata": {
    "ExecuteTime": {
     "end_time": "2021-03-24T08:33:12.908667Z",
     "start_time": "2021-03-24T08:33:12.868472Z"
    },
    "hide_input": false
   },
   "outputs": [],
   "source": [
    "color_schemes = dft.SURFACE_COLOR_SCHEMES\n",
    "START_DATE = '2017-07-15'\n",
    "TODAY     = dft.TODAY"
   ]
  },
  {
   "cell_type": "code",
   "execution_count": 3,
   "metadata": {},
   "outputs": [
    {
     "name": "stdout",
     "output_type": "stream",
     "text": [
      "2017-07-15 -> 2021-04-06\n"
     ]
    }
   ],
   "source": [
    "END_DATE = dft.TODAY\n",
    "END_DATE = '2021-04-06'\n",
    "\n",
    "TICKER     = 'CPR.MI'\n",
    "REFRESH    = False # Download fresh Yahoo data \n",
    "print(START_DATE, '->',END_DATE)"
   ]
  },
  {
   "cell_type": "markdown",
   "metadata": {},
   "source": [
    "### Data download"
   ]
  },
  {
   "cell_type": "code",
   "execution_count": 4,
   "metadata": {
    "ExecuteTime": {
     "end_time": "2021-03-24T08:33:13.010792Z",
     "start_time": "2021-03-24T08:33:12.910998Z"
    }
   },
   "outputs": [
    {
     "name": "stdout",
     "output_type": "stream",
     "text": [
      "Loading data from data/CPR.MI/CPR.MI_5y.pkl\n",
      "            Close_CPR.MI  Vol_CPR.MI\n",
      "Date                                \n",
      "2016-04-06     4.1658611     2900002\n",
      "2016-04-07     4.1418362     3580106\n",
      "2016-04-08     4.2042999     2413272\n",
      "2016-04-11     4.1370316     2580850\n",
      "2016-04-12     4.0841770     3861606\n",
      "...                  ...         ...\n",
      "2021-03-29     9.6759996     1341327\n",
      "2021-03-30     9.6820002     1140887\n",
      "2021-03-31     9.5520000     1617999\n",
      "2021-04-01     9.5579996     1495167\n",
      "2021-04-06     9.6300001     1022092\n",
      "\n",
      "[1269 rows x 2 columns]\n"
     ]
    },
    {
     "data": {
      "text/html": [
       "<div>\n",
       "<style scoped>\n",
       "    .dataframe tbody tr th:only-of-type {\n",
       "        vertical-align: middle;\n",
       "    }\n",
       "\n",
       "    .dataframe tbody tr th {\n",
       "        vertical-align: top;\n",
       "    }\n",
       "\n",
       "    .dataframe thead th {\n",
       "        text-align: right;\n",
       "    }\n",
       "</style>\n",
       "<table border=\"1\" class=\"dataframe\">\n",
       "  <thead>\n",
       "    <tr style=\"text-align: right;\">\n",
       "      <th></th>\n",
       "      <th>Close</th>\n",
       "    </tr>\n",
       "    <tr>\n",
       "      <th>Date</th>\n",
       "      <th></th>\n",
       "    </tr>\n",
       "  </thead>\n",
       "  <tbody>\n",
       "    <tr>\n",
       "      <th>2016-04-06</th>\n",
       "      <td>4.1658611</td>\n",
       "    </tr>\n",
       "    <tr>\n",
       "      <th>2016-04-07</th>\n",
       "      <td>4.1418362</td>\n",
       "    </tr>\n",
       "    <tr>\n",
       "      <th>2016-04-08</th>\n",
       "      <td>4.2042999</td>\n",
       "    </tr>\n",
       "    <tr>\n",
       "      <th>2016-04-11</th>\n",
       "      <td>4.1370316</td>\n",
       "    </tr>\n",
       "    <tr>\n",
       "      <th>2016-04-12</th>\n",
       "      <td>4.0841770</td>\n",
       "    </tr>\n",
       "    <tr>\n",
       "      <th>...</th>\n",
       "      <td>...</td>\n",
       "    </tr>\n",
       "    <tr>\n",
       "      <th>2021-03-29</th>\n",
       "      <td>9.6759996</td>\n",
       "    </tr>\n",
       "    <tr>\n",
       "      <th>2021-03-30</th>\n",
       "      <td>9.6820002</td>\n",
       "    </tr>\n",
       "    <tr>\n",
       "      <th>2021-03-31</th>\n",
       "      <td>9.5520000</td>\n",
       "    </tr>\n",
       "    <tr>\n",
       "      <th>2021-04-01</th>\n",
       "      <td>9.5579996</td>\n",
       "    </tr>\n",
       "    <tr>\n",
       "      <th>2021-04-06</th>\n",
       "      <td>9.6300001</td>\n",
       "    </tr>\n",
       "  </tbody>\n",
       "</table>\n",
       "<p>1269 rows × 1 columns</p>\n",
       "</div>"
      ],
      "text/plain": [
       "                Close\n",
       "Date                 \n",
       "2016-04-06  4.1658611\n",
       "2016-04-07  4.1418362\n",
       "2016-04-08  4.2042999\n",
       "2016-04-11  4.1370316\n",
       "2016-04-12  4.0841770\n",
       "...               ...\n",
       "2021-03-29  9.6759996\n",
       "2021-03-30  9.6820002\n",
       "2021-03-31  9.5520000\n",
       "2021-04-01  9.5579996\n",
       "2021-04-06  9.6300001\n",
       "\n",
       "[1269 rows x 1 columns]"
      ]
     },
     "execution_count": 4,
     "metadata": {},
     "output_type": "execute_result"
    }
   ],
   "source": [
    "try:\n",
    "    raw, ticker_name = tra.load_security(dirname = dft.DATA_DIR, \n",
    "                                        ticker  = TICKER, \n",
    "                                        refresh = REFRESH, \n",
    "                                        period  = dft.DEFAULT_PERIOD,\n",
    "                                        )\n",
    "    print (raw)\n",
    "except IndexError:\n",
    "        print(f'Could not load {TICKER}')\n",
    "except:\n",
    "    print(f'Error type {sys.exc_info()[0]}')\n",
    "else:\n",
    "    security = pd.DataFrame(raw[f'Close_{TICKER}'])\n",
    "    security.rename(columns={f'Close_{TICKER}': \"Close\"},\n",
    "                    inplace=True)\n",
    "security"
   ]
  },
  {
   "cell_type": "markdown",
   "metadata": {},
   "source": [
    "#### Setup default start & end dates"
   ]
  },
  {
   "cell_type": "code",
   "execution_count": 5,
   "metadata": {
    "ExecuteTime": {
     "end_time": "2021-03-24T08:33:13.054428Z",
     "start_time": "2021-03-24T08:33:13.013262Z"
    }
   },
   "outputs": [
    {
     "name": "stdout",
     "output_type": "stream",
     "text": [
      "[datetime.datetime(2017, 7, 15, 0, 0), datetime.datetime(2021, 4, 6, 0, 0)]\n"
     ]
    }
   ],
   "source": [
    "# Check dates \n",
    "date_range = tra.get_datetime_date_range(security, START_DATE, END_DATE)\n",
    "#print(tra.get_title_dates(security, START_DATE, END_DATE))\n",
    "print(tra.get_datetime_date_range(security, START_DATE, END_DATE))\n",
    "#print(tra.get_filename_dates(security, START_DATE, END_DATE))"
   ]
  },
  {
   "cell_type": "code",
   "execution_count": 6,
   "metadata": {},
   "outputs": [],
   "source": [
    "def save_figure(plot_dir, prefix, dpi=360, extension='png'):\n",
    "    '''\n",
    "    Saves figure to file\n",
    "    variables:\n",
    "        plot_dir - directory to plot to\n",
    "        prefix   - filename without its extension\n",
    "    '''\n",
    "    filename = f'{prefix}.{extension}'\n",
    "    pathname = os.path.join(plot_dir, filename)\n",
    "    print(f'Saving to {pathname}')\n",
    "    try:\n",
    "        plt.savefig(pathname,\n",
    "                    dpi = dpi,\n",
    "                    transparent = False,\n",
    "                    facecolor='white',\n",
    "                    edgecolor='none',\n",
    "                    orientation = 'landscape',\n",
    "                    bbox_inches = 'tight'\n",
    "                    )\n",
    "    except TypeError as ex:\n",
    "        print(f'Could not save to {pathname}: {ex}')\n",
    "    except:\n",
    "        print(f'Error type {sys.exc_info()[0]}')\n",
    "    else:\n",
    "        pass"
   ]
  },
  {
   "cell_type": "markdown",
   "metadata": {},
   "source": [
    "## Plotting functions"
   ]
  },
  {
   "cell_type": "code",
   "execution_count": 7,
   "metadata": {},
   "outputs": [],
   "source": [
    "def plot_time_series(span, display_dates, fee_pct, buffer, price_flag, ema_flag, buffer_flag, arrow_flag, stats_flag):\n",
    "    save_flag = False\n",
    "    flags = [price_flag, ema_flag, buffer_flag, arrow_flag, stats_flag, save_flag]\n",
    "    trp.plot_time_series(ticker      = TICKER, \n",
    "                         ticker_name = ticker_name, \n",
    "                         date_range  = date_range,\n",
    "                         display_dates  = display_dates, \n",
    "                         security    = security, \n",
    "                         span        = span, \n",
    "                         fee_pct     = dft.FEE_PCT, \n",
    "                         buffer      = buffer,\n",
    "                         flags       = flags\n",
    "                        )"
   ]
  },
  {
   "cell_type": "code",
   "execution_count": 8,
   "metadata": {},
   "outputs": [],
   "source": [
    "def plot_span_range(buffer, n_best, fee_pct, date_range):\n",
    "    trp.plot_span_range(buffer      = buffer, \n",
    "                        n_best      = n_best, \n",
    "                        fee_pct     = fee_pct, \n",
    "                        date_range  = date_range, \n",
    "                        ticker      = TICKER, \n",
    "                        ticker_name = ticker_name,\n",
    "                        security    = security, \n",
    "                       )"
   ]
  },
  {
   "cell_type": "code",
   "execution_count": 9,
   "metadata": {},
   "outputs": [],
   "source": [
    "def plot_buffer_range(span, n_best, fee_pct, date_range):\n",
    "    trp.plot_buffer_range(span        = span, \n",
    "                          n_best      = n_best, \n",
    "                          fee_pct     = fee_pct, \n",
    "                          date_range  = date_range, \n",
    "                          ticker      = TICKER, \n",
    "                          ticker_name = ticker_name,\n",
    "                          security    = security, \n",
    "                         )"
   ]
  },
  {
   "cell_type": "code",
   "execution_count": 10,
   "metadata": {},
   "outputs": [
    {
     "name": "stdout",
     "output_type": "stream",
     "text": [
      "CPU times: user 2 µs, sys: 1 µs, total: 3 µs\n",
      "Wall time: 5.01 µs\n"
     ]
    }
   ],
   "source": [
    "# test driver for trp.plot_span_range\n",
    "%time \n",
    "plot = False\n",
    "if plot:\n",
    "    #%prun -D plot_span_range.prof \n",
    "    plot_span_range(buffer     = .01, \n",
    "                    n_best     = 12, \n",
    "                    fee_pct    = dft.FEE_PCT, \n",
    "                    date_range = [datetime.strptime(START_DATE, '%Y-%m-%d'), \n",
    "                                  datetime.strptime(END_DATE, '%Y-%m-%d')], \n",
    "                   )"
   ]
  },
  {
   "cell_type": "code",
   "execution_count": 11,
   "metadata": {},
   "outputs": [
    {
     "name": "stdout",
     "output_type": "stream",
     "text": [
      "CPU times: user 2 µs, sys: 1 µs, total: 3 µs\n",
      "Wall time: 5.25 µs\n"
     ]
    }
   ],
   "source": [
    "# test driver for trp.plot_buffer_range\n",
    "%time \n",
    "plot = False\n",
    "if plot:\n",
    "    %time \n",
    "    #%prun -D plot_buffer_range.prof\n",
    "    plot_buffer_range(span       = 20, \n",
    "                      n_best     = 12, \n",
    "                      fee_pct    = dft.FEE_PCT, \n",
    "                      date_range = [datetime.strptime(START_DATE, '%Y-%m-%d'), \n",
    "                                    datetime.strptime(END_DATE, '%Y-%m-%d')], \n",
    "                    )"
   ]
  },
  {
   "cell_type": "code",
   "execution_count": 12,
   "metadata": {},
   "outputs": [
    {
     "name": "stdout",
     "output_type": "stream",
     "text": [
      "[datetime.datetime(2017, 7, 15, 0, 0), datetime.datetime(2021, 4, 6, 0, 0)]\n"
     ]
    }
   ],
   "source": [
    "date_range = tra.get_datetime_date_range(security, START_DATE, END_DATE)\n",
    "print(date_range)\n",
    "#tra.read_ema_map(TICKER, date_range)\n",
    "#ATO.PA_2017-07-15_2021-03-25_ema_map"
   ]
  },
  {
   "cell_type": "code",
   "execution_count": 13,
   "metadata": {},
   "outputs": [
    {
     "name": "stdout",
     "output_type": "stream",
     "text": [
      "Loading EMA map from file\n"
     ]
    }
   ],
   "source": [
    "def load_ema():\n",
    "    date_range = tra.get_datetime_date_range(security, START_DATE, END_DATE)\n",
    "    if os.path.exists(tra.get_ema_map_filename(TICKER, date_range)):\n",
    "        print('Loading EMA map from file')\n",
    "        spans, buffers, emas, hold  = tra.read_ema_map(TICKER, date_range,)\n",
    "    else: # If not saved, compute it & save it to file\n",
    "        print('Computing EMA map')\n",
    "        spans, buffers, emas, hold = tra.build_ema_map(TICKER, security, date_range,)\n",
    "        tra.save_ema_map(TICKER, date_range, spans, buffers, emas, hold)\n",
    "    return spans, buffers, emas, hold\n",
    "\n",
    "spans, buffers, emas, hold = load_ema()"
   ]
  },
  {
   "cell_type": "code",
   "execution_count": 14,
   "metadata": {},
   "outputs": [
    {
     "name": "stdout",
     "output_type": "stream",
     "text": [
      "CPU times: user 2 µs, sys: 0 ns, total: 2 µs\n",
      "Wall time: 5.01 µs\n",
      "\n",
      "Max EMA 0=55.43%: 25-days buffer=2.80% (hold=57.96%)\n",
      "Max EMA 1=52.24%: 26-days buffer=2.77% (hold=57.96%)\n",
      "Max EMA 2=51.78%: 30-days buffer=2.24% (hold=57.96%)\n",
      "Max EMA 3=51.78%: 31-days buffer=2.21% (hold=57.96%)\n",
      "Max EMA 4=51.24%: 31-days buffer=2.17% (hold=57.96%)\n",
      "Max EMA 5=50.72%: 23-days buffer=2.91% (hold=57.96%)\n",
      "Max EMA 6=50.72%: 24-days buffer=2.84% (hold=57.96%)\n",
      "Max EMA 7=49.88%: 32-days buffer=2.21% (hold=57.96%)\n",
      "Max EMA 8=49.35%: 32-days buffer=2.14% (hold=57.96%)\n",
      "Max EMA 9=49.35%: 32-days buffer=2.17% (hold=57.96%)\n"
     ]
    },
    {
     "data": {
      "image/png": "[encoded data removed]",
      "text/plain": [
       "<Figure size 1008x1008 with 2 Axes>"
      ]
     },
     "metadata": {
      "needs_background": "light"
     },
     "output_type": "display_data"
    }
   ],
   "source": [
    "# Driver for plot_buffer_span_contours\n",
    "plot = True\n",
    "if plot:\n",
    "    %time \n",
    "    #%prun -D plot_contours.prof\n",
    "    trp.plot_buffer_span_contours(TICKER, ticker_name, date_range, spans, buffers, emas, hold)"
   ]
  },
  {
   "cell_type": "code",
   "execution_count": 15,
   "metadata": {},
   "outputs": [],
   "source": [
    "def plot_buffer_span_3D(azimuth, elevation, rdist, colors):\n",
    "    trp.plot_buffer_span_3D(ticker      = TICKER,\n",
    "                            ticker_name = ticker_name, \n",
    "                            date_range  = date_range, \n",
    "                            spans       = spans, \n",
    "                            buffers     = buffers, \n",
    "                            emas        = emas, \n",
    "                            hold        = hold, \n",
    "                            elev        = elevation, \n",
    "                            azim        = -azimuth, \n",
    "                            rdist       = rdist,\n",
    "                            colors      = colors,\n",
    "                           )"
   ]
  },
  {
   "cell_type": "code",
   "execution_count": 16,
   "metadata": {},
   "outputs": [
    {
     "name": "stdout",
     "output_type": "stream",
     "text": [
      "CPU times: user 2 µs, sys: 1 µs, total: 3 µs\n",
      "Wall time: 5.25 µs\n"
     ]
    },
    {
     "data": {
      "image/png": "[encoded data removed]",
      "text/plain": [
       "<Figure size 720x720 with 2 Axes>"
      ]
     },
     "metadata": {
      "needs_background": "light"
     },
     "output_type": "display_data"
    }
   ],
   "source": [
    "# Driver for plot_buffer_span_3D\n",
    "plot = True\n",
    "if plot:\n",
    "    %time \n",
    "    #%prun -D plot_3D.prof\n",
    "    trp.plot_buffer_span_3D(TICKER, ticker_name, date_range, \n",
    "                                  spans, buffers, emas, hold,\n",
    "                                  colors=dft.SURFACE_COLOR_SCHEME,\n",
    "                                  azim=dft.PERSPECTIVE[0], \n",
    "                                  elev=dft.PERSPECTIVE[1], \n",
    "                                  rdist=dft.PERSPECTIVE[2],\n",
    "                                 )"
   ]
  },
  {
   "cell_type": "markdown",
   "metadata": {},
   "source": [
    "### Interactive plots"
   ]
  },
  {
   "cell_type": "markdown",
   "metadata": {
    "ExecuteTime": {
     "end_time": "2021-03-22T12:10:46.432031Z",
     "start_time": "2021-03-22T12:10:46.387091Z"
    }
   },
   "source": [
    "#### Widget defaults"
   ]
  },
  {
   "cell_type": "code",
   "execution_count": 17,
   "metadata": {},
   "outputs": [
    {
     "name": "stdout",
     "output_type": "stream",
     "text": [
      "Optimal span=25, buffer=2.80%, EMA strategy returns=55.43% (hold=57.96%)\n"
     ]
    }
   ],
   "source": [
    "def get_default_parameters(ticker, date_range):\n",
    "    try: # ema file exists\n",
    "        spans, buffers, emas, hold = tra.read_ema_map(ticker, date_range)\n",
    "        df = tra.get_best_emas(spans, buffers, emas, hold, 1)\n",
    "        opt_span, opt_buff , opt_ema, opt_hold = df.span[0], df.buffer[0], df.ema[0], df.hold[0]\n",
    "    except Exception as ex:\n",
    "        print(f'Could not process {ticker}: Exception={ex}') \n",
    "        raise ValueError('aborting')\n",
    "        opt_span, opt_buff , opt_ema, opt_hold = dft.DEFAULT_SPAN, dft.DEFAULT_BUFFER, 0, 0 \n",
    "    return opt_span, opt_buff , opt_ema, opt_hold\n",
    "\n",
    "date_range = tra.get_datetime_date_range(security, START_DATE, END_DATE)\n",
    "best_span, best_buffer, best_ema, hold = get_default_parameters(TICKER, date_range)\n",
    "print(f'Optimal span={best_span:.0f}, buffer={best_buffer:.2%}, EMA strategy returns={best_ema:.2%} (hold={hold:.2%})')"
   ]
  },
  {
   "cell_type": "code",
   "execution_count": 18,
   "metadata": {
    "ExecuteTime": {
     "end_time": "2021-03-24T08:49:03.924569Z",
     "start_time": "2021-03-24T08:49:03.892176Z"
    }
   },
   "outputs": [],
   "source": [
    "### Default parameter values\n",
    "string_style = {'description_width': 'initial', \n",
    "                'handle_color':      'lawngreen'}\n",
    "\n",
    "start_period, end_period = tra.get_datetime_date_range(security, START_DATE, END_DATE)\n",
    "dates        = pd.date_range(start_period, end_period, freq='D')\n",
    "date_options = [(date.strftime(' %d/%m/%Y'), date) for date in dates]\n",
    "date_index   = (0, len(date_options) - 1)\n",
    "\n",
    "best_span, best_buffer, _, _ = get_default_parameters(TICKER, date_range)\n",
    "\n",
    "# Tx/broker's fee\n",
    "min_fee     = 0.0\n",
    "max_fee     = .01\n",
    "delta_fee   = .0005\n",
    "default_fee = dft.FEE_PCT\n",
    "\n",
    "# of days for running mean\n",
    "min_span     = dft.MIN_SPAN\n",
    "max_span     = dft.MAX_SPAN\n",
    "delta_span   = 1\n",
    "default_span = best_span\n",
    "\n",
    "# buffer around EMA\n",
    "min_buffer     = dft.MIN_BUFF\n",
    "max_buffer     = dft.MAX_BUFF\n",
    "delta_buffer   = .0001\n",
    "default_buffer = best_buffer\n",
    "\n",
    "# number of maxima\n",
    "max_value     = 15\n",
    "default_value = 12\n",
    "\n",
    "# 3D horizontal & vertical sliders\n",
    "min_azimuth     = dft.MIN_AZIMUTH\n",
    "max_azimuth     = dft.MAX_AZIMUTH\n",
    "delta_azimuth   = 1\n",
    "default_azimuth = dft.PERSPECTIVE[0]\n",
    "\n",
    "min_elevation     = dft.MIN_ELEVATION\n",
    "max_elevation     = dft.MAX_ELEVATION\n",
    "delta_elevation   = 1\n",
    "default_elevation = dft.PERSPECTIVE[1]\n",
    "\n",
    "min_distance     = dft.MIN_DISTANCE\n",
    "max_distance     = dft.MAX_DISTANCE\n",
    "delta_distance   = 1\n",
    "default_distance = dft.PERSPECTIVE[2]\n",
    "\n",
    "surface_color_scheme = color_schemes[12]"
   ]
  },
  {
   "cell_type": "code",
   "execution_count": 19,
   "metadata": {},
   "outputs": [],
   "source": [
    "## Widget methods\n",
    "### Sliders\n",
    "def get_span_slider():\n",
    "    return IntSlider(min      = min_span,\n",
    "                     max      = max_span,\n",
    "                     step     = delta_span,\n",
    "                     value    = default_span,\n",
    "                     style    = string_style,\n",
    "                     disabled = False,\n",
    "                     continuous_update=False,\n",
    "                     readout=True,\n",
    "                     readout_format='d',\n",
    "                     layout = {'width': '250px'},\n",
    "                    )\n",
    "\n",
    "def get_buffer_slider():\n",
    "    return FloatSlider(min=min_buffer,\n",
    "                        max=max_buffer,\n",
    "                        step=delta_buffer,\n",
    "                        value=default_buffer,\n",
    "                        style=string_style,\n",
    "                        continuous_update=False,\n",
    "                        disabled=False,\n",
    "                        readout=True,\n",
    "                        readout_format='.2%',\n",
    "                        layout      = {'width': '250px'},\n",
    "                       )\n",
    "    \n",
    "def get_fee_slider():\n",
    "    return FloatSlider(min=min_fee,\n",
    "                       max=max_fee,\n",
    "                       step=delta_fee,\n",
    "                       value=default_fee,\n",
    "                       style=string_style,\n",
    "                       disabled=False,\n",
    "                       continuous_update=False,\n",
    "                       readout=True,\n",
    "                       readout_format='.2%',\n",
    "                       layout      = {'width': '250px'},\n",
    "                      )\n",
    "\n",
    "def get_max_values_slider():\n",
    "    return SelectionSlider(options=[x for x in range(0, max_value+1)],\n",
    "                          value=default_value,\n",
    "                          description='Number of maxima:',\n",
    "                          style=string_style,\n",
    "                          disabled=False,\n",
    "                          continuous_update=False,\n",
    "                          readout=True,\n",
    "                          readout_format='d',\n",
    "                          layout      = {'width': '500px'},\n",
    "                          )\n",
    "                       \n",
    "def get_date_range_slider():\n",
    "    return SelectionRangeSlider(options  = date_options,\n",
    "                                 index   = date_index,\n",
    "                                 description = 'Period:',\n",
    "                                 orientation = 'horizontal',\n",
    "                                 style       = string_style,\n",
    "                                 layout      = {'width': '500px'}\n",
    "                                )\n",
    "\n",
    "def get_azimuth_slider():\n",
    "    return IntSlider(min      = min_azimuth,\n",
    "                     max      = max_azimuth,\n",
    "                     step     = delta_azimuth,\n",
    "                     value    = default_azimuth,\n",
    "                     style    = string_style,\n",
    "                     disabled = False,\n",
    "                     continuous_update=False,\n",
    "                     readout=True,\n",
    "                     readout_format='d',\n",
    "                     layout = {'width': '250px'},\n",
    "                    )\n",
    "\n",
    "def get_elevation_slider():\n",
    "    return IntSlider(min      = min_elevation,\n",
    "                     max      = max_elevation,\n",
    "                     step     = delta_elevation,\n",
    "                     value    = default_elevation,\n",
    "                     style    = string_style,\n",
    "                     disabled = False,\n",
    "                     orientation='vertical',\n",
    "                     continuous_update=False,\n",
    "                     readout=True,\n",
    "                     readout_format='d',\n",
    "                     layout = {'height': '100px', 'width': '50px'},\n",
    "                    )\n",
    "\n",
    "def get_distance_slider():\n",
    "    return IntSlider(min      = min_distance,\n",
    "                     max      = max_distance,\n",
    "                     step     = delta_distance,\n",
    "                     value    = default_distance,\n",
    "                     style    = string_style,\n",
    "                     disabled = False,\n",
    "                     continuous_update=False,\n",
    "                     readout=True,\n",
    "                     readout_format='d',\n",
    "                     layout = {'width': '250px'},\n",
    "                    )\n",
    "\n",
    "### Text boxes\n",
    "def get_fee_text_box():\n",
    "    return FloatText(min=min_fee,\n",
    "                     max=max_fee,\n",
    "                     step=delta_fee,\n",
    "                     value=default_fee,\n",
    "                     description='Fees:',\n",
    "                     style=string_style,\n",
    "                     disabled=False,\n",
    "                     readout_format='6.3%',\n",
    "                     layout={'width': '150px'},\n",
    "                    )\n",
    "                       \n",
    "def get_span_text_box():\n",
    "    return IntText(min   = min_span,\n",
    "                   max   = max_span,\n",
    "                   step  = delta_span,\n",
    "                   value = default_span,\n",
    "                   style          = string_style,\n",
    "                   disabled       = False,\n",
    "                   description    = 'Span:',\n",
    "                   readout_format = 'd',\n",
    "                   layout={'width': '150px'},\n",
    "                   )\n",
    "                       \n",
    "def get_buffer_text_box():\n",
    "    return FloatText(min   = min_fee,\n",
    "                     max   = max_fee,\n",
    "                     step  = delta_fee,\n",
    "                     value = default_fee,\n",
    "                     style       = string_style,\n",
    "                     disabled    = False,\n",
    "                     description = 'Buffer:',\n",
    "                     readout_format = '3%',\n",
    "                     layout = {'width': '150px'},\n",
    "                    )\n",
    "def get_azimuth_text_box():\n",
    "    return IntText(min   = min_azimuth,\n",
    "                   max   = max_azimuth,\n",
    "                   step  = delta_azimuth,\n",
    "                   value = default_azimuth,\n",
    "                   style          = string_style,\n",
    "                   disabled       = False,\n",
    "                   description    = 'Azimuth:',\n",
    "                   readout_format = 'd',\n",
    "                   layout={'width': '150px'},\n",
    "                   )\n",
    "\n",
    "def get_elevation_text_box():\n",
    "    return IntText(min   = min_elevation,\n",
    "                   max   = max_elevation,\n",
    "                   step  = delta_elevation,\n",
    "                   value = default_elevation,\n",
    "                   style          = string_style,\n",
    "                   disabled       = False,\n",
    "                   description    = 'Elevation:',\n",
    "                   readout_format = 'd',\n",
    "                   layout={'width': '150px'},\n",
    "                   )\n",
    "\n",
    "def get_distance_text_box():\n",
    "    return IntText(min   = min_distance,\n",
    "                   max   = max_distance,\n",
    "                   step  = delta_distance,\n",
    "                   value = default_distance,\n",
    "                   style          = string_style,\n",
    "                   disabled       = False,\n",
    "                   description    = 'Distance:',\n",
    "                   readout_format = 'd',\n",
    "                   layout={'width': '150px'},\n",
    "                   )\n",
    "\n",
    "# Dropdowns\n",
    "def get_color_dropwdown():\n",
    "    return Dropdown(options     = color_schemes,\n",
    "                    value       = surface_color_scheme,\n",
    "                    description = 'Color scheme:',\n",
    "                    style       = string_style,\n",
    "                    disabled    = False,\n",
    "                    layout={'width': '250px'},\n",
    "                    )\n",
    "\n",
    "# Checkboxes\n",
    "checkbox_width = '150px'\n",
    "def get_ema_checkbox():\n",
    "    return widgets.Checkbox(\n",
    "        value       = True,\n",
    "        description = 'EMA',\n",
    "        disabled    = False,\n",
    "        indent      = False,\n",
    "        layout={'width': checkbox_width},\n",
    "        tooltip = 'Display EMA',\n",
    "    )\n",
    "\n",
    "def get_buffer_checkbox():\n",
    "    return widgets.Checkbox(\n",
    "        value       = False,\n",
    "        description = 'Buffer',\n",
    "        disabled    = False,\n",
    "        indent      = False,\n",
    "        layout={'width': checkbox_width},\n",
    "        tooltip = 'Display buffer',\n",
    "    )\n",
    "\n",
    "def get_price_checkbox():\n",
    "    return widgets.Checkbox(\n",
    "        value       = True,\n",
    "        description = 'Price',\n",
    "        disabled    = False,\n",
    "        indent      = False,\n",
    "        layout={'width': checkbox_width},\n",
    "        tooltip = 'Display market prices',\n",
    "    )\n",
    "\n",
    "def get_arrow_checkbox():\n",
    "    return widgets.Checkbox(\n",
    "        value       = True,\n",
    "        description = 'Buy/sell',\n",
    "        disabled    = False,\n",
    "        indent      = False,\n",
    "        layout={'width': checkbox_width},\n",
    "        tooltip = 'Display buy/sell arrows',\n",
    "    )\n",
    "\n",
    "def get_stats_checkbox():\n",
    "    return widgets.Checkbox(\n",
    "        value       = True,\n",
    "        description = 'Display stats',\n",
    "        disabled    = False,\n",
    "        indent      = False,\n",
    "        layout={'width': checkbox_width},\n",
    "        tooltip = 'Display data statistics',\n",
    "    )\n",
    "\n",
    "# Buttons\n",
    "def get_save_figure_button():\n",
    "    return widgets.Button(\n",
    "        #description='Save',\n",
    "        value = False,\n",
    "        disabled=True,\n",
    "        button_style='', # 'success', 'info', 'warning', 'danger' or ''\n",
    "        layout={'width': '35px'},\n",
    "        tooltip = 'Save to png file',\n",
    "        icon='save'\n",
    "    )"
   ]
  },
  {
   "cell_type": "markdown",
   "metadata": {},
   "source": [
    "#### Interactive returns for window span"
   ]
  },
  {
   "cell_type": "code",
   "execution_count": 20,
   "metadata": {
    "ExecuteTime": {
     "end_time": "2021-03-24T08:49:12.076496Z",
     "start_time": "2021-03-24T08:49:06.202921Z"
    }
   },
   "outputs": [
    {
     "data": {
      "application/vnd.jupyter.widget-view+json": {
       "model_id": "c7e572dec7b84860bad81f9ac0423f36",
       "version_major": 2,
       "version_minor": 0
      },
      "text/plain": [
       "TwoByTwoLayout(children=(HBox(children=(FloatText(value=0.004, description='Fees:', layout=Layout(width='150px…"
      ]
     },
     "metadata": {},
     "output_type": "display_data"
    },
    {
     "data": {
      "application/vnd.jupyter.widget-view+json": {
       "model_id": "81e6fb0b34e94f26bb495f13e7342826",
       "version_major": 2,
       "version_minor": 0
      },
      "text/plain": [
       "Output()"
      ]
     },
     "metadata": {},
     "output_type": "display_data"
    }
   ],
   "source": [
    "# Mean window span range interactive optimizer\n",
    "buffer_slider   = get_buffer_slider()\n",
    "buffer_text_box = get_buffer_text_box()\n",
    "buffer_link     = jslink((buffer_slider, 'value'), (buffer_text_box, 'value'))\n",
    "\n",
    "max_values_slider   = get_max_values_slider()\n",
    "\n",
    "fee_slider   = get_fee_slider()\n",
    "fee_text_box = get_fee_text_box()\n",
    "fee_link     = jslink((fee_slider, 'value'), (fee_text_box, 'value'))\n",
    "\n",
    "date_range_slider = get_date_range_slider()\n",
    "\n",
    "fee_widgets    = HBox([fee_text_box, fee_slider])\n",
    "buffer_widgets = HBox([buffer_text_box, buffer_slider])\n",
    "\n",
    "out = interactive_output(plot_span_range,\n",
    "                         {'buffer'    : buffer_slider,\n",
    "                          'n_best'    : max_values_slider,\n",
    "                          'fee_pct'   : fee_slider,\n",
    "                          'date_range': date_range_slider,\n",
    "                         }\n",
    "                        )\n",
    "\n",
    "ui = TwoByTwoLayout(top_left     = fee_widgets,\n",
    "                    top_right    = date_range_slider,\n",
    "                    bottom_left  = buffer_widgets,\n",
    "                    bottom_right = max_values_slider,\n",
    "                   )\n",
    "\n",
    "display(ui, out)"
   ]
  },
  {
   "cell_type": "markdown",
   "metadata": {},
   "source": [
    "#### Interactive returns for buffer size"
   ]
  },
  {
   "cell_type": "code",
   "execution_count": 21,
   "metadata": {
    "ExecuteTime": {
     "end_time": "2021-03-24T08:49:21.855189Z",
     "start_time": "2021-03-24T08:49:12.081397Z"
    }
   },
   "outputs": [
    {
     "data": {
      "application/vnd.jupyter.widget-view+json": {
       "model_id": "d0a324afc97440f8bb97fdd3e6a760e5",
       "version_major": 2,
       "version_minor": 0
      },
      "text/plain": [
       "TwoByTwoLayout(children=(HBox(children=(FloatText(value=0.004, description='Fees:', layout=Layout(width='150px…"
      ]
     },
     "metadata": {},
     "output_type": "display_data"
    },
    {
     "data": {
      "application/vnd.jupyter.widget-view+json": {
       "model_id": "56d40f938fdf47a3b980d1b4e6bac794",
       "version_major": 2,
       "version_minor": 0
      },
      "text/plain": [
       "Output()"
      ]
     },
     "metadata": {},
     "output_type": "display_data"
    }
   ],
   "source": [
    "# Buffer range interactive optimizer\n",
    "span_slider   = get_span_slider()\n",
    "span_text_box = get_span_text_box()\n",
    "span_link     = jslink((span_slider, 'value'), (span_text_box, 'value'))\n",
    "\n",
    "max_values_slider = get_max_values_slider()\n",
    "\n",
    "fee_slider   = get_fee_slider()\n",
    "fee_text_box = get_fee_text_box()\n",
    "fee_link     = jslink((fee_slider, 'value'), (fee_text_box, 'value'))\n",
    "\n",
    "date_range_slider = get_date_range_slider()\n",
    "\n",
    "fee_widgets    = HBox([fee_text_box, fee_slider])\n",
    "span_widgets = HBox([span_text_box, span_slider])\n",
    "\n",
    "out = interactive_output(plot_buffer_range,\n",
    "                         {'span'      : span_slider,\n",
    "                          'n_best'    : max_values_slider,\n",
    "                          'fee_pct'   : fee_slider,\n",
    "                          'date_range': date_range_slider,\n",
    "                          }\n",
    "                         )\n",
    "\n",
    "ui = TwoByTwoLayout(top_left     = fee_widgets,\n",
    "                    top_right    = date_range_slider,\n",
    "                    bottom_left  = span_widgets,\n",
    "                    bottom_right = max_values_slider,\n",
    "                    )\n",
    "\n",
    "display(ui, out)"
   ]
  },
  {
   "cell_type": "markdown",
   "metadata": {},
   "source": [
    "#### Interactive buffer-span"
   ]
  },
  {
   "cell_type": "code",
   "execution_count": 22,
   "metadata": {
    "ExecuteTime": {
     "end_time": "2021-03-24T08:49:23.067658Z",
     "start_time": "2021-03-24T08:49:21.857471Z"
    },
    "scrolled": false
   },
   "outputs": [
    {
     "data": {
      "application/vnd.jupyter.widget-view+json": {
       "model_id": "bb38d37a1a86473a85b5feb83372c074",
       "version_major": 2,
       "version_minor": 0
      },
      "text/plain": [
       "VBox(children=(HBox(children=(VBox(children=(HBox(children=(FloatText(value=0.004, description='Fees:', layout…"
      ]
     },
     "metadata": {},
     "output_type": "display_data"
    },
    {
     "data": {
      "application/vnd.jupyter.widget-view+json": {
       "model_id": "e77a723ab5ae46adb54c87ce6ab17a65",
       "version_major": 2,
       "version_minor": 0
      },
      "text/plain": [
       "Output()"
      ]
     },
     "metadata": {},
     "output_type": "display_data"
    }
   ],
   "source": [
    "# Buffer-span interactive time-series plot\n",
    "fee_slider   = get_fee_slider()\n",
    "fee_text_box = get_fee_text_box()\n",
    "fee_link     = jslink((fee_slider, 'value'), (fee_text_box, 'value'))\n",
    "\n",
    "span_slider   = get_span_slider()\n",
    "span_text_box = get_span_text_box()\n",
    "span_link     = jslink((span_slider, 'value'), (span_text_box, 'value'))\n",
    "\n",
    "buffer_slider   = get_buffer_slider()\n",
    "buffer_text_box = get_buffer_text_box()\n",
    "buffer_link     = jslink((buffer_slider, 'value'), (buffer_text_box, 'value'))\n",
    "\n",
    "price_checkbox  = get_price_checkbox()\n",
    "ema_checkbox    = get_ema_checkbox()\n",
    "buffer_checkbox = get_buffer_checkbox()\n",
    "arrow_checkbox  = get_arrow_checkbox()\n",
    "stats_checkbox  = get_stats_checkbox()\n",
    "\n",
    "save_button       = get_save_figure_button()\n",
    "date_range_slider = get_date_range_slider()\n",
    "\n",
    "\n",
    "out = interactive_output(plot_time_series,\n",
    "                         {'span'         : span_slider,\n",
    "                          'buffer'       : buffer_slider,\n",
    "                          'fee_pct'      : fee_slider,\n",
    "                          'display_dates': date_range_slider,\n",
    "                          'price_flag'   : price_checkbox,\n",
    "                          'ema_flag'     : ema_checkbox,\n",
    "                          'buffer_flag'  : buffer_checkbox,\n",
    "                          'arrow_flag'   : arrow_checkbox,\n",
    "                          'stats_flag'   : stats_checkbox,\n",
    "                          }\n",
    "                         )\n",
    "\n",
    "fee_widgets    = HBox([fee_text_box, fee_slider])\n",
    "span_widgets   = HBox([span_text_box, span_slider])\n",
    "buffer_widgets = HBox([buffer_text_box, buffer_slider])\n",
    "checkbox_widgets = HBox([price_checkbox, \n",
    "                         ema_checkbox, \n",
    "                         buffer_checkbox, \n",
    "                         arrow_checkbox, \n",
    "                         stats_checkbox, \n",
    "                         save_button])\n",
    "\n",
    "top_widgets = HBox([VBox([fee_widgets, span_widgets]), \n",
    "                   VBox([date_range_slider, buffer_widgets])]\n",
    "                  )\n",
    "bottom_widgets = HBox([HBox([]), checkbox_widgets, HBox([])])\n",
    "\n",
    "ui = VBox([top_widgets, bottom_widgets])\n",
    "\n",
    "display(ui, out)"
   ]
  },
  {
   "cell_type": "markdown",
   "metadata": {},
   "source": [
    "#### Interactive 3D plot"
   ]
  },
  {
   "cell_type": "code",
   "execution_count": 23,
   "metadata": {},
   "outputs": [
    {
     "data": {
      "application/vnd.jupyter.widget-view+json": {
       "model_id": "bdcca4022e5f4ce5a73fd3711e74455e",
       "version_major": 2,
       "version_minor": 0
      },
      "text/plain": [
       "HBox(children=(VBox(children=(IntText(value=35, description='Elevation:', layout=Layout(width='150px'), style=…"
      ]
     },
     "metadata": {},
     "output_type": "display_data"
    },
    {
     "data": {
      "application/vnd.jupyter.widget-view+json": {
       "model_id": "b33956085deb4a649751e0c659806368",
       "version_major": 2,
       "version_minor": 0
      },
      "text/plain": [
       "Output()"
      ]
     },
     "metadata": {},
     "output_type": "display_data"
    }
   ],
   "source": [
    "# Buffer-span interactive plot\n",
    "elevation_slider   = get_elevation_slider()\n",
    "elevation_text_box = get_elevation_text_box()\n",
    "elevation_link     = jslink((elevation_slider, 'value'), (elevation_text_box, 'value'))\n",
    "\n",
    "azimuth_slider   = get_azimuth_slider()\n",
    "azimuth_text_box = get_azimuth_text_box()\n",
    "azimuth_link     = jslink((azimuth_slider, 'value'), (azimuth_text_box, 'value'))\n",
    "\n",
    "distance_slider   = get_distance_slider()\n",
    "distance_text_box = get_distance_text_box()\n",
    "distance_link     = jslink((distance_slider, 'value'), (distance_text_box, 'value'))\n",
    "\n",
    "color_dropdown    = get_color_dropwdown()\n",
    "\n",
    "#date_range_slider = get_date_range_slider()\n",
    "\n",
    "out = interactive_output(plot_buffer_span_3D,\n",
    "                         {'azimuth'   : azimuth_slider,\n",
    "                          'elevation' : elevation_slider,\n",
    "                          'rdist'     : distance_slider,\n",
    "                          'colors'    : color_dropdown,\n",
    "                          }\n",
    "                         )\n",
    "\n",
    "azimuth_widgets   = VBox([azimuth_text_box, azimuth_slider])\n",
    "elevation_widgets = VBox([elevation_text_box, elevation_slider])\n",
    "distance_widgets  = VBox([distance_text_box, distance_slider])\n",
    "h_widgets         = VBox([distance_widgets, azimuth_widgets])\n",
    "\n",
    "ui = HBox([elevation_widgets, h_widgets, color_dropdown])\n",
    "\n",
    "display(ui, out)"
   ]
  },
  {
   "cell_type": "code",
   "execution_count": 24,
   "metadata": {},
   "outputs": [
    {
     "data": {
      "image/png": "[encoded data removed]",
      "text/plain": [
       "<Figure size 432x288 with 1 Axes>"
      ]
     },
     "metadata": {
      "needs_background": "light"
     },
     "output_type": "display_data"
    },
    {
     "data": {
      "image/png": "[encoded data removed]",
      "text/plain": [
       "<Figure size 432x288 with 1 Axes>"
      ]
     },
     "metadata": {
      "needs_background": "light"
     },
     "output_type": "display_data"
    }
   ],
   "source": [
    "#Autocorrelation functions\n",
    "series = security.loc[date_range[0]:date_range[1],'Close']\n",
    "plot_acf(series, title=f'{ticker_name} autocorrelation', zero=False)\n",
    "plt.show()\n",
    "\n",
    "plot_pacf(series, lags=10, alpha=.01, title=f'{ticker_name} partial autocorrelation', zero=False)\n",
    "plt.show()"
   ]
  },
  {
   "cell_type": "code",
   "execution_count": null,
   "metadata": {},
   "outputs": [],
   "source": []
  }
 ],
 "metadata": {
  "hide_input": false,
  "kernelspec": {
   "display_name": "Python 3",
   "language": "python",
   "name": "python3"
  },
  "language_info": {
   "codemirror_mode": {
    "name": "ipython",
    "version": 3
   },
   "file_extension": ".py",
   "mimetype": "text/x-python",
   "name": "python",
   "nbconvert_exporter": "python",
   "pygments_lexer": "ipython3",
   "version": "3.8.5"
  },
  "toc": {
   "base_numbering": 1,
   "nav_menu": {},
   "number_sections": false,
   "sideBar": true,
   "skip_h1_title": false,
   "title_cell": "Table of Contents",
   "title_sidebar": "Contents",
   "toc_cell": false,
   "toc_position": {
    "height": "calc(100% - 180px)",
    "left": "10px",
    "top": "150px",
    "width": "234.238px"
   },
   "toc_section_display": true,
   "toc_window_display": false
  }
 },
 "nbformat": 4,
 "nbformat_minor": 4
}
