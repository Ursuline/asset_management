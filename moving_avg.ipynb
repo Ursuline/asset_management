{
 "cells": [
  {
   "cell_type": "markdown",
   "metadata": {},
   "source": [
    "# Moving average trading"
   ]
  },
  {
   "cell_type": "code",
   "execution_count": 1,
   "metadata": {
    "ExecuteTime": {
     "end_time": "2021-03-23T13:42:29.567433Z",
     "start_time": "2021-03-23T13:42:26.934324Z"
    }
   },
   "outputs": [],
   "source": [
    "import os\n",
    "import pandas as pd\n",
    "import numpy as np\n",
    "from tqdm.notebook import tqdm\n",
    "from datetime import datetime\n",
    "import security_comparison as sc\n",
    "import matplotlib.pyplot as plt\n",
    "import matplotlib.dates as mdates\n",
    "import seaborn as sns\n",
    "import ipywidgets as widgets\n",
    "from ipywidgets import HBox, VBox, TwoByTwoLayout, Label\n",
    "from ipywidgets import interactive, interactive_output\n",
    "from ipywidgets import FloatSlider, IntSlider, SelectionSlider, SelectionRangeSlider\n",
    "from IPython.display import display\n",
    "\n",
    "%matplotlib inline\n",
    "%load_ext autoreload\n",
    "%autoreload 2"
   ]
  },
  {
   "cell_type": "markdown",
   "metadata": {},
   "source": [
    "### Default parameters"
   ]
  },
  {
   "cell_type": "code",
   "execution_count": 2,
   "metadata": {
    "ExecuteTime": {
     "end_time": "2021-03-23T13:42:29.615158Z",
     "start_time": "2021-03-23T13:42:29.572140Z"
    }
   },
   "outputs": [],
   "source": [
    "DIRNAME  = 'data'\n",
    "PLOT_DIR = 'plots'\n",
    "HUGE     = 1000000\n",
    "DEFAULT_PERIOD = '5y'\n",
    "FEE_PCT        = .004  # broker's fee\n",
    "initial_wealth = 100.0 \n",
    "pd.options.display.float_format = '{:,.2f}'.format\n",
    "\n",
    "# ---------------------------#\n",
    "TICKER     = 'AAPL'\n",
    "\n",
    "# Download from Yahoo ?\n",
    "REFRESH    = False\n",
    "\n",
    "START_DATE = '2017-07-15'\n",
    "END_DATE   = '2021-03-22'"
   ]
  },
  {
   "cell_type": "markdown",
   "metadata": {},
   "source": [
    "### Data download"
   ]
  },
  {
   "cell_type": "code",
   "execution_count": 3,
   "metadata": {
    "ExecuteTime": {
     "end_time": "2021-03-23T13:42:32.988378Z",
     "start_time": "2021-03-23T13:42:29.617314Z"
    }
   },
   "outputs": [
    {
     "name": "stdout",
     "output_type": "stream",
     "text": [
      "Downloading data from Yahoo Finance\n",
      "Loading ticker AAPL\n",
      "[*********************100%***********************]  1 of 1 completed\n"
     ]
    }
   ],
   "source": [
    "raw = sc.load_security(dirname = DIRNAME, \n",
    "                       ticker  = TICKER, \n",
    "                       refresh = REFRESH, \n",
    "                       period  = DEFAULT_PERIOD,\n",
    "                      )"
   ]
  },
  {
   "cell_type": "code",
   "execution_count": 4,
   "metadata": {
    "ExecuteTime": {
     "end_time": "2021-03-23T13:42:33.046572Z",
     "start_time": "2021-03-23T13:42:32.990276Z"
    }
   },
   "outputs": [
    {
     "data": {
      "text/html": [
       "<div>\n",
       "<style scoped>\n",
       "    .dataframe tbody tr th:only-of-type {\n",
       "        vertical-align: middle;\n",
       "    }\n",
       "\n",
       "    .dataframe tbody tr th {\n",
       "        vertical-align: top;\n",
       "    }\n",
       "\n",
       "    .dataframe thead th {\n",
       "        text-align: right;\n",
       "    }\n",
       "</style>\n",
       "<table border=\"1\" class=\"dataframe\">\n",
       "  <thead>\n",
       "    <tr style=\"text-align: right;\">\n",
       "      <th></th>\n",
       "      <th>Close</th>\n",
       "    </tr>\n",
       "    <tr>\n",
       "      <th>Date</th>\n",
       "      <th></th>\n",
       "    </tr>\n",
       "  </thead>\n",
       "  <tbody>\n",
       "    <tr>\n",
       "      <th>2016-03-23</th>\n",
       "      <td>24.68</td>\n",
       "    </tr>\n",
       "    <tr>\n",
       "      <th>2016-03-24</th>\n",
       "      <td>24.57</td>\n",
       "    </tr>\n",
       "    <tr>\n",
       "      <th>2016-03-28</th>\n",
       "      <td>24.46</td>\n",
       "    </tr>\n",
       "    <tr>\n",
       "      <th>2016-03-29</th>\n",
       "      <td>25.04</td>\n",
       "    </tr>\n",
       "    <tr>\n",
       "      <th>2016-03-30</th>\n",
       "      <td>25.48</td>\n",
       "    </tr>\n",
       "    <tr>\n",
       "      <th>...</th>\n",
       "      <td>...</td>\n",
       "    </tr>\n",
       "    <tr>\n",
       "      <th>2021-03-17</th>\n",
       "      <td>124.76</td>\n",
       "    </tr>\n",
       "    <tr>\n",
       "      <th>2021-03-18</th>\n",
       "      <td>120.53</td>\n",
       "    </tr>\n",
       "    <tr>\n",
       "      <th>2021-03-19</th>\n",
       "      <td>119.99</td>\n",
       "    </tr>\n",
       "    <tr>\n",
       "      <th>2021-03-22</th>\n",
       "      <td>123.39</td>\n",
       "    </tr>\n",
       "    <tr>\n",
       "      <th>2021-03-23</th>\n",
       "      <td>122.75</td>\n",
       "    </tr>\n",
       "  </tbody>\n",
       "</table>\n",
       "<p>1259 rows × 1 columns</p>\n",
       "</div>"
      ],
      "text/plain": [
       "            Close\n",
       "Date             \n",
       "2016-03-23  24.68\n",
       "2016-03-24  24.57\n",
       "2016-03-28  24.46\n",
       "2016-03-29  25.04\n",
       "2016-03-30  25.48\n",
       "...           ...\n",
       "2021-03-17 124.76\n",
       "2021-03-18 120.53\n",
       "2021-03-19 119.99\n",
       "2021-03-22 123.39\n",
       "2021-03-23 122.75\n",
       "\n",
       "[1259 rows x 1 columns]"
      ]
     },
     "execution_count": 4,
     "metadata": {},
     "output_type": "execute_result"
    }
   ],
   "source": [
    "security = pd.DataFrame(raw[f'Close_{TICKER}'])\n",
    "security.rename(columns={f'Close_{TICKER}': \"Close\"},\n",
    "                inplace=True)\n",
    "\n",
    "security"
   ]
  },
  {
   "cell_type": "markdown",
   "metadata": {},
   "source": [
    "#### Setup default start & end dates"
   ]
  },
  {
   "cell_type": "code",
   "execution_count": 5,
   "metadata": {
    "ExecuteTime": {
     "end_time": "2021-03-23T13:42:33.095568Z",
     "start_time": "2021-03-23T13:42:33.048884Z"
    }
   },
   "outputs": [
    {
     "name": "stdout",
     "output_type": "stream",
     "text": [
      "('15-Jul-2017', '22-Mar-2021')\n",
      "(datetime.datetime(2017, 7, 15, 0, 0), datetime.datetime(2021, 3, 22, 0, 0))\n",
      "('2017-07-15', '2021-03-22')\n"
     ]
    }
   ],
   "source": [
    "def init_dates():\n",
    "    start_dt    = datetime.strptime(START_DATE, '%Y-%m-%d')\n",
    "    end_dt      = datetime.strptime(END_DATE, '%Y-%m-%d')\n",
    "    secu_start  = security.index[0]\n",
    "    if secu_start > start_dt:\n",
    "        start_dt = secu_start\n",
    "        print(f'start date reset to {start_dt}')\n",
    "    return start_dt, end_dt\n",
    "\n",
    "def get_title_dates():\n",
    "    ''' \n",
    "    Return start and end dates for title format:\n",
    "    %d-%b-%Y: 03-Jul-2021\n",
    "    '''\n",
    "    dates = init_dates()\n",
    "    return dates[0].strftime('%d-%b-%Y'), dates[1].strftime('%d-%b-%Y')\n",
    "\n",
    "def get_datetime_dates():\n",
    "    '''\n",
    "    Return start and end dates in datetime format\n",
    "    '''\n",
    "    return init_dates()\n",
    "\n",
    "def get_filename_dates():\n",
    "    '''\n",
    "    Return start and end dates for file name format:\n",
    "    %Y-%m-%d: 2021-03-07\n",
    "    '''\n",
    "    dates = init_dates()\n",
    "    return dates[0].strftime('%Y-%m-%d'), dates[1].strftime('%Y-%m-%d')\n",
    "    \n",
    "print(get_title_dates())\n",
    "print(get_datetime_dates())\n",
    "print(get_filename_dates())"
   ]
  },
  {
   "cell_type": "markdown",
   "metadata": {},
   "source": [
    "## Trading strategy"
   ]
  },
  {
   "cell_type": "markdown",
   "metadata": {},
   "source": [
    "### Supporting routines"
   ]
  },
  {
   "cell_type": "code",
   "execution_count": 6,
   "metadata": {
    "ExecuteTime": {
     "end_time": "2021-03-23T13:42:33.143349Z",
     "start_time": "2021-03-23T13:42:33.099289Z"
    }
   },
   "outputs": [],
   "source": [
    "def get_fee(data, fee_pct):\n",
    "    '''\n",
    "    Return fees associated to position switches\n",
    "    fee_pct -> brokers fee \n",
    "    fee -> $ fee corresponding to fee_pct\n",
    "    '''\n",
    "    # Add a fee for each movement\n",
    "    fee = (fee_pct * data[data.SWITCH == switches[0]].CUMRET_EMA.sum())\n",
    "    fee += (fee_pct * data[data.SWITCH == switches[1]].CUMRET_EMA.sum())\n",
    "    return fee"
   ]
  },
  {
   "cell_type": "code",
   "execution_count": 7,
   "metadata": {
    "ExecuteTime": {
     "end_time": "2021-03-23T13:42:33.189346Z",
     "start_time": "2021-03-23T13:42:33.146071Z"
    }
   },
   "outputs": [],
   "source": [
    "def get_cumret(data, strategy, fee=0):\n",
    "    '''\n",
    "    Returns cumulative return for the given strategy\n",
    "    If strategy is EMA, returns cumulative returns net of fees\n",
    "    '''\n",
    "    if strategy.lower() == 'hold':\n",
    "        return data.CUMRET_HOLD[-1]/initial_wealth - 1\n",
    "    elif strategy.lower() == 'ema':\n",
    "        return (data.CUMRET_EMA[-1]-fee)/initial_wealth - 1\n",
    "    else:\n",
    "        raise ValueError(\n",
    "            f\"strategy {strategy} should be either of ema or hold\")"
   ]
  },
  {
   "cell_type": "code",
   "execution_count": 8,
   "metadata": {
    "ExecuteTime": {
     "end_time": "2021-03-23T13:42:33.237100Z",
     "start_time": "2021-03-23T13:42:33.191511Z"
    }
   },
   "outputs": [],
   "source": [
    "def display_full_dataframe(data):\n",
    "    '''\n",
    "    Displays all rows & columns of a pandas dataframe\n",
    "    '''\n",
    "    with pd.option_context('display.max_rows', None,\n",
    "                           'display.max_columns', None,\n",
    "                           'display.width', 1000,\n",
    "                           'display.precision', 2,\n",
    "                           'display.colheader_justify',\n",
    "                           'left'):\n",
    "        display(data)"
   ]
  },
  {
   "cell_type": "markdown",
   "metadata": {},
   "source": [
    "### Main algorithms"
   ]
  },
  {
   "cell_type": "code",
   "execution_count": 9,
   "metadata": {
    "ExecuteTime": {
     "end_time": "2021-03-23T13:42:33.293165Z",
     "start_time": "2021-03-23T13:42:33.238875Z"
    }
   },
   "outputs": [],
   "source": [
    "positions = ['long', 'short', 'n/c']\n",
    "switches = ['buy', 'sell', 'n/c']\n",
    "\n",
    "def build_positions(df):\n",
    "    '''\n",
    "    This agorithm builds desired positions for the EMA strategy \n",
    "    *** Long strategy only ***\n",
    "    POSITION -> cash, long (short pending)\n",
    "    SWICH -> buy, sell, n/c (no change)\n",
    "    '''\n",
    "    n_time_steps = df.shape[0]\n",
    "    positions, switches = ([] for i in range(2))\n",
    "\n",
    "    positions.append('cash')\n",
    "    switches.append('n/c')\n",
    "\n",
    "    for step in range(1, n_time_steps):  # Long strategy only\n",
    "        price = df.loc[df.index[step], 'Close']\n",
    "        mean = df.loc[df.index[step], 'EMA']\n",
    "        if positions[step - 1] == 'cash':  # previous position: cash\n",
    "            if df.loc[df.index[step], 'SIGN'] in [0, -1]:\n",
    "                positions.append('cash')\n",
    "                switches.append('n/c')\n",
    "            elif df.loc[df.index[step], 'SIGN'] == 1:\n",
    "                positions.append('long')\n",
    "                switches.append('buy')\n",
    "            else:\n",
    "                raise ValueError(f'Inconsistent sign')\n",
    "        elif positions[step - 1] == 'long':  # previous position: long\n",
    "            if df.loc[df.index[step], 'SIGN'] in [0, 1]:\n",
    "                positions.append('long')\n",
    "                switches.append('n/c')\n",
    "            elif df.loc[df.index[step], 'SIGN'] == -1:\n",
    "                positions.append('cash')\n",
    "                switches.append('sell')\n",
    "            else:\n",
    "                raise ValueError(f'Inconsistent sign')\n",
    "        else:\n",
    "            raise ValueError(\n",
    "                f\"step {step}: previous position {positions[step - 1]} sign:{df.loc[df.index[step], 'SIGN']}\")\n",
    "    df.insert(loc=len(df.columns), column='POSITION', value=positions)\n",
    "    df.insert(loc=len(df.columns), column='SWITCH', value=switches)\n",
    "    return df\n",
    "\n",
    "def get_strategy(df, span, buffer, debug=False, reactivity=1):\n",
    "    '''\n",
    "    ***At this point, only a long strategy is considered***\n",
    "    Implements running-mean (ewm) strategy\n",
    "    Input dataframe df has date index & security value 'Close'\n",
    "\n",
    "    Variables:\n",
    "    span       -> number of rolling days\n",
    "    reactivity -> reactivity to market change in days (should be set to 1)\n",
    "    buffer     -> % above ema to trigger buy\n",
    "\n",
    "    Returns:\n",
    "    A dataframe with original data + following columns\n",
    "    EMA -> exponential moving average\n",
    "    SIGN -> 1 : above buffer 0: in buffer -1: below buffer\n",
    "    SWITCH -> buy / sell / n/c (no change)\n",
    "    RET -> 1 + % daily return\n",
    "    CUMRET_HOLD -> cumulative returns for a hold strategy\n",
    "    RET2 -> 1 + % daily return when Close > EMA (***long strategy only***)\n",
    "    CUMRET_EMA -> cumulative returns for the EMA strategy\n",
    "    '''\n",
    "    # Compute exponential weighted mean\n",
    "    df['EMA'] = df.Close.ewm(span=span, adjust=False).mean()\n",
    "    if debug:  # include buffer limits in dataframe for printing\n",
    "        df.insert(loc=1, column='EMA-', value=df['EMA']*(1-buffer))\n",
    "        df.insert(loc=len(df.columns), column='EMA+',\n",
    "                  value=df['EMA']*(1+buffer))\n",
    "    df['SIGN'] = np.where(df.Close - df.EMA*(1 + buffer) > 0, 1,\n",
    "                          np.where(df.Close - df.EMA*(1 - buffer) < 0, -1, 0)\n",
    "                          )\n",
    "    df['SIGN'] = df['SIGN'].shift(reactivity)\n",
    "    df.loc[df.index[0], 'SIGN'] = 0.0  # set first value to 0\n",
    "\n",
    "    df = build_positions(df)  # compute position and switch columns\n",
    "\n",
    "    # Compute returns, cumulative returns and 'wealth' for hold strategy\n",
    "    df['RET'] = 1.0 + df.Close.pct_change()\n",
    "    df.loc[df.index[0], 'RET'] = 1.0  # set first value to 1.0\n",
    "    df['CUMRET_HOLD'] = initial_wealth * df.RET.cumprod(axis=None, skipna=True)\n",
    "\n",
    "    # Cumulative wealth for ema strategy\n",
    "    df['RET_EMA'] = np.where(df.POSITION == 'long', df.RET, 1.0)\n",
    "    df['CUMRET_EMA'] = df.RET_EMA.cumprod(\n",
    "        axis=None, skipna=True) * initial_wealth\n",
    "    df.loc[df.index[0], 'CUMRET_EMA'] = initial_wealth\n",
    "    df = df.drop(['RET_EMA'], axis=1)\n",
    "    df = df.drop(['SIGN'], axis=1)\n",
    "    df.to_csv('check.csv', sep=',')\n",
    "    return df\n"
   ]
  },
  {
   "cell_type": "markdown",
   "metadata": {},
   "source": [
    "#### Test driver for main algorithm"
   ]
  },
  {
   "cell_type": "markdown",
   "metadata": {
    "ExecuteTime": {
     "end_time": "2021-03-23T11:12:58.836819Z",
     "start_time": "2021-03-23T11:12:58.721758Z"
    }
   },
   "source": [
    "start_date = '2018-12-31'\n",
    "end_date = '2021-03-19'\n",
    "span   = 29\n",
    "buffer = .015\n",
    "reactivity = 1\n",
    "df = get_strategy(security.loc[start_date:end_date, :].copy(),\n",
    "                  span,\n",
    "                  buffer)\n",
    "df"
   ]
  },
  {
   "cell_type": "markdown",
   "metadata": {},
   "source": [
    "## Plotting functions"
   ]
  },
  {
   "cell_type": "markdown",
   "metadata": {},
   "source": [
    "#### Default plot parameters"
   ]
  },
  {
   "cell_type": "code",
   "execution_count": 10,
   "metadata": {
    "ExecuteTime": {
     "end_time": "2021-03-23T13:42:33.337438Z",
     "start_time": "2021-03-23T13:42:33.295097Z"
    }
   },
   "outputs": [],
   "source": [
    "colors = plt.rcParams['axes.prop_cycle'].by_key()['color']\n",
    "year_month_fmt = mdates.DateFormatter('%b-%y')\n",
    "title_size     = 14\n",
    "vline_color    = 'tomato'\n",
    "gridcolor      = '#ededed'\n",
    "title_color    = 'dimgrey'\n",
    "fig_width      = 14\n",
    "fig_height     = 8"
   ]
  },
  {
   "cell_type": "markdown",
   "metadata": {},
   "source": [
    "### Supporting routines"
   ]
  },
  {
   "cell_type": "code",
   "execution_count": 11,
   "metadata": {
    "ExecuteTime": {
     "end_time": "2021-03-23T13:42:33.382306Z",
     "start_time": "2021-03-23T13:42:33.339342Z"
    }
   },
   "outputs": [],
   "source": [
    "def save_figure(p_file, dpi=360, extension='png'):\n",
    "    '''\n",
    "    Save figure to file\n",
    "    '''\n",
    "    filename = os.path.join(PLOT_DIR, p_file + f'.{extension}')\n",
    "    plt.savefig(filename,\n",
    "                dpi=dpi,\n",
    "                transparent=False,\n",
    "                orientation='landscape',\n",
    "                bbox_inches='tight')"
   ]
  },
  {
   "cell_type": "code",
   "execution_count": 12,
   "metadata": {
    "ExecuteTime": {
     "end_time": "2021-03-23T13:42:33.429288Z",
     "start_time": "2021-03-23T13:42:33.384183Z"
    }
   },
   "outputs": [],
   "source": [
    "def plot_arrows(axis, data):\n",
    "    ''' \n",
    "    Draws position-switching arrows on axis\n",
    "    '''\n",
    "    vertical_range = data['Close'].max() - data['Close'].min()\n",
    "    horizont_range = (data.index[-1] - data.index[0]).days\n",
    "    arrow_length   = vertical_range/10\n",
    "    head_width     = horizont_range/100\n",
    "    head_length    = vertical_range/50\n",
    "    space          = vertical_range/100  # space bw arrow tip and curve\n",
    "\n",
    "    for row in range(data.shape[0]):\n",
    "        if data.SWITCH[row] == switches[0]:  # buy\n",
    "            y_start = data.loc[data.index[row], 'Close'] + arrow_length\n",
    "            color = colors[2]\n",
    "            dy = -arrow_length+space\n",
    "        elif data.SWITCH[row] == switches[1]:  # sell\n",
    "            y_start = data.loc[data.index[row], 'Close'] - arrow_length\n",
    "            color = colors[3]\n",
    "            dy = arrow_length-space\n",
    "        else:  # don't draw the arrow\n",
    "            continue\n",
    "        arrow_start = data.loc[data.index[row], 'Close']\n",
    "        axis.arrow(x=data.index[row], y=y_start,\n",
    "                   dx=0, dy=dy,\n",
    "                   head_width=head_width,\n",
    "                   head_length=head_length,\n",
    "                   length_includes_head=True,\n",
    "                   linestyle='-',\n",
    "                   color=color,\n",
    "                  )"
   ]
  },
  {
   "cell_type": "markdown",
   "metadata": {},
   "source": [
    "### Main plotting function"
   ]
  },
  {
   "cell_type": "code",
   "execution_count": 13,
   "metadata": {
    "ExecuteTime": {
     "end_time": "2021-03-23T13:42:33.476461Z",
     "start_time": "2021-03-23T13:42:33.431195Z"
    }
   },
   "outputs": [],
   "source": [
    "def plot_moving(span, fee_pct, buffer, date_range, reactivity=1):\n",
    "    '''\n",
    "    Plots price with moving average\n",
    "    span -> rolling span\n",
    "    fee -> fee associated with switching position\n",
    "    reactivity -> time lag in days after Close (normally = 1)\n",
    "    '''\n",
    "    title_date_format = '%d-%b-%Y'\n",
    "    start = date_range[0]\n",
    "    end   = date_range[1]\n",
    "    start_string = start.strftime('%d-%b-%Y')\n",
    "    end_string   = end.strftime('%d-%b-%Y')\n",
    "    \n",
    "    #start = datetime.strptime(start_date, \"%Y-%m-%d\")\n",
    "    #end = datetime.strptime(end_date, \"%Y-%m-%d\")\n",
    "\n",
    "    # Extract time window\n",
    "    df = get_strategy(security.loc[start:end, :].copy(),\n",
    "                      span,\n",
    "                      buffer,\n",
    "                     )\n",
    "    fee = get_fee(df, fee_pct)\n",
    "    hold = get_cumret(df, 'hold')  # cumulative returns for hold strategy\n",
    "    ema = get_cumret(df, 'ema', fee)  # cumulative returns for EMA strategy\n",
    "\n",
    "    fig, ax = plt.subplots(figsize=(14, 8))\n",
    "    ax.plot(df.index, df.Close, linewidth=1, label='Price')\n",
    "    ax.plot(df.index, df.EMA, linewidth=1, label=f'{span}-days EMA')\n",
    "\n",
    "    ax.legend(loc='best')\n",
    "    ax.set_ylabel('Price ($)')\n",
    "    ax.xaxis.set_major_formatter(year_month_fmt)\n",
    "    ax.grid(b=None, which='both', axis='both',\n",
    "             color=gridcolor, linestyle='-', linewidth=1)\n",
    "\n",
    "    title  = f'{TICKER} | '\n",
    "    title += f'{start.strftime(title_date_format)} - {end.strftime(title_date_format)}\\n'\n",
    "    title += f'EMA payoff={ema:.2%} (Hold={hold:.1%}) | '\n",
    "    title += f'{span}-day rolling mean | {buffer:.2%} buffer'\n",
    "    ax.set_title(title, fontsize=title_size, color=title_color)\n",
    "\n",
    "    plot_arrows(ax, df)\n",
    "    save_figure(f'{TICKER}_{start_string}_{end_string}')\n",
    "    return df"
   ]
  },
  {
   "cell_type": "markdown",
   "metadata": {},
   "source": [
    "#### Test driver for main plot"
   ]
  },
  {
   "cell_type": "code",
   "execution_count": 14,
   "metadata": {
    "ExecuteTime": {
     "end_time": "2021-03-23T13:42:33.521956Z",
     "start_time": "2021-03-23T13:42:33.478077Z"
    }
   },
   "outputs": [],
   "source": [
    "#start_date = '2017-07-15'\n",
    "#df = plot_moving(span=29, fee_pct=.004, buffer=.02)\n",
    "\n",
    "# display_full_dataframe(df)"
   ]
  },
  {
   "cell_type": "code",
   "execution_count": 15,
   "metadata": {
    "ExecuteTime": {
     "end_time": "2021-03-23T13:42:33.568384Z",
     "start_time": "2021-03-23T13:42:33.523722Z"
    }
   },
   "outputs": [],
   "source": [
    "def plot_max_values(df, ax, n_values, max_val, min_val, form):\n",
    "    largest_idx = pd.Series(df['ema'].nlargest(n_values)).index\n",
    "    for large in largest_idx:\n",
    "        ax.axvline(df.iloc[large][0],\n",
    "                   color=vline_color,\n",
    "                   linestyle=':',\n",
    "                   linewidth=1)\n",
    "        if form.lower() == 'integer':\n",
    "            text = f'{df.iloc[large][0]:.0f}'\n",
    "        elif form.lower() == 'percent':\n",
    "            text = f'{df.iloc[large][0]:.2%}'\n",
    "        else:\n",
    "            raise ValueError(f'{form} not implemented / shoudl be integer or percent')\n",
    "            \n",
    "        ax.annotate(text=text,\n",
    "                    xy=(df.iloc[large][0],\n",
    "                        min_val + np.random.uniform(0, 1)*(max_val-min_val)),\n",
    "                    color=vline_color,\n",
    "                    )\n",
    "    return largest_idx"
   ]
  },
  {
   "cell_type": "code",
   "execution_count": 16,
   "metadata": {
    "ExecuteTime": {
     "end_time": "2021-03-23T13:42:33.612561Z",
     "start_time": "2021-03-23T13:42:33.570101Z"
    }
   },
   "outputs": [],
   "source": [
    "def plot_setup(df, target, xlabel):\n",
    "    fig, ax = plt.subplots(figsize=(fig_width, fig_height))\n",
    "    ax.plot(df[target],\n",
    "            df.ema,\n",
    "            linewidth=1,\n",
    "            label='EMA return',\n",
    "           )\n",
    "    ax.legend(loc='best')\n",
    "    ax.set_xlabel(xlabel)\n",
    "    ax.set_ylabel('return (x)')\n",
    "    plt.grid(b=None, which='major', axis='both', color='#f1f1f1')\n",
    "    return fig, ax"
   ]
  },
  {
   "cell_type": "code",
   "execution_count": 17,
   "metadata": {
    "ExecuteTime": {
     "end_time": "2021-03-23T13:42:33.659570Z",
     "start_time": "2021-03-23T13:42:33.614253Z"
    }
   },
   "outputs": [],
   "source": [
    "# Finds optimal span for a given buffer size\n",
    "def plot_span_range(buffer, n_values, fee_pct, date_range, extension='png'):\n",
    "    emas = []\n",
    "    span_range = [5, 60]\n",
    "    spans = np.arange(span_range[0],\n",
    "                      span_range[1] + 1)\n",
    "    start = date_range[0]\n",
    "    end   = date_range[1]\n",
    "    start_string = start.strftime('%d-%b-%Y')\n",
    "    end_string   = end.strftime('%d-%b-%Y')\n",
    "\n",
    "    for i, span in enumerate(spans):\n",
    "        df = get_strategy(security.loc[start:end, :].copy(),\n",
    "                          span,\n",
    "                          buffer,)\n",
    "        fee = get_fee(df, fee_pct)\n",
    "        ema = get_cumret(df, 'ema', fee)\n",
    "        emas.append(ema)\n",
    "        if i == 0:\n",
    "            hold = get_cumret(df, 'hold')\n",
    "    df = pd.DataFrame(data=[spans, emas]).T\n",
    "    df.columns = ['span', 'ema']\n",
    "    \n",
    "    max_val = df['ema'].max()\n",
    "    min_val = df['ema'].min()\n",
    "\n",
    "    # Plot\n",
    "    fig, ax     = plot_setup(df, target='span', xlabel='rolling mean span (days)')\n",
    "    largest_idx = plot_max_values(df, ax, n_values, max_val, min_val, 'integer')\n",
    "\n",
    "    title  = f'{TICKER} | {start_string} - {end_string}\\n'\n",
    "    title += f'EMA max payoff={max_val:.2%} (hold={hold:.2%}) | '\n",
    "    title += f'opt span={df.iloc[largest_idx[0]][0]:.0f} days | '\n",
    "    title += f'{buffer:.2%} buffer'\n",
    "    ax.set_title(title, fontsize=title_size, color=title_color)\n",
    "\n",
    "    # save plot to file\n",
    "    save_figure(f'{TICKER}_{start_string}_{end_string}_spans')"
   ]
  },
  {
   "cell_type": "code",
   "execution_count": 18,
   "metadata": {
    "ExecuteTime": {
     "end_time": "2021-03-23T13:42:33.706841Z",
     "start_time": "2021-03-23T13:42:33.661261Z"
    }
   },
   "outputs": [],
   "source": [
    "# Finds optimal buffer size for a given rolling-window span\n",
    "\n",
    "def plot_buffer_range(span, n_values, fee_pct, date_range, extension='png'):\n",
    "    buffer_range = [0, .03]\n",
    "    buffers = np.linspace(buffer_range[0],\n",
    "                          buffer_range[1],\n",
    "                          101)\n",
    "    start = date_range[0]\n",
    "    end   = date_range[1]\n",
    "    start_string = start.strftime('%d-%b-%Y')\n",
    "    end_string   = end.strftime('%d-%b-%Y')\n",
    "    \n",
    "    emas = []\n",
    "    for i, buffer in enumerate(buffers):\n",
    "        df = get_strategy(security.loc[start:end, :].copy(),\n",
    "                          span,\n",
    "                          buffer,)\n",
    "        if i == 0:\n",
    "            hold = get_cumret(df, 'hold')\n",
    "        fee = get_fee(df, fee_pct)\n",
    "        emas.append(get_cumret(df, 'ema', fee))\n",
    "        \n",
    "    df = pd.DataFrame(data=[buffers, emas]).T\n",
    "    df.columns = ['buffer', 'ema']\n",
    "    \n",
    "    max_val = df['ema'].max()\n",
    "    min_val = df['ema'].min()\n",
    "\n",
    "    # Plot\n",
    "    fig, ax     = plot_setup(df, target='buffer', xlabel='buffer size (% around EMA)')\n",
    "    largest_idx = plot_max_values(df, ax, n_values, max_val, min_val, 'percent')\n",
    "\n",
    "    title  = f'{TICKER} | {start_string} - {end_string}\\n'\n",
    "    title += f'EMA max payoff={max_val:.2%} (hold={hold:.2%}) | '\n",
    "    title += f'{span}-day mean | '\n",
    "    title += f'opt buffer={df.iloc[largest_idx[0]][0]:.2%}' \n",
    "    ax.set_title(title, fontsize=title_size, color=title_color)\n",
    " \n",
    "    save_figure(f'{TICKER}_{start_string}_{end_string}_buffers')"
   ]
  },
  {
   "cell_type": "code",
   "execution_count": null,
   "metadata": {
    "ExecuteTime": {
     "start_time": "2021-03-23T13:42:26.959Z"
    },
    "scrolled": false
   },
   "outputs": [
    {
     "data": {
      "application/vnd.jupyter.widget-view+json": {
       "model_id": "d610df8d91d7444bbf41c27730e8764e",
       "version_major": 2,
       "version_minor": 0
      },
      "text/plain": [
       "Outer Level / 56: 0it [00:00, ?it/s]"
      ]
     },
     "metadata": {},
     "output_type": "display_data"
    }
   ],
   "source": [
    "# Contour plot of EMA for all window span/buffer size combinations\n",
    "\n",
    "def plot_maxima(emas, spans, buffers, hold, ax, n_maxima):\n",
    "        '''\n",
    "        Plot points corresponding to n_maxima largest EMA  \n",
    "        '''\n",
    "        for i in range(n_maxima):\n",
    "            # Get coordinates of maximum emas value\n",
    "            max_idx = np.unravel_index(np.argmax(emas, axis=None),\n",
    "                                       emas.shape)\n",
    "            if i == 0: # Save best EMA\n",
    "                max_ema  = np.max(emas) \n",
    "                max_span = spans[max_idx[0]]\n",
    "                max_buff = buffers[max_idx[1]]\n",
    "\n",
    "            ax.plot(buffers[max_idx[1]], spans[max_idx[0]], marker = 'x')\n",
    "            ax.annotate(i, xy=(buffers[max_idx[1]],\n",
    "                               spans[max_idx[0]]), \n",
    "                           textcoords='data',\n",
    "                           fontsize=8,\n",
    "                        )\n",
    "            print(f'Max EMA {i}={np.max(emas):.2%}: {spans[max_idx[0]]:.0f}-days buffer={buffers[max_idx[1]]:.2%} (hold={hold:.2%})')\n",
    "            \n",
    "            # set max emas value to arbitrily small number and re-iterate\n",
    "            emas[max_idx[0]][max_idx[1]] = - HUGE\n",
    "        return max_ema, max_span, max_buff\n",
    "\n",
    "def plot_buffer_span_contours(fee_pct=FEE_PCT):\n",
    "    fig_size   = (14, 14)\n",
    "    n_contours = 10 # number of contours\n",
    "    n_maxima   = 8 # number of maximum points to plot\n",
    "    n_buffers  = 101\n",
    "    \n",
    "    # Get start & end dates in various fomats\n",
    "    start, end             = get_datetime_dates()\n",
    "    start_title, end_title = get_title_dates()\n",
    "    start_name, end_name   = get_filename_dates()\n",
    "    \n",
    "    # define rolling window span range\n",
    "    span_range = [5, 60]\n",
    "    spans = np.arange(span_range[0],\n",
    "                      span_range[1] + 1, \n",
    "                      step = 1)\n",
    "    \n",
    "    # define buffer range\n",
    "    buffer_range = [0, .03]\n",
    "    buffers = np.linspace(buffer_range[0],\n",
    "                          buffer_range[1],\n",
    "                          n_buffers)\n",
    "    # Initialize EMA returns \n",
    "    emas = np.zeros((spans.shape[0], buffers.shape[0]), dtype=np.float64)\n",
    "    \n",
    "    # Fill EMAS for all span/buffer combinations\n",
    "    tqdm_desc = f'Outer Level / {span_range[1]-span_range[0]+1}'\n",
    "    for i, span in tqdm(enumerate(spans), desc=tqdm_desc):\n",
    "        for j, buffer in enumerate(buffers):\n",
    "            df  = get_strategy(security.loc[start:end, :].copy(),\n",
    "                               span,\n",
    "                               buffer,) \n",
    "            emas[i][j] = get_cumret(df, 'ema', get_fee(df, fee_pct))\n",
    "            if i == 0 and j == 0:\n",
    "                hold = get_cumret(df, 'hold')\n",
    "\n",
    "    # Plot\n",
    "    fig, ax = plt.subplots(figsize=fig_size)\n",
    "    plt.contourf(buffers, spans, emas, \n",
    "                 levels=n_contours, \n",
    "                 cmap='viridis', \n",
    "                 )\n",
    "    plt.colorbar(label='EMA return')\n",
    "            \n",
    "    # Plot maxima points \n",
    "    max_ema, max_span, max_buff = plot_maxima(emas, spans, buffers, hold, ax, n_maxima)\n",
    "        \n",
    "    # Axis labels\n",
    "    ax.set_xlabel('buffer')\n",
    "    ax.set_ylabel('span')\n",
    "    \n",
    "    # Build title\n",
    "    title  = f'{TICKER} | {start_title} - {end_title}\\n'\n",
    "    title += f'EMA max payoff={max_ema:.2%} (hold={hold:.2%}) | '\n",
    "    title += f'{max_span:.0f}-day mean | '\n",
    "    title += f'opt buffer={max_buff:.2%}'\n",
    "    ax.set_title(title, fontsize=title_size, color=title_color)\n",
    "    \n",
    "    plt.grid(b=None, which='major', axis='both', color=gridcolor)\n",
    "    save_figure(f'{TICKER}_{start_name}_{end_name}_contours')\n",
    "    plt.show()\n",
    "    \n",
    "plot_buffer_span_contours()\n",
    "    "
   ]
  },
  {
   "cell_type": "markdown",
   "metadata": {},
   "source": [
    "### Interactive plots"
   ]
  },
  {
   "cell_type": "markdown",
   "metadata": {
    "ExecuteTime": {
     "end_time": "2021-03-22T12:10:46.432031Z",
     "start_time": "2021-03-22T12:10:46.387091Z"
    }
   },
   "source": [
    "#### Widget defaults"
   ]
  },
  {
   "cell_type": "code",
   "execution_count": null,
   "metadata": {
    "ExecuteTime": {
     "start_time": "2021-03-23T13:42:26.961Z"
    }
   },
   "outputs": [],
   "source": [
    "string_style = {'description_width': 'initial', \n",
    "                'handle_color':      'lawngreen'}\n",
    "\n",
    "#start_period = security.index[0] # beginning of downloaded data\n",
    "#end_period   = datetime.strptime(END_DATE, \"%Y-%m-%d\") # set in default parameters\n",
    "start_period, end_period = get_datetime_dates()\n",
    "dates   = pd.date_range(start_period, end_period, freq='D')\n",
    "options = [(date.strftime(' %d/%m/%Y'), date) for date in dates]\n",
    "index   = (0, len(options)-1)\n",
    "\n",
    "# Tx/broker's fee\n",
    "min_fee     = 0.0\n",
    "max_fee     = .01\n",
    "delta_fee   = .0005\n",
    "default_fee = FEE_PCT\n",
    "\n",
    "# of days for running mean\n",
    "min_span     = 1\n",
    "max_span     = 90\n",
    "delta_span   = 1\n",
    "default_span = 20\n",
    "\n",
    "# buffer around EMA\n",
    "min_buffer     = 0\n",
    "max_buffer     = .03\n",
    "delta_buffer   = .0001\n",
    "default_buffer = .01\n",
    "\n",
    "# number of maxima\n",
    "max_value     = 12\n",
    "default_value = 10\n",
    "\n",
    "#start_date = '2017-07-15'"
   ]
  },
  {
   "cell_type": "markdown",
   "metadata": {},
   "source": [
    "#### Interactive returns for window span"
   ]
  },
  {
   "cell_type": "code",
   "execution_count": null,
   "metadata": {
    "ExecuteTime": {
     "start_time": "2021-03-23T13:42:26.966Z"
    }
   },
   "outputs": [],
   "source": [
    "# Mean window span range optimizer interactive\n",
    "\n",
    "buffer_slider = FloatSlider(min=min_buffer,\n",
    "                            max=max_buffer,\n",
    "                            step=delta_buffer,\n",
    "                            value=default_buffer,\n",
    "                            style=string_style,\n",
    "                            continuous_update=False,\n",
    "                            description='Buffer (%):',\n",
    "                            disabled=False,\n",
    "                            readout=True,\n",
    "                            readout_format='.2%',\n",
    "                            layout      = {'width': '250px'},\n",
    "                           )\n",
    "\n",
    "max_values_slider = SelectionSlider(options=[x for x in range(0, max_value+1)],\n",
    "                                    value=default_value,\n",
    "                                    description='Number of maxima:',\n",
    "                                    style=string_style,\n",
    "                                    disabled=False,\n",
    "                                    continuous_update=False,\n",
    "                                    readout=True,\n",
    "                                    readout_format='d',\n",
    "                                    layout      = {'width': '500px'},\n",
    "                                   )\n",
    "\n",
    "fee_slider = FloatSlider(min=min_fee,\n",
    "                         max=max_fee,\n",
    "                         step=delta_fee,\n",
    "                         value=default_fee,\n",
    "                         description='Fees (%):',\n",
    "                         style=string_style,\n",
    "                         disabled=False,\n",
    "                         continuous_update=False,\n",
    "                         readout=True,\n",
    "                         readout_format='.2%',\n",
    "                         layout      = {'width': '250px'},\n",
    "                        )\n",
    "\n",
    "date_range_slider = SelectionRangeSlider(options = options,\n",
    "                                         index   = index,\n",
    "                                         description = 'Period:',\n",
    "                                         orientation = 'horizontal',\n",
    "                                         style       = string_style,\n",
    "                                         layout      = {'width': '500px'}\n",
    "                                        )\n",
    "\n",
    "ui  = widgets.HBox([buffer_slider, fee_slider, max_values_slider])\n",
    "out = widgets.interactive_output(plot_span_range,\n",
    "                                 {'buffer': buffer_slider,\n",
    "                                  'n_values': max_values_slider,\n",
    "                                  'fee_pct': fee_slider,\n",
    "                                  }\n",
    "                                 )\n",
    "\n",
    "out = interactive_output(plot_span_range,\n",
    "                         {'buffer'      : buffer_slider,\n",
    "                          'n_values'  : max_values_slider,\n",
    "                          'fee_pct'   : fee_slider,\n",
    "                          'date_range': date_range_slider,\n",
    "                          }\n",
    "                         )\n",
    "\n",
    "ui = TwoByTwoLayout(top_left     = fee_slider,\n",
    "                    top_right    = date_range_slider,\n",
    "                    bottom_left  = buffer_slider,\n",
    "                    bottom_right = max_values_slider,\n",
    "                    )\n",
    "\n",
    "display(ui, out)"
   ]
  },
  {
   "cell_type": "markdown",
   "metadata": {},
   "source": [
    "#### Interactive returns for buffer size"
   ]
  },
  {
   "cell_type": "code",
   "execution_count": null,
   "metadata": {
    "ExecuteTime": {
     "start_time": "2021-03-23T13:42:26.970Z"
    }
   },
   "outputs": [],
   "source": [
    "# Buffer range optimizer interactive \n",
    "span_slider = IntSlider(min=min_span,\n",
    "                        max=max_span,\n",
    "                        step=delta_span,\n",
    "                        value=default_span,\n",
    "                        description='Mean span:',\n",
    "                        style=string_style,\n",
    "                        disabled=False,\n",
    "                        continuous_update=False,\n",
    "                        readout=True,\n",
    "                        readout_format='d',\n",
    "                        layout = {'width': '250px'},\n",
    "                       )\n",
    "\n",
    "max_values_slider = SelectionSlider(options=[x for x in range(0, max_value+1)],\n",
    "                                    value=default_value,\n",
    "                                    description='Number of maxima:',\n",
    "                                    style=string_style,\n",
    "                                    disabled=False,\n",
    "                                    continuous_update=False,\n",
    "                                    readout=True,\n",
    "                                    readout_format='d',\n",
    "                                    layout = {'width': '500px'},\n",
    "                                   )\n",
    "\n",
    "fee_slider = FloatSlider(min=min_fee,\n",
    "                         max=max_fee,\n",
    "                         step=delta_fee,\n",
    "                         value=default_fee,\n",
    "                         description='Fees (%):',\n",
    "                         style=string_style,\n",
    "                         disabled=False,\n",
    "                         continuous_update=False,\n",
    "                         readout=True,\n",
    "                         readout_format='.2%',\n",
    "                         layout = {'width': '250px'},\n",
    "                        )\n",
    "\n",
    "date_range_slider = SelectionRangeSlider(options = options,\n",
    "                                         index   = index,\n",
    "                                         description = 'Period:',\n",
    "                                         orientation = 'horizontal',\n",
    "                                         style  = string_style,\n",
    "                                         layout = {'width': '500px'},\n",
    "                                        )\n",
    "\n",
    "out = interactive_output(plot_buffer_range,\n",
    "                         {'span'      : span_slider,\n",
    "                          'n_values'  : max_values_slider,\n",
    "                          'fee_pct'   : fee_slider,\n",
    "                          'date_range': date_range_slider,\n",
    "                          }\n",
    "                         )\n",
    "\n",
    "ui = TwoByTwoLayout(top_left     = fee_slider,\n",
    "                    top_right    = date_range_slider,\n",
    "                    bottom_left  = span_slider,\n",
    "                    bottom_right = max_values_slider,\n",
    "                    )\n",
    "\n",
    "display(ui, out)"
   ]
  },
  {
   "cell_type": "markdown",
   "metadata": {},
   "source": [
    "#### Interactive buffer-span"
   ]
  },
  {
   "cell_type": "code",
   "execution_count": null,
   "metadata": {
    "ExecuteTime": {
     "start_time": "2021-03-23T13:42:26.974Z"
    }
   },
   "outputs": [],
   "source": [
    "# Buffer-span interactive plot\n",
    "\n",
    "fee_slider = FloatSlider(min=min_fee,\n",
    "                         max=max_fee,\n",
    "                         step=delta_fee,\n",
    "                         value=default_fee,\n",
    "                         description='Fees (%):',\n",
    "                         style=string_style,\n",
    "                         disabled=False,\n",
    "                         continuous_update=False,\n",
    "                         readout=True,\n",
    "                         readout_format='.2%',\n",
    "                         layout={'width': '250px'},\n",
    "                         )\n",
    "\n",
    "span_slider = IntSlider(min=min_span,\n",
    "                        max=max_span,\n",
    "                        step=delta_span,\n",
    "                        value=default_span,\n",
    "                        description='Mean span:',\n",
    "                        style=string_style,\n",
    "                        disabled=False,\n",
    "                        continuous_update=False,\n",
    "                        readout=True,\n",
    "                        readout_format='d',\n",
    "                        layout={'width': '250px'},\n",
    "                        )\n",
    "\n",
    "buffer_slider = FloatSlider(min=min_buffer,\n",
    "                            max=max_buffer,\n",
    "                            step=delta_buffer,\n",
    "                            value=default_buffer,\n",
    "                            style=string_style,\n",
    "                            continuous_update=False,\n",
    "                            description='Buffer (%):',\n",
    "                            disabled=False,\n",
    "                            readout=True,\n",
    "                            readout_format='.2%',\n",
    "                            layout={'width': '500px'},\n",
    "                            )\n",
    "\n",
    "# Date range slider\n",
    "date_range_slider = SelectionRangeSlider(options = options,\n",
    "                                         index   = index,\n",
    "                                         description = 'Period:',\n",
    "                                         orientation = 'horizontal',\n",
    "                                         style       = string_style,\n",
    "                                         layout      = {'width': '500px'}\n",
    "                                        )\n",
    "\n",
    "\n",
    "out = interactive_output(plot_moving,\n",
    "                         {'span'      : span_slider,\n",
    "                          'buffer'    : buffer_slider,\n",
    "                          'fee_pct'   : fee_slider,\n",
    "                          'date_range': date_range_slider,\n",
    "                          }\n",
    "                         )\n",
    "\n",
    "ui = TwoByTwoLayout(top_left     = fee_slider,\n",
    "                    top_right    = date_range_slider,\n",
    "                    bottom_left  = span_slider,\n",
    "                    bottom_right = buffer_slider,\n",
    "                    )\n",
    "\n",
    "display(ui, out)"
   ]
  },
  {
   "cell_type": "code",
   "execution_count": null,
   "metadata": {},
   "outputs": [],
   "source": []
  }
 ],
 "metadata": {
  "kernelspec": {
   "display_name": "Python 3",
   "language": "python",
   "name": "python3"
  },
  "language_info": {
   "codemirror_mode": {
    "name": "ipython",
    "version": 3
   },
   "file_extension": ".py",
   "mimetype": "text/x-python",
   "name": "python",
   "nbconvert_exporter": "python",
   "pygments_lexer": "ipython3",
   "version": "3.8.8"
  },
  "toc": {
   "base_numbering": 1,
   "nav_menu": {},
   "number_sections": false,
   "sideBar": true,
   "skip_h1_title": false,
   "title_cell": "Table of Contents",
   "title_sidebar": "Contents",
   "toc_cell": false,
   "toc_position": {
    "height": "calc(100% - 180px)",
    "left": "10px",
    "top": "150px",
    "width": "234.238px"
   },
   "toc_section_display": true,
   "toc_window_display": false
  }
 },
 "nbformat": 4,
 "nbformat_minor": 4
}
