{
 "cells": [
  {
   "cell_type": "markdown",
   "metadata": {},
   "source": [
    "# Moving average trading"
   ]
  },
  {
   "cell_type": "code",
   "execution_count": 1,
   "metadata": {
    "ExecuteTime": {
     "end_time": "2021-03-24T08:33:12.866792Z",
     "start_time": "2021-03-24T08:33:11.503669Z"
    }
   },
   "outputs": [],
   "source": [
    "import os\n",
    "import pandas as pd\n",
    "import numpy as np\n",
    "#from tqdm.notebook import tqdm\n",
    "from datetime import datetime\n",
    "import matplotlib.pyplot as plt\n",
    "import matplotlib.dates as mdates\n",
    "#import seaborn as sns\n",
    "import ipywidgets as widgets\n",
    "from ipywidgets import HBox, VBox, TwoByTwoLayout, Label\n",
    "from ipywidgets import interactive, interactive_output\n",
    "from ipywidgets import FloatSlider, IntSlider, SelectionSlider, SelectionRangeSlider\n",
    "from IPython.display import display\n",
    "import security_comparison as sc\n",
    "import trading as tra\n",
    "import trading_plots as trp\n",
    "\n",
    "from trading_defaults import *\n",
    "\n",
    "%matplotlib inline\n",
    "%load_ext autoreload\n",
    "%autoreload 2"
   ]
  },
  {
   "cell_type": "markdown",
   "metadata": {},
   "source": [
    "### Default parameters"
   ]
  },
  {
   "cell_type": "code",
   "execution_count": 2,
   "metadata": {
    "ExecuteTime": {
     "end_time": "2021-03-24T08:33:12.908667Z",
     "start_time": "2021-03-24T08:33:12.868472Z"
    },
    "hide_input": false
   },
   "outputs": [],
   "source": [
    "TICKER     = 'TDOC'\n",
    "REFRESH    = True # Download fresh Yahoo data \n",
    "\n",
    "START_DATE = '2017-07-15'\n",
    "END_DATE   = '2021-03-22'"
   ]
  },
  {
   "cell_type": "markdown",
   "metadata": {},
   "source": [
    "### Data download"
   ]
  },
  {
   "cell_type": "code",
   "execution_count": 3,
   "metadata": {
    "ExecuteTime": {
     "end_time": "2021-03-24T08:33:13.010792Z",
     "start_time": "2021-03-24T08:33:12.910998Z"
    }
   },
   "outputs": [
    {
     "name": "stdout",
     "output_type": "stream",
     "text": [
      "Downloading data from Yahoo Finance\n",
      "Loading ticker TDOC\n",
      "[*********************100%***********************]  1 of 1 completed\n"
     ]
    },
    {
     "data": {
      "text/html": [
       "<div>\n",
       "<style scoped>\n",
       "    .dataframe tbody tr th:only-of-type {\n",
       "        vertical-align: middle;\n",
       "    }\n",
       "\n",
       "    .dataframe tbody tr th {\n",
       "        vertical-align: top;\n",
       "    }\n",
       "\n",
       "    .dataframe thead th {\n",
       "        text-align: right;\n",
       "    }\n",
       "</style>\n",
       "<table border=\"1\" class=\"dataframe\">\n",
       "  <thead>\n",
       "    <tr style=\"text-align: right;\">\n",
       "      <th></th>\n",
       "      <th>Close</th>\n",
       "    </tr>\n",
       "    <tr>\n",
       "      <th>Date</th>\n",
       "      <th></th>\n",
       "    </tr>\n",
       "  </thead>\n",
       "  <tbody>\n",
       "    <tr>\n",
       "      <th>2016-03-24</th>\n",
       "      <td>9.94</td>\n",
       "    </tr>\n",
       "    <tr>\n",
       "      <th>2016-03-28</th>\n",
       "      <td>9.50</td>\n",
       "    </tr>\n",
       "    <tr>\n",
       "      <th>2016-03-29</th>\n",
       "      <td>9.95</td>\n",
       "    </tr>\n",
       "    <tr>\n",
       "      <th>2016-03-30</th>\n",
       "      <td>9.90</td>\n",
       "    </tr>\n",
       "    <tr>\n",
       "      <th>2016-03-31</th>\n",
       "      <td>9.60</td>\n",
       "    </tr>\n",
       "    <tr>\n",
       "      <th>...</th>\n",
       "      <td>...</td>\n",
       "    </tr>\n",
       "    <tr>\n",
       "      <th>2021-03-18</th>\n",
       "      <td>185.43</td>\n",
       "    </tr>\n",
       "    <tr>\n",
       "      <th>2021-03-19</th>\n",
       "      <td>190.98</td>\n",
       "    </tr>\n",
       "    <tr>\n",
       "      <th>2021-03-22</th>\n",
       "      <td>197.28</td>\n",
       "    </tr>\n",
       "    <tr>\n",
       "      <th>2021-03-23</th>\n",
       "      <td>193.74</td>\n",
       "    </tr>\n",
       "    <tr>\n",
       "      <th>2021-03-24</th>\n",
       "      <td>185.56</td>\n",
       "    </tr>\n",
       "  </tbody>\n",
       "</table>\n",
       "<p>1259 rows × 1 columns</p>\n",
       "</div>"
      ],
      "text/plain": [
       "            Close\n",
       "Date             \n",
       "2016-03-24   9.94\n",
       "2016-03-28   9.50\n",
       "2016-03-29   9.95\n",
       "2016-03-30   9.90\n",
       "2016-03-31   9.60\n",
       "...           ...\n",
       "2021-03-18 185.43\n",
       "2021-03-19 190.98\n",
       "2021-03-22 197.28\n",
       "2021-03-23 193.74\n",
       "2021-03-24 185.56\n",
       "\n",
       "[1259 rows x 1 columns]"
      ]
     },
     "execution_count": 3,
     "metadata": {},
     "output_type": "execute_result"
    }
   ],
   "source": [
    "raw = tra.load_security(dirname = DATA_DIR, \n",
    "                        ticker  = TICKER, \n",
    "                        refresh = REFRESH, \n",
    "                        period  = DEFAULT_PERIOD,\n",
    "                        )\n",
    "security = pd.DataFrame(raw[f'Close_{TICKER}'])\n",
    "security.rename(columns={f'Close_{TICKER}': \"Close\"},\n",
    "                inplace=True)\n",
    "\n",
    "security"
   ]
  },
  {
   "cell_type": "markdown",
   "metadata": {},
   "source": [
    "#### Setup default start & end dates"
   ]
  },
  {
   "cell_type": "code",
   "execution_count": 4,
   "metadata": {
    "ExecuteTime": {
     "end_time": "2021-03-24T08:33:13.054428Z",
     "start_time": "2021-03-24T08:33:13.013262Z"
    }
   },
   "outputs": [
    {
     "name": "stdout",
     "output_type": "stream",
     "text": [
      "('15-Jul-2017', '22-Mar-2021')\n",
      "(datetime.datetime(2017, 7, 15, 0, 0), datetime.datetime(2021, 3, 22, 0, 0))\n",
      "('2017-07-15', '2021-03-22')\n"
     ]
    }
   ],
   "source": [
    "# Check dates \n",
    "print(tra.get_title_dates(security, START_DATE, END_DATE))\n",
    "print(tra.get_datetime_dates(security, START_DATE, END_DATE))\n",
    "print(tra.get_filename_dates(security, START_DATE, END_DATE))"
   ]
  },
  {
   "cell_type": "markdown",
   "metadata": {},
   "source": [
    "## Plotting functions"
   ]
  },
  {
   "cell_type": "markdown",
   "metadata": {},
   "source": [
    "#### Default plot parameters"
   ]
  },
  {
   "cell_type": "code",
   "execution_count": 5,
   "metadata": {
    "ExecuteTime": {
     "end_time": "2021-03-24T08:33:13.284528Z",
     "start_time": "2021-03-24T08:33:13.244125Z"
    }
   },
   "outputs": [],
   "source": [
    "color_scheme   = plt.rcParams['axes.prop_cycle'].by_key()['color']\n",
    "year_month_fmt = mdates.DateFormatter('%b-%y')\n",
    "title_size     = 14\n",
    "vline_color    = 'tomato'\n",
    "gridcolor      = '#ededed'\n",
    "title_color    = 'dimgrey'\n",
    "fig_width      = 14\n",
    "fig_height     = 8"
   ]
  },
  {
   "cell_type": "markdown",
   "metadata": {},
   "source": [
    "### Main plotting function"
   ]
  },
  {
   "cell_type": "code",
   "execution_count": 6,
   "metadata": {
    "ExecuteTime": {
     "end_time": "2021-03-24T08:33:13.416124Z",
     "start_time": "2021-03-24T08:33:13.372119Z"
    }
   },
   "outputs": [],
   "source": [
    "def plot_moving(span, fee_pct, buffer, date_range, reactivity=1):\n",
    "    '''\n",
    "    Plots price with moving average\n",
    "    span -> rolling span\n",
    "    fee -> fee associated with buy/sell action \n",
    "    reactivity -> time lag in days after Close (normally = 1)\n",
    "    '''\n",
    "    title_date_format = '%d-%b-%Y'\n",
    "    start = date_range[0]\n",
    "    end   = date_range[1]\n",
    "    start_string = start.strftime('%d-%b-%Y')\n",
    "    end_string   = end.strftime('%d-%b-%Y')\n",
    "    \n",
    "    #start = datetime.strptime(start_date, \"%Y-%m-%d\")\n",
    "    #end = datetime.strptime(end_date, \"%Y-%m-%d\")\n",
    "\n",
    "    # Extract time window\n",
    "    df = tra.build_strategy(TICKER,\n",
    "                            security.loc[start:end, :].copy(),\n",
    "                            span,\n",
    "                            buffer,\n",
    "                            INIT_WEALTH,\n",
    "                           )\n",
    "    fee  = tra.get_fee(df, fee_pct, ACTIONS)\n",
    "    hold = tra.get_cumret(df, 'hold', INIT_WEALTH)  # cumulative returns for hold strategy\n",
    "    ema  = tra.get_cumret(df, 'ema', INIT_WEALTH, fee)  # cumulative returns for EMA strategy\n",
    "\n",
    "    fig, ax = plt.subplots(figsize=(14, 8))\n",
    "    ax.plot(df.index, df.Close, linewidth=1, label='Price')\n",
    "    ax.plot(df.index, df.EMA, linewidth=1, label=f'{span}-days EMA')\n",
    "\n",
    "    ax.legend(loc='best')\n",
    "    ax.set_ylabel('Price ($)')\n",
    "    ax.xaxis.set_major_formatter(year_month_fmt)\n",
    "    ax.grid(b=None, which='both', axis='both',\n",
    "             color=gridcolor, linestyle='-', linewidth=1)\n",
    "\n",
    "    title  = f'{TICKER} | '\n",
    "    title += f'{start.strftime(title_date_format)} - {end.strftime(title_date_format)}\\n'\n",
    "    title += f'EMA payoff={ema:.2%} (Hold={hold:.1%}) | '\n",
    "    title += f'{span}-day rolling mean | {buffer:.2%} buffer'\n",
    "    ax.set_title(title, fontsize=title_size, color=title_color)\n",
    "\n",
    "    trp.plot_arrows(ax, df, ACTIONS, colors)\n",
    "    trp.save_figure(PLOT_DIR, f'{TICKER}_{start_string}_{end_string}')\n",
    "    return df"
   ]
  },
  {
   "cell_type": "code",
   "execution_count": 18,
   "metadata": {
    "ExecuteTime": {
     "end_time": "2021-03-24T08:33:13.542752Z",
     "start_time": "2021-03-24T08:33:13.501262Z"
    }
   },
   "outputs": [],
   "source": [
    "# Finds optimal span for a given buffer size\n",
    "def plot_span_range(buffer, n_values, fee_pct, date_range, extension='png'):\n",
    "    emas = []\n",
    "    span_range = [MIN_SPAN, MAX_SPAN]\n",
    "    spans = np.arange(span_range[0],\n",
    "                      span_range[1] + 1)\n",
    "    start = date_range[0]\n",
    "    end   = date_range[1]\n",
    "    start_string = start.strftime('%d-%b-%Y')\n",
    "    end_string   = end.strftime('%d-%b-%Y')\n",
    "\n",
    "    for i, span in enumerate(spans):\n",
    "        df = tra.build_strategy(TICKER,\n",
    "                              security.loc[start:end, :].copy(),\n",
    "                              span,\n",
    "                              buffer,\n",
    "                              INIT_WEALTH,\n",
    "                             )\n",
    "        fee = tra.get_fee(df, fee_pct, ACTIONS)\n",
    "        ema = tra.get_cumret(df, 'ema', INIT_WEALTH, fee)\n",
    "        emas.append(ema)\n",
    "        if i == 0:\n",
    "            hold = tra.get_cumret(df, 'hold', INIT_WEALTH)\n",
    "    df = pd.DataFrame(data=[spans, emas]).T\n",
    "    df.columns = ['span', 'ema']\n",
    "    \n",
    "    max_val = df['ema'].max()\n",
    "    min_val = df['ema'].min()\n",
    "\n",
    "    # Plot\n",
    "    fig, ax     = trp.plot_setup(df, target='span', xlabel='rolling mean span (days)')\n",
    "    largest_idx = trp.plot_max_values(df, ax, n_values, max_val, min_val, 'integer')\n",
    "\n",
    "    title  = f'{TICKER} | {start_string} - {end_string}\\n'\n",
    "    title += f'EMA max payoff={max_val:.2%} (hold={hold:.2%}) | '\n",
    "    title += f'opt span={df.iloc[largest_idx[0]][0]:.0f} days | '\n",
    "    title += f'{buffer:.2%} buffer'\n",
    "    ax.set_title(title, fontsize=title_size, color=title_color)\n",
    "\n",
    "    # save plot to file\n",
    "    trp.save_figure(PLOT_DIR, f'{TICKER}_{start_string}_{end_string}_spans')"
   ]
  },
  {
   "cell_type": "code",
   "execution_count": 19,
   "metadata": {
    "ExecuteTime": {
     "end_time": "2021-03-24T08:33:13.633639Z",
     "start_time": "2021-03-24T08:33:13.590090Z"
    }
   },
   "outputs": [],
   "source": [
    "# Finds optimal buffer size for a given rolling-window span\n",
    "def plot_buffer_range(span, n_values, fee_pct, date_range, extension='png'):\n",
    "    buffer_range = [MIN_BUFF, MAX_BUFF]\n",
    "    buffers = np.linspace(buffer_range[0],\n",
    "                          buffer_range[1],\n",
    "                          101)\n",
    "    start = date_range[0]\n",
    "    end   = date_range[1]\n",
    "    start_string = start.strftime('%d-%b-%Y')\n",
    "    end_string   = end.strftime('%d-%b-%Y')\n",
    "    \n",
    "    emas = []\n",
    "    for i, buffer in enumerate(buffers):\n",
    "        df = tra.build_strategy(TICKER,\n",
    "                              security.loc[start:end, :].copy(),\n",
    "                              span,\n",
    "                              buffer,\n",
    "                              INIT_WEALTH,\n",
    "                             )\n",
    "        if i == 0:\n",
    "            hold = tra.get_cumret(df, 'hold', INIT_WEALTH)\n",
    "        fee = tra.get_fee(df, fee_pct, ACTIONS)\n",
    "        emas.append(tra.get_cumret(df, 'ema', INIT_WEALTH, fee))\n",
    "        \n",
    "    df = pd.DataFrame(data=[buffers, emas]).T\n",
    "    df.columns = ['buffer', 'ema']\n",
    "    \n",
    "    max_val = df['ema'].max()\n",
    "    min_val = df['ema'].min()\n",
    "\n",
    "    # Plot\n",
    "    fig, ax     = trp.plot_setup(df, target='buffer', xlabel='buffer size (% around EMA)')\n",
    "    largest_idx = trp.plot_max_values(df, ax, n_values, max_val, min_val, 'percent')\n",
    "\n",
    "    ax = trp.build_title(ax, \n",
    "                         TICKER, \n",
    "                         start_string, end_string, \n",
    "                         max_val, hold, \n",
    "                         span, df.iloc[largest_idx[0]][0],\n",
    "                        )\n",
    "    \n",
    "    #title  = f'{TICKER} | {start_string} - {end_string}\\n'\n",
    "    #title += f'EMA max payoff={max_val:.2%} (hold={hold:.2%}) | '\n",
    "    #title += f'{span}-day mean | '\n",
    "    #title += f'opt buffer={df.iloc[largest_idx[0]][0]:.2%}' \n",
    "    #ax.set_title(title, fontsize=title_size, color=title_color)\n",
    " \n",
    "    trp.save_figure(PLOT_DIR, f'{TICKER}_{start_string}_{end_string}_buffers')"
   ]
  },
  {
   "cell_type": "markdown",
   "metadata": {},
   "source": [
    "def build_ema_map(start, end, n_maxima, fee_pct):\n",
    "    ''' \n",
    "    Builds a 2D numpy array of EMAs as a function of span and buffer\n",
    "    '''\n",
    "    n_buffers  = 101\n",
    "    \n",
    "    # define rolling window span range\n",
    "    spans = np.arange(MIN_SPAN,\n",
    "                      MAX_SPAN + 1, \n",
    "                      step = 1)\n",
    "    \n",
    "    # define buffer range\n",
    "    buffers = np.linspace(MIN_BUFF,\n",
    "                          MAX_BUFF,\n",
    "                          n_buffers,)\n",
    "    \n",
    "    # Initialize EMA returns \n",
    "    emas = np.zeros((spans.shape[0], buffers.shape[0]), dtype=np.float64)\n",
    "    \n",
    "    # Fill EMAS for all span/buffer combinations\n",
    "    tqdm_desc = f'Outer Level / {MAX_SPAN - MIN_SPAN + 1}'\n",
    "    for i, span in tqdm(enumerate(spans), desc=tqdm_desc):\n",
    "        for j, buffer in enumerate(buffers):\n",
    "            df  = tra.build_strategy(TICKER,\n",
    "                                   security.loc[start:end, :].copy(),\n",
    "                                   span,\n",
    "                                   buffer,\n",
    "                                   INIT_WEALTH,\n",
    "                                  ) \n",
    "            emas[i][j] = tra.get_cumret(df, 'ema', \n",
    "                                        INIT_WEALTH, \n",
    "                                        tra.get_fee(df, fee_pct, ACTIONS))\n",
    "            if i == 0 and j == 0:\n",
    "                hold = tra.get_cumret(df, 'hold', INIT_WEALTH)\n",
    "    \n",
    "    return spans, buffers, emas, hold\n",
    "    "
   ]
  },
  {
   "cell_type": "code",
   "execution_count": 20,
   "metadata": {
    "ExecuteTime": {
     "end_time": "2021-03-24T08:39:36.615261Z",
     "start_time": "2021-03-24T08:33:13.635569Z"
    },
    "scrolled": false
   },
   "outputs": [
    {
     "name": "stderr",
     "output_type": "stream",
     "text": [
      "Outer Level / 56: 56it [03:36,  3.86s/it]\n"
     ]
    },
    {
     "name": "stdout",
     "output_type": "stream",
     "text": [
      "Max EMA 0=225.63%: 11-days buffer=0.81% (hold=464.46%)\n",
      "Max EMA 1=215.60%: 44-days buffer=2.88% (hold=464.46%)\n",
      "Max EMA 2=214.10%: 37-days buffer=1.77% (hold=464.46%)\n",
      "Max EMA 3=213.11%: 31-days buffer=2.10% (hold=464.46%)\n",
      "Max EMA 4=213.11%: 31-days buffer=2.13% (hold=464.46%)\n",
      "Max EMA 5=213.11%: 31-days buffer=2.16% (hold=464.46%)\n",
      "Max EMA 6=211.72%: 11-days buffer=0.78% (hold=464.46%)\n",
      "Max EMA 7=210.88%: 43-days buffer=2.91% (hold=464.46%)\n",
      "Max EMA 8=210.88%: 43-days buffer=2.94% (hold=464.46%)\n",
      "Max EMA 9=210.88%: 44-days buffer=2.91% (hold=464.46%)\n"
     ]
    },
    {
     "data": {
      "image/png": "[encoded data removed]",
      "text/plain": [
       "<Figure size 1008x1008 with 2 Axes>"
      ]
     },
     "metadata": {
      "needs_background": "light"
     },
     "output_type": "display_data"
    }
   ],
   "source": [
    "# Contour plot of EMA for all window span/buffer size combinations\n",
    "def plot_buffer_span_contours(fee_pct=FEE_PCT):\n",
    "    '''\n",
    "    Contour plot of EMA as a function of rolling-window span & buffer\n",
    "    '''\n",
    "    fig_size   = (14, 14)\n",
    "    n_contours = 10 # number of contours\n",
    "    n_maxima   = 10 # number of maximum points to plot\n",
    "    #n_buffers  = 101\n",
    "\n",
    "    # Get start & end dates in various fomats\n",
    "    start, end             = tra.get_datetime_dates(security, START_DATE, END_DATE)\n",
    "    start_title, end_title = tra.get_title_dates(security, START_DATE, END_DATE)\n",
    "    start_name, end_name   = tra.get_filename_dates(security, START_DATE, END_DATE)\n",
    "    \n",
    "    spans, buffers, emas, hold = tra.build_ema_map(TICKER, security, start, end)\n",
    "    \n",
    "    # Plot\n",
    "    fig, ax = plt.subplots(figsize=fig_size)\n",
    "    plt.contourf(buffers, spans, emas, \n",
    "                 levels=n_contours, \n",
    "                 cmap='viridis', \n",
    "                 )\n",
    "    plt.colorbar(label='EMA return')\n",
    "            \n",
    "    # Plot maxima points \n",
    "    max_ema, max_span, max_buff = trp.plot_maxima(emas, \n",
    "                                                  spans, \n",
    "                                                  buffers, \n",
    "                                                  hold, \n",
    "                                                  ax, \n",
    "                                                  n_maxima)\n",
    "        \n",
    "    # Axis labels\n",
    "    ax.set_xlabel('buffer')\n",
    "    ax.set_ylabel('span')\n",
    "    \n",
    "    # Build title\n",
    "    title  = f'{TICKER} | {start_title} - {end_title}\\n'\n",
    "    title += f'EMA max payoff={max_ema:.2%} (hold={hold:.2%}) | '\n",
    "    title += f'{max_span:.0f}-day mean | '\n",
    "    title += f'opt buffer={max_buff:.2%}'\n",
    "    ax.set_title(title, fontsize=title_size, color=title_color)\n",
    "    \n",
    "    plt.grid(b=None, which='major', axis='both', color=gridcolor)\n",
    "    trp.save_figure(PLOT_DIR, f'{TICKER}_{start_name}_{end_name}_contours')\n",
    "    plt.show()\n",
    "    \n",
    "plot_buffer_span_contours()\n",
    "    "
   ]
  },
  {
   "cell_type": "markdown",
   "metadata": {},
   "source": [
    "### Interactive plots"
   ]
  },
  {
   "cell_type": "markdown",
   "metadata": {
    "ExecuteTime": {
     "end_time": "2021-03-22T12:10:46.432031Z",
     "start_time": "2021-03-22T12:10:46.387091Z"
    }
   },
   "source": [
    "#### Widget defaults"
   ]
  },
  {
   "cell_type": "code",
   "execution_count": 21,
   "metadata": {
    "ExecuteTime": {
     "end_time": "2021-03-24T08:49:03.924569Z",
     "start_time": "2021-03-24T08:49:03.892176Z"
    }
   },
   "outputs": [],
   "source": [
    "string_style = {'description_width': 'initial', \n",
    "                'handle_color':      'lawngreen'}\n",
    "\n",
    "start_period, end_period = tra.get_datetime_dates(security, START_DATE, END_DATE)\n",
    "dates   = pd.date_range(start_period, end_period, freq='D')\n",
    "options = [(date.strftime(' %d/%m/%Y'), date) for date in dates]\n",
    "index   = (0, len(options)-1)\n",
    "\n",
    "# Tx/broker's fee\n",
    "min_fee     = 0.0\n",
    "max_fee     = .01\n",
    "delta_fee   = .0005\n",
    "default_fee = FEE_PCT\n",
    "\n",
    "# of days for running mean\n",
    "min_span     = MIN_SPAN\n",
    "max_span     = MAX_SPAN\n",
    "delta_span   = 1\n",
    "default_span = 20\n",
    "\n",
    "# buffer around EMA\n",
    "min_buffer     = MIN_BUFF\n",
    "max_buffer     = MAX_BUFF\n",
    "delta_buffer   = .0001\n",
    "default_buffer = .01\n",
    "\n",
    "# number of maxima\n",
    "max_value     = 15\n",
    "default_value = 12\n",
    "\n",
    "#start_date = '2017-07-15'"
   ]
  },
  {
   "cell_type": "markdown",
   "metadata": {},
   "source": [
    "#### Interactive returns for window span"
   ]
  },
  {
   "cell_type": "code",
   "execution_count": 22,
   "metadata": {
    "ExecuteTime": {
     "end_time": "2021-03-24T08:49:12.076496Z",
     "start_time": "2021-03-24T08:49:06.202921Z"
    }
   },
   "outputs": [
    {
     "data": {
      "application/vnd.jupyter.widget-view+json": {
       "model_id": "74c9b12c5c224485a9d366c162d04e0e",
       "version_major": 2,
       "version_minor": 0
      },
      "text/plain": [
       "TwoByTwoLayout(children=(FloatSlider(value=0.004, continuous_update=False, description='Fees (%):', layout=Lay…"
      ]
     },
     "metadata": {},
     "output_type": "display_data"
    },
    {
     "data": {
      "application/vnd.jupyter.widget-view+json": {
       "model_id": "71e9acb9e7a84d5b9ad0850d0c17a4e4",
       "version_major": 2,
       "version_minor": 0
      },
      "text/plain": [
       "Output()"
      ]
     },
     "metadata": {},
     "output_type": "display_data"
    }
   ],
   "source": [
    "# Mean window span range optimizer interactive\n",
    "\n",
    "buffer_slider = FloatSlider(min=min_buffer,\n",
    "                            max=max_buffer,\n",
    "                            step=delta_buffer,\n",
    "                            value=default_buffer,\n",
    "                            style=string_style,\n",
    "                            continuous_update=False,\n",
    "                            description='Buffer (%):',\n",
    "                            disabled=False,\n",
    "                            readout=True,\n",
    "                            readout_format='.2%',\n",
    "                            layout      = {'width': '250px'},\n",
    "                           )\n",
    "\n",
    "max_values_slider = SelectionSlider(options=[x for x in range(0, max_value+1)],\n",
    "                                    value=default_value,\n",
    "                                    description='Number of maxima:',\n",
    "                                    style=string_style,\n",
    "                                    disabled=False,\n",
    "                                    continuous_update=False,\n",
    "                                    readout=True,\n",
    "                                    readout_format='d',\n",
    "                                    layout      = {'width': '500px'},\n",
    "                                   )\n",
    "\n",
    "fee_slider = FloatSlider(min=min_fee,\n",
    "                         max=max_fee,\n",
    "                         step=delta_fee,\n",
    "                         value=default_fee,\n",
    "                         description='Fees (%):',\n",
    "                         style=string_style,\n",
    "                         disabled=False,\n",
    "                         continuous_update=False,\n",
    "                         readout=True,\n",
    "                         readout_format='.2%',\n",
    "                         layout      = {'width': '250px'},\n",
    "                        )\n",
    "\n",
    "date_range_slider = SelectionRangeSlider(options = options,\n",
    "                                         index   = index,\n",
    "                                         description = 'Period:',\n",
    "                                         orientation = 'horizontal',\n",
    "                                         style       = string_style,\n",
    "                                         layout      = {'width': '500px'}\n",
    "                                        )\n",
    "\n",
    "ui  = widgets.HBox([buffer_slider, fee_slider, max_values_slider])\n",
    "out = widgets.interactive_output(plot_span_range,\n",
    "                                 {'buffer': buffer_slider,\n",
    "                                  'n_values': max_values_slider,\n",
    "                                  'fee_pct': fee_slider,\n",
    "                                  }\n",
    "                                 )\n",
    "\n",
    "out = interactive_output(plot_span_range,\n",
    "                         {'buffer'      : buffer_slider,\n",
    "                          'n_values'  : max_values_slider,\n",
    "                          'fee_pct'   : fee_slider,\n",
    "                          'date_range': date_range_slider,\n",
    "                          }\n",
    "                         )\n",
    "\n",
    "ui = TwoByTwoLayout(top_left     = fee_slider,\n",
    "                    top_right    = date_range_slider,\n",
    "                    bottom_left  = buffer_slider,\n",
    "                    bottom_right = max_values_slider,\n",
    "                    )\n",
    "\n",
    "display(ui, out)"
   ]
  },
  {
   "cell_type": "markdown",
   "metadata": {},
   "source": [
    "#### Interactive returns for buffer size"
   ]
  },
  {
   "cell_type": "code",
   "execution_count": 23,
   "metadata": {
    "ExecuteTime": {
     "end_time": "2021-03-24T08:49:21.855189Z",
     "start_time": "2021-03-24T08:49:12.081397Z"
    }
   },
   "outputs": [
    {
     "data": {
      "application/vnd.jupyter.widget-view+json": {
       "model_id": "e5e7c78ffa4d431d900c209d1a537951",
       "version_major": 2,
       "version_minor": 0
      },
      "text/plain": [
       "TwoByTwoLayout(children=(FloatSlider(value=0.004, continuous_update=False, description='Fees (%):', layout=Lay…"
      ]
     },
     "metadata": {},
     "output_type": "display_data"
    },
    {
     "data": {
      "application/vnd.jupyter.widget-view+json": {
       "model_id": "3e187d43ed494cdbb96e46937d1d9188",
       "version_major": 2,
       "version_minor": 0
      },
      "text/plain": [
       "Output()"
      ]
     },
     "metadata": {},
     "output_type": "display_data"
    }
   ],
   "source": [
    "# Buffer range optimizer interactive \n",
    "span_slider = IntSlider(min=min_span,\n",
    "                        max=max_span,\n",
    "                        step=delta_span,\n",
    "                        value=default_span,\n",
    "                        description='Mean span:',\n",
    "                        style=string_style,\n",
    "                        disabled=False,\n",
    "                        continuous_update=False,\n",
    "                        readout=True,\n",
    "                        readout_format='d',\n",
    "                        layout = {'width': '250px'},\n",
    "                       )\n",
    "\n",
    "max_values_slider = SelectionSlider(options=[x for x in range(0, max_value+1)],\n",
    "                                    value=default_value,\n",
    "                                    description='Number of maxima:',\n",
    "                                    style=string_style,\n",
    "                                    disabled=False,\n",
    "                                    continuous_update=False,\n",
    "                                    readout=True,\n",
    "                                    readout_format='d',\n",
    "                                    layout = {'width': '500px'},\n",
    "                                   )\n",
    "\n",
    "fee_slider = FloatSlider(min=min_fee,\n",
    "                         max=max_fee,\n",
    "                         step=delta_fee,\n",
    "                         value=default_fee,\n",
    "                         description='Fees (%):',\n",
    "                         style=string_style,\n",
    "                         disabled=False,\n",
    "                         continuous_update=False,\n",
    "                         readout=True,\n",
    "                         readout_format='.2%',\n",
    "                         layout = {'width': '250px'},\n",
    "                        )\n",
    "\n",
    "date_range_slider = SelectionRangeSlider(options = options,\n",
    "                                         index   = index,\n",
    "                                         description = 'Period:',\n",
    "                                         orientation = 'horizontal',\n",
    "                                         style  = string_style,\n",
    "                                         layout = {'width': '500px'},\n",
    "                                        )\n",
    "\n",
    "out = interactive_output(plot_buffer_range,\n",
    "                         {'span'      : span_slider,\n",
    "                          'n_values'  : max_values_slider,\n",
    "                          'fee_pct'   : fee_slider,\n",
    "                          'date_range': date_range_slider,\n",
    "                          }\n",
    "                         )\n",
    "\n",
    "ui = TwoByTwoLayout(top_left     = fee_slider,\n",
    "                    top_right    = date_range_slider,\n",
    "                    bottom_left  = span_slider,\n",
    "                    bottom_right = max_values_slider,\n",
    "                    )\n",
    "\n",
    "display(ui, out)"
   ]
  },
  {
   "cell_type": "markdown",
   "metadata": {},
   "source": [
    "#### Interactive buffer-span"
   ]
  },
  {
   "cell_type": "code",
   "execution_count": 24,
   "metadata": {
    "ExecuteTime": {
     "end_time": "2021-03-24T08:49:23.067658Z",
     "start_time": "2021-03-24T08:49:21.857471Z"
    }
   },
   "outputs": [
    {
     "data": {
      "application/vnd.jupyter.widget-view+json": {
       "model_id": "7d01ff6c1b4e4ff1a528f25d3920b8cc",
       "version_major": 2,
       "version_minor": 0
      },
      "text/plain": [
       "TwoByTwoLayout(children=(FloatSlider(value=0.004, continuous_update=False, description='Fees (%):', layout=Lay…"
      ]
     },
     "metadata": {},
     "output_type": "display_data"
    },
    {
     "data": {
      "application/vnd.jupyter.widget-view+json": {
       "model_id": "0cbd48a745d44412b1206a620f29f9c6",
       "version_major": 2,
       "version_minor": 0
      },
      "text/plain": [
       "Output()"
      ]
     },
     "metadata": {},
     "output_type": "display_data"
    }
   ],
   "source": [
    "# Buffer-span interactive plot\n",
    "\n",
    "fee_slider = FloatSlider(min=min_fee,\n",
    "                         max=max_fee,\n",
    "                         step=delta_fee,\n",
    "                         value=default_fee,\n",
    "                         description='Fees (%):',\n",
    "                         style=string_style,\n",
    "                         disabled=False,\n",
    "                         continuous_update=False,\n",
    "                         readout=True,\n",
    "                         readout_format='.2%',\n",
    "                         layout={'width': '250px'},\n",
    "                         )\n",
    "\n",
    "span_slider = IntSlider(min=min_span,\n",
    "                        max=max_span,\n",
    "                        step=delta_span,\n",
    "                        value=default_span,\n",
    "                        description='Mean span:',\n",
    "                        style=string_style,\n",
    "                        disabled=False,\n",
    "                        continuous_update=False,\n",
    "                        readout=True,\n",
    "                        readout_format='d',\n",
    "                        layout={'width': '250px'},\n",
    "                        )\n",
    "\n",
    "buffer_slider = FloatSlider(min=min_buffer,\n",
    "                            max=max_buffer,\n",
    "                            step=delta_buffer,\n",
    "                            value=default_buffer,\n",
    "                            style=string_style,\n",
    "                            continuous_update=False,\n",
    "                            description='Buffer (%):',\n",
    "                            disabled=False,\n",
    "                            readout=True,\n",
    "                            readout_format='.2%',\n",
    "                            layout={'width': '500px'},\n",
    "                            )\n",
    "\n",
    "# Date range slider\n",
    "date_range_slider = SelectionRangeSlider(options = options,\n",
    "                                         index   = index,\n",
    "                                         description = 'Period:',\n",
    "                                         orientation = 'horizontal',\n",
    "                                         style       = string_style,\n",
    "                                         layout      = {'width': '500px'}\n",
    "                                        )\n",
    "\n",
    "\n",
    "out = interactive_output(plot_moving,\n",
    "                         {'span'      : span_slider,\n",
    "                          'buffer'    : buffer_slider,\n",
    "                          'fee_pct'   : fee_slider,\n",
    "                          'date_range': date_range_slider,\n",
    "                          }\n",
    "                         )\n",
    "\n",
    "ui = TwoByTwoLayout(top_left     = fee_slider,\n",
    "                    top_right    = date_range_slider,\n",
    "                    bottom_left  = span_slider,\n",
    "                    bottom_right = buffer_slider,\n",
    "                    )\n",
    "\n",
    "display(ui, out)"
   ]
  },
  {
   "cell_type": "code",
   "execution_count": null,
   "metadata": {},
   "outputs": [],
   "source": []
  },
  {
   "cell_type": "code",
   "execution_count": null,
   "metadata": {},
   "outputs": [],
   "source": []
  }
 ],
 "metadata": {
  "hide_input": false,
  "kernelspec": {
   "display_name": "Python 3",
   "language": "python",
   "name": "python3"
  },
  "language_info": {
   "codemirror_mode": {
    "name": "ipython",
    "version": 3
   },
   "file_extension": ".py",
   "mimetype": "text/x-python",
   "name": "python",
   "nbconvert_exporter": "python",
   "pygments_lexer": "ipython3",
   "version": "3.8.5"
  },
  "toc": {
   "base_numbering": 1,
   "nav_menu": {},
   "number_sections": false,
   "sideBar": true,
   "skip_h1_title": false,
   "title_cell": "Table of Contents",
   "title_sidebar": "Contents",
   "toc_cell": false,
   "toc_position": {
    "height": "calc(100% - 180px)",
    "left": "10px",
    "top": "150px",
    "width": "234.238px"
   },
   "toc_section_display": true,
   "toc_window_display": false
  }
 },
 "nbformat": 4,
 "nbformat_minor": 4
}
