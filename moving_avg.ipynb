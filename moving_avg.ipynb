{
 "cells": [
  {
   "cell_type": "markdown",
   "metadata": {},
   "source": [
    "# Moving average trading"
   ]
  },
  {
   "cell_type": "code",
   "execution_count": 1,
   "metadata": {
    "ExecuteTime": {
     "end_time": "2021-03-22T12:40:58.537402Z",
     "start_time": "2021-03-22T12:40:57.094707Z"
    }
   },
   "outputs": [],
   "source": [
    "import os\n",
    "import pandas as pd\n",
    "import numpy as np\n",
    "from datetime import datetime\n",
    "import security_comparison as sc\n",
    "import matplotlib.pyplot as plt\n",
    "import matplotlib.dates as mdates\n",
    "import seaborn as sns\n",
    "import ipywidgets as widgets\n",
    "from ipywidgets import interactive, ToggleButtons, FloatSlider, IntSlider, SelectionSlider\n",
    "from IPython.display import display\n",
    "\n",
    "%matplotlib inline\n",
    "%load_ext autoreload\n",
    "%autoreload 2"
   ]
  },
  {
   "cell_type": "markdown",
   "metadata": {},
   "source": [
    "### Default parameters"
   ]
  },
  {
   "cell_type": "code",
   "execution_count": 2,
   "metadata": {
    "ExecuteTime": {
     "end_time": "2021-03-22T12:40:58.582906Z",
     "start_time": "2021-03-22T12:40:58.539516Z"
    }
   },
   "outputs": [],
   "source": [
    "DIRNAME = 'data'\n",
    "PLOT_DIR = 'plots'\n",
    "initial_wealth = 100.0\n",
    "pd.options.display.float_format = '{:,.2f}'.format\n",
    "colors = plt.rcParams['axes.prop_cycle'].by_key()['color']\n",
    "gridcolor = '#ededed'\n",
    "\n",
    "TICKER = 'FP.PA'\n",
    "end_date = '2021-03-19'"
   ]
  },
  {
   "cell_type": "markdown",
   "metadata": {},
   "source": [
    "### Data download"
   ]
  },
  {
   "cell_type": "code",
   "execution_count": 3,
   "metadata": {
    "ExecuteTime": {
     "end_time": "2021-03-22T12:40:58.627529Z",
     "start_time": "2021-03-22T12:40:58.584741Z"
    }
   },
   "outputs": [
    {
     "name": "stdout",
     "output_type": "stream",
     "text": [
      "Loading data from data/FP.PA_10y.pkl\n"
     ]
    }
   ],
   "source": [
    "raw = sc.load_security(dirname=DIRNAME, ticker=TICKER, period='10y')"
   ]
  },
  {
   "cell_type": "code",
   "execution_count": 4,
   "metadata": {
    "ExecuteTime": {
     "end_time": "2021-03-22T12:40:58.671407Z",
     "start_time": "2021-03-22T12:40:58.629282Z"
    }
   },
   "outputs": [],
   "source": [
    "security = pd.DataFrame(raw[f'Close_{TICKER}'])\n",
    "security.rename(columns={f'Close_{TICKER}': \"Close\"},\n",
    "                inplace=True)\n",
    "\n",
    "#security"
   ]
  },
  {
   "cell_type": "markdown",
   "metadata": {},
   "source": [
    "## Trading strategy"
   ]
  },
  {
   "cell_type": "markdown",
   "metadata": {},
   "source": [
    "### Supporting routines"
   ]
  },
  {
   "cell_type": "code",
   "execution_count": 5,
   "metadata": {
    "ExecuteTime": {
     "end_time": "2021-03-22T12:40:58.716650Z",
     "start_time": "2021-03-22T12:40:58.673256Z"
    }
   },
   "outputs": [],
   "source": [
    "def get_fee(data, fee_pct):\n",
    "    '''\n",
    "    Return fees associated to position switches\n",
    "    fee_pct -> brokers fee \n",
    "    fee -> $ fee corresponding to fee_pct\n",
    "    '''\n",
    "    # Add a fee for each movement\n",
    "    fee = (fee_pct * data[data.SWITCH == positions[0]].CUMRET_EMA.sum())\n",
    "    fee += (fee_pct * data[data.SWITCH == positions[1]].CUMRET_EMA.sum())\n",
    "    return fee"
   ]
  },
  {
   "cell_type": "code",
   "execution_count": 6,
   "metadata": {
    "ExecuteTime": {
     "end_time": "2021-03-22T12:40:58.763432Z",
     "start_time": "2021-03-22T12:40:58.720367Z"
    }
   },
   "outputs": [],
   "source": [
    "def get_cumret(data, strategy, fee=0):\n",
    "    '''\n",
    "    Returns cumulative return for the given strategy\n",
    "    If strategy is EMA, returns cumulative returns net of fees\n",
    "    '''\n",
    "    if strategy.lower() == 'hold':\n",
    "        return data.CUMRET_HOLD[-1]/initial_wealth - 1\n",
    "    elif strategy.lower() == 'ema':\n",
    "        return (data.CUMRET_EMA[-1]-fee)/initial_wealth - 1\n",
    "    else:\n",
    "        raise ValueError(\n",
    "            f\"strategy {strategy} should be either of ema or hold\")"
   ]
  },
  {
   "cell_type": "code",
   "execution_count": 7,
   "metadata": {
    "ExecuteTime": {
     "end_time": "2021-03-22T12:40:58.806730Z",
     "start_time": "2021-03-22T12:40:58.766072Z"
    }
   },
   "outputs": [],
   "source": [
    "def display_full_dataframe(data):\n",
    "    with pd.option_context('display.max_rows', None,\n",
    "                           'display.max_columns', None,\n",
    "                           'display.width', 1000,\n",
    "                           'display.precision', 2,\n",
    "                           'display.colheader_justify',\n",
    "                           'left'):\n",
    "        display(data)"
   ]
  },
  {
   "cell_type": "markdown",
   "metadata": {},
   "source": [
    "### Main algorithms"
   ]
  },
  {
   "cell_type": "code",
   "execution_count": 8,
   "metadata": {
    "ExecuteTime": {
     "end_time": "2021-03-22T12:40:58.860981Z",
     "start_time": "2021-03-22T12:40:58.808678Z"
    }
   },
   "outputs": [],
   "source": [
    "positions = ['long', 'short', 'n/c']\n",
    "switches = ['buy', 'sell', 'n/c']\n",
    "\n",
    "def build_positions(df):\n",
    "    '''\n",
    "    This agorithm builds desired positions for the EMA strategy \n",
    "    *** Long strategy only ***\n",
    "    POSITION -> cash, long (short pending)\n",
    "    SWICH -> buy, sell, n/c (no change)\n",
    "    '''\n",
    "    n_time_steps = df.shape[0]\n",
    "    positions, switches = ([] for i in range(2))\n",
    "\n",
    "    positions.append('cash')\n",
    "    switches.append('n/c')\n",
    "\n",
    "    for step in range(1, n_time_steps):  # Long strategy only\n",
    "        price = df.loc[df.index[step], 'Close']\n",
    "        mean = df.loc[df.index[step], 'EMA']\n",
    "        if positions[step - 1] == 'cash':  # previous position: cash\n",
    "            if df.loc[df.index[step], 'SIGN'] in [0, -1]:\n",
    "                positions.append('cash')\n",
    "                switches.append('n/c')\n",
    "            elif df.loc[df.index[step], 'SIGN'] == 1:\n",
    "                positions.append('long')\n",
    "                switches.append('buy')\n",
    "            else:\n",
    "                raise ValueError(f'Inconsistent sign')\n",
    "        elif positions[step - 1] == 'long':  # previous position: long\n",
    "            if df.loc[df.index[step], 'SIGN'] in [0, 1]:\n",
    "                positions.append('long')\n",
    "                switches.append('n/c')\n",
    "            elif df.loc[df.index[step], 'SIGN'] == -1:\n",
    "                positions.append('cash')\n",
    "                switches.append('sell')\n",
    "            else:\n",
    "                raise ValueError(f'Inconsistent sign')\n",
    "        else:\n",
    "            raise ValueError(\n",
    "                f\"step {step}: previous position {positions[step - 1]} sign:{df.loc[df.index[step], 'SIGN']}\")\n",
    "    df.insert(loc=len(df.columns), column='POSITION', value=positions)\n",
    "    df.insert(loc=len(df.columns), column='SWITCH', value=switches)\n",
    "    return df\n",
    "\n",
    "def get_strategy(df, span, buffer, debug=False, reactivity=1):\n",
    "    '''\n",
    "    ***At this point, only a long strategy is considered***\n",
    "    Implements running-mean (ewm) strategy\n",
    "    Input dataframe df has date index & security value 'Close'\n",
    "\n",
    "    Variables:\n",
    "    span       -> number of rolling days\n",
    "    reactivity -> reactivity to market change in days (should be set to 1)\n",
    "    buffer     -> % above ema to trigger buy\n",
    "\n",
    "    Returns:\n",
    "    A dataframe with original data + following columns\n",
    "    EMA -> exponential moving average\n",
    "    SIGN -> 1 : above buffer 0: in buffer -1: below buffer\n",
    "    SWITCH -> buy / sell / n/c (no change)\n",
    "    RET -> 1 + % daily return\n",
    "    CUMRET_HOLD -> cumulative returns for a hold strategy\n",
    "    RET2 -> 1 + % daily return when Close > EMA (***long strategy only***)\n",
    "    CUMRET_EMA -> cumulative returns for the EMA strategy\n",
    "    '''\n",
    "    # Compute exponential weighted mean\n",
    "    df['EMA'] = df.Close.ewm(span=span, adjust=False).mean()\n",
    "    if debug:  # include buffer limits in dataframe for printing\n",
    "        df.insert(loc=1, column='EMA-', value=df['EMA']*(1-buffer))\n",
    "        df.insert(loc=len(df.columns), column='EMA+',\n",
    "                  value=df['EMA']*(1+buffer))\n",
    "    df['SIGN'] = np.where(df.Close - df.EMA*(1 + buffer) > 0, 1,\n",
    "                          np.where(df.Close - df.EMA*(1 - buffer) < 0, -1, 0)\n",
    "                          )\n",
    "    df['SIGN'] = df['SIGN'].shift(reactivity)\n",
    "    df.loc[df.index[0], 'SIGN'] = 0.0  # set first value to 0\n",
    "\n",
    "    df = build_positions(df)  # compute position and switch columns\n",
    "\n",
    "    # Compute returns, cumulative returns and 'wealth' for hold strategy\n",
    "    df['RET'] = 1.0 + df.Close.pct_change()\n",
    "    df.loc[df.index[0], 'RET'] = 1.0  # set first value to 1.0\n",
    "    df['CUMRET_HOLD'] = initial_wealth * df.RET.cumprod(axis=None, skipna=True)\n",
    "\n",
    "    # Cumulative wealth for ema strategy\n",
    "    df['RET_EMA'] = np.where(df.POSITION == 'long', df.RET, 1.0)\n",
    "    df['CUMRET_EMA'] = df.RET_EMA.cumprod(\n",
    "        axis=None, skipna=True) * initial_wealth\n",
    "    df.loc[df.index[0], 'CUMRET_EMA'] = initial_wealth\n",
    "    df = df.drop(['RET_EMA'], axis=1)\n",
    "    df = df.drop(['SIGN'], axis=1)\n",
    "    #df.to_csv('check.csv', sep=',')\n",
    "    return df\n"
   ]
  },
  {
   "cell_type": "markdown",
   "metadata": {},
   "source": [
    "#### Test driver for main algorithm"
   ]
  },
  {
   "cell_type": "code",
   "execution_count": 9,
   "metadata": {
    "ExecuteTime": {
     "end_time": "2021-03-22T12:40:58.968962Z",
     "start_time": "2021-03-22T12:40:58.862800Z"
    }
   },
   "outputs": [
    {
     "data": {
      "text/html": [
       "<div>\n",
       "<style scoped>\n",
       "    .dataframe tbody tr th:only-of-type {\n",
       "        vertical-align: middle;\n",
       "    }\n",
       "\n",
       "    .dataframe tbody tr th {\n",
       "        vertical-align: top;\n",
       "    }\n",
       "\n",
       "    .dataframe thead th {\n",
       "        text-align: right;\n",
       "    }\n",
       "</style>\n",
       "<table border=\"1\" class=\"dataframe\">\n",
       "  <thead>\n",
       "    <tr style=\"text-align: right;\">\n",
       "      <th></th>\n",
       "      <th>Close</th>\n",
       "      <th>EMA</th>\n",
       "      <th>POSITION</th>\n",
       "      <th>SWITCH</th>\n",
       "      <th>RET</th>\n",
       "      <th>CUMRET_HOLD</th>\n",
       "      <th>CUMRET_EMA</th>\n",
       "    </tr>\n",
       "    <tr>\n",
       "      <th>Date</th>\n",
       "      <th></th>\n",
       "      <th></th>\n",
       "      <th></th>\n",
       "      <th></th>\n",
       "      <th></th>\n",
       "      <th></th>\n",
       "      <th></th>\n",
       "    </tr>\n",
       "  </thead>\n",
       "  <tbody>\n",
       "    <tr>\n",
       "      <th>2018-12-31</th>\n",
       "      <td>40.32</td>\n",
       "      <td>40.32</td>\n",
       "      <td>cash</td>\n",
       "      <td>n/c</td>\n",
       "      <td>1.00</td>\n",
       "      <td>100.00</td>\n",
       "      <td>100.00</td>\n",
       "    </tr>\n",
       "    <tr>\n",
       "      <th>2019-01-02</th>\n",
       "      <td>40.74</td>\n",
       "      <td>40.35</td>\n",
       "      <td>cash</td>\n",
       "      <td>n/c</td>\n",
       "      <td>1.01</td>\n",
       "      <td>101.03</td>\n",
       "      <td>100.00</td>\n",
       "    </tr>\n",
       "    <tr>\n",
       "      <th>2019-01-03</th>\n",
       "      <td>40.39</td>\n",
       "      <td>40.35</td>\n",
       "      <td>cash</td>\n",
       "      <td>n/c</td>\n",
       "      <td>0.99</td>\n",
       "      <td>100.16</td>\n",
       "      <td>100.00</td>\n",
       "    </tr>\n",
       "    <tr>\n",
       "      <th>2019-01-04</th>\n",
       "      <td>41.40</td>\n",
       "      <td>40.42</td>\n",
       "      <td>cash</td>\n",
       "      <td>n/c</td>\n",
       "      <td>1.02</td>\n",
       "      <td>102.66</td>\n",
       "      <td>100.00</td>\n",
       "    </tr>\n",
       "    <tr>\n",
       "      <th>2019-01-07</th>\n",
       "      <td>41.30</td>\n",
       "      <td>40.48</td>\n",
       "      <td>long</td>\n",
       "      <td>buy</td>\n",
       "      <td>1.00</td>\n",
       "      <td>102.43</td>\n",
       "      <td>99.77</td>\n",
       "    </tr>\n",
       "    <tr>\n",
       "      <th>...</th>\n",
       "      <td>...</td>\n",
       "      <td>...</td>\n",
       "      <td>...</td>\n",
       "      <td>...</td>\n",
       "      <td>...</td>\n",
       "      <td>...</td>\n",
       "      <td>...</td>\n",
       "    </tr>\n",
       "    <tr>\n",
       "      <th>2021-03-15</th>\n",
       "      <td>41.29</td>\n",
       "      <td>38.84</td>\n",
       "      <td>long</td>\n",
       "      <td>n/c</td>\n",
       "      <td>0.98</td>\n",
       "      <td>102.40</td>\n",
       "      <td>98.23</td>\n",
       "    </tr>\n",
       "    <tr>\n",
       "      <th>2021-03-16</th>\n",
       "      <td>40.76</td>\n",
       "      <td>38.97</td>\n",
       "      <td>long</td>\n",
       "      <td>n/c</td>\n",
       "      <td>0.99</td>\n",
       "      <td>101.09</td>\n",
       "      <td>96.98</td>\n",
       "    </tr>\n",
       "    <tr>\n",
       "      <th>2021-03-17</th>\n",
       "      <td>40.61</td>\n",
       "      <td>39.08</td>\n",
       "      <td>long</td>\n",
       "      <td>n/c</td>\n",
       "      <td>1.00</td>\n",
       "      <td>100.71</td>\n",
       "      <td>96.61</td>\n",
       "    </tr>\n",
       "    <tr>\n",
       "      <th>2021-03-18</th>\n",
       "      <td>40.44</td>\n",
       "      <td>39.17</td>\n",
       "      <td>long</td>\n",
       "      <td>n/c</td>\n",
       "      <td>1.00</td>\n",
       "      <td>100.28</td>\n",
       "      <td>96.20</td>\n",
       "    </tr>\n",
       "    <tr>\n",
       "      <th>2021-03-19</th>\n",
       "      <td>40.23</td>\n",
       "      <td>39.24</td>\n",
       "      <td>long</td>\n",
       "      <td>n/c</td>\n",
       "      <td>0.99</td>\n",
       "      <td>99.77</td>\n",
       "      <td>95.71</td>\n",
       "    </tr>\n",
       "  </tbody>\n",
       "</table>\n",
       "<p>569 rows × 7 columns</p>\n",
       "</div>"
      ],
      "text/plain": [
       "            Close   EMA POSITION SWITCH  RET  CUMRET_HOLD  CUMRET_EMA\n",
       "Date                                                                 \n",
       "2018-12-31  40.32 40.32     cash    n/c 1.00       100.00      100.00\n",
       "2019-01-02  40.74 40.35     cash    n/c 1.01       101.03      100.00\n",
       "2019-01-03  40.39 40.35     cash    n/c 0.99       100.16      100.00\n",
       "2019-01-04  41.40 40.42     cash    n/c 1.02       102.66      100.00\n",
       "2019-01-07  41.30 40.48     long    buy 1.00       102.43       99.77\n",
       "...           ...   ...      ...    ...  ...          ...         ...\n",
       "2021-03-15  41.29 38.84     long    n/c 0.98       102.40       98.23\n",
       "2021-03-16  40.76 38.97     long    n/c 0.99       101.09       96.98\n",
       "2021-03-17  40.61 39.08     long    n/c 1.00       100.71       96.61\n",
       "2021-03-18  40.44 39.17     long    n/c 1.00       100.28       96.20\n",
       "2021-03-19  40.23 39.24     long    n/c 0.99        99.77       95.71\n",
       "\n",
       "[569 rows x 7 columns]"
      ]
     },
     "execution_count": 9,
     "metadata": {},
     "output_type": "execute_result"
    }
   ],
   "source": [
    "start_date = '2018-12-31'\n",
    "end_date = '2021-03-19'\n",
    "span   = 29\n",
    "buffer = .015\n",
    "reactivity = 1\n",
    "df = get_strategy(security.loc[start_date:end_date, :].copy(),\n",
    "                  span,\n",
    "                  buffer)\n",
    "df"
   ]
  },
  {
   "cell_type": "markdown",
   "metadata": {},
   "source": [
    "## Plotting functions"
   ]
  },
  {
   "cell_type": "markdown",
   "metadata": {},
   "source": [
    "### Supporting routines"
   ]
  },
  {
   "cell_type": "code",
   "execution_count": 10,
   "metadata": {
    "ExecuteTime": {
     "end_time": "2021-03-22T12:40:59.005230Z",
     "start_time": "2021-03-22T12:40:58.970290Z"
    }
   },
   "outputs": [],
   "source": [
    "def save_figure(p_file, dpi=360, extension='png'):\n",
    "    '''\n",
    "    Save figure to file\n",
    "    '''\n",
    "    filename = os.path.join(PLOT_DIR, p_file + f'.{extension}')\n",
    "    plt.savefig(filename,\n",
    "                dpi=dpi,\n",
    "                transparent=False,\n",
    "                orientation='landscape',\n",
    "                bbox_inches='tight')"
   ]
  },
  {
   "cell_type": "code",
   "execution_count": 11,
   "metadata": {
    "ExecuteTime": {
     "end_time": "2021-03-22T12:40:59.050919Z",
     "start_time": "2021-03-22T12:40:59.006725Z"
    }
   },
   "outputs": [],
   "source": [
    "def plot_arrows(axis, data):\n",
    "    ''' \n",
    "    Draws position-switching arrows on ax2\n",
    "    '''\n",
    "    vertical_range = data['Close'].max() - data['Close'].min()\n",
    "    horizont_range = (data.index[-1] - data.index[0]).days\n",
    "    arrow_length = vertical_range/10\n",
    "    head_width = horizont_range/100\n",
    "    head_length = vertical_range/50\n",
    "    space = vertical_range/100  # space bw arrow tip and curve\n",
    "\n",
    "    for row in range(data.shape[0]):\n",
    "        if data.SWITCH[row] == switches[0]:  # buy\n",
    "            y_start = data.loc[data.index[row], 'Close'] + arrow_length\n",
    "            color = colors[2]\n",
    "            dy = -arrow_length+space\n",
    "        elif data.SWITCH[row] == switches[1]:  # sell\n",
    "            y_start = data.loc[data.index[row], 'Close'] - arrow_length\n",
    "            color = colors[3]\n",
    "            dy = arrow_length-space\n",
    "        else:  # don't draw the arrow\n",
    "            continue\n",
    "        arrow_start = data.loc[data.index[row], 'Close']\n",
    "        axis.arrow(x=data.index[row], y=y_start,\n",
    "                   dx=0, dy=dy,\n",
    "                   head_width=head_width,\n",
    "                   head_length=head_length,\n",
    "                   length_includes_head=True,\n",
    "                   linestyle='-',\n",
    "                   color=color\n",
    "                   )"
   ]
  },
  {
   "cell_type": "markdown",
   "metadata": {},
   "source": [
    "### Main plotting function"
   ]
  },
  {
   "cell_type": "code",
   "execution_count": 12,
   "metadata": {
    "ExecuteTime": {
     "end_time": "2021-03-22T12:40:59.098514Z",
     "start_time": "2021-03-22T12:40:59.052509Z"
    }
   },
   "outputs": [],
   "source": [
    "year_month_fmt = mdates.DateFormatter('%b-%y')\n",
    "title_size = 14\n",
    "\n",
    "def plot_moving(span, fee_pct, buffer, reactivity=1):\n",
    "    '''\n",
    "    Plots price with moving average\n",
    "    span -> rolling span\n",
    "    fee -> fee associated with switching position\n",
    "    reactivity -> time lag in days after Close (normally = 1)\n",
    "    '''\n",
    "    format    = '%d-%b-%Y'\n",
    "    \n",
    "    start = datetime.strptime(start_date, \"%Y-%m-%d\")\n",
    "    end = datetime.strptime(end_date, \"%Y-%m-%d\")\n",
    "\n",
    "    # Extract time window\n",
    "    df = get_strategy(security.loc[start_date:end_date, :].copy(),\n",
    "                      span,\n",
    "                      buffer,\n",
    "                      debug=False)\n",
    "    fee = get_fee(df, fee_pct)\n",
    "    hold = get_cumret(df, 'hold')  # cumulative returns for hold strategy\n",
    "    ema = get_cumret(df, 'ema', fee)  # cumulative returns for EMA strategy\n",
    "\n",
    "    fig, ax1 = plt.subplots(figsize=(14, 8))\n",
    "    ax1.plot(df.index, df.Close, linewidth=1, label='Price')\n",
    "    ax1.plot(df.index, df.EMA, linewidth=1, label=f'{span}-days EMA')\n",
    "\n",
    "    ax1.legend(loc='best')\n",
    "    ax1.set_ylabel('Price ($)')\n",
    "    ax1.xaxis.set_major_formatter(year_month_fmt)\n",
    "    ax1.grid(b=None, which='both', axis='both',\n",
    "             color=gridcolor, linestyle='-', linewidth=1)\n",
    "\n",
    "    title = f'{TICKER} Hold: {hold:.1%} / {span}-day mean ({buffer:.2%} buffer): {ema:.1%} ({start.strftime(format)} to {end.strftime(format)})'\n",
    "    ax1.set_title(title, fontsize=title_size)\n",
    "\n",
    "    plot_arrows(ax1, df)\n",
    "    return df\n"
   ]
  },
  {
   "cell_type": "markdown",
   "metadata": {},
   "source": [
    "#### Test driver for main plot"
   ]
  },
  {
   "cell_type": "code",
   "execution_count": 13,
   "metadata": {
    "ExecuteTime": {
     "end_time": "2021-03-22T12:40:59.426315Z",
     "start_time": "2021-03-22T12:40:59.100280Z"
    }
   },
   "outputs": [
    {
     "data": {
      "image/png": "[encoded data removed]",
      "text/plain": [
       "<Figure size 1008x576 with 1 Axes>"
      ]
     },
     "metadata": {
      "needs_background": "light"
     },
     "output_type": "display_data"
    }
   ],
   "source": [
    "start_date = '2017-07-15'\n",
    "df = plot_moving(span=29, fee_pct=.004, buffer=.02)\n",
    "\n",
    "# display_full_dataframe(df)"
   ]
  },
  {
   "cell_type": "code",
   "execution_count": 14,
   "metadata": {
    "ExecuteTime": {
     "end_time": "2021-03-22T12:40:59.471695Z",
     "start_time": "2021-03-22T12:40:59.428495Z"
    }
   },
   "outputs": [],
   "source": [
    "def plot_span_range(buffer, n_values, fee_pct, extension='png'):\n",
    "    emas = []\n",
    "    span_range = [5, 60]\n",
    "    spans = np.arange(span_range[0],\n",
    "                      span_range[1] + 1)\n",
    "\n",
    "    for span in spans:\n",
    "        df = get_strategy(security.loc[start_date:end_date, :].copy(),\n",
    "                          span,\n",
    "                          buffer,)\n",
    "        fee = get_fee(df, fee_pct)\n",
    "        ema = get_cumret(df, 'ema', fee)\n",
    "        emas.append(ema)\n",
    "    df = pd.DataFrame(data=[spans, emas]).T\n",
    "    df.columns = ['span', 'ema']\n",
    "\n",
    "    max_val = df['ema'].max()\n",
    "    min_val = df['ema'].min()\n",
    "    val_range = max_val-min_val\n",
    "\n",
    "    # Plot\n",
    "    fig, ax = plt.subplots(figsize=(14, 8))\n",
    "    ax.plot(df.span,\n",
    "            df.ema,\n",
    "            linewidth=1,\n",
    "            label='EMA return',)\n",
    "    ax.legend(loc='best')\n",
    "    ax.set_xlabel('rolling mean span (days)')\n",
    "    ax.set_ylabel('return (x)')\n",
    "    title  = f'{TICKER} {buffer:.2%}-buffer EMA max payoff: '\n",
    "    title += f'{max_val:.2%} ({start_date} to {end_date})'\n",
    "    ax.set_title(title)\n",
    "\n",
    "    largest_idx = pd.Series(df['ema'].nlargest(n_values)).index\n",
    "    for large in largest_idx:\n",
    "        ax.axvline(df.iloc[large][0],\n",
    "                   color='r',\n",
    "                   linestyle=':',\n",
    "                   linewidth=1)\n",
    "        text = f'{df.iloc[large][0]:.0f}'\n",
    "        ax.annotate(text=text,\n",
    "                    xy=(df.iloc[large][0],\n",
    "                        min_val + np.random.uniform(0, 1)*val_range),\n",
    "                    color='r'\n",
    "                    )\n",
    "    plt.grid(b=None, which='major', axis='both', color='#f1f1f1')\n",
    "\n",
    "    # save plot to file\n",
    "    plot_filename = f'{TICKER}_{start_date}-{end_date}_spans'\n",
    "    save_figure(plot_filename)"
   ]
  },
  {
   "cell_type": "code",
   "execution_count": 15,
   "metadata": {
    "ExecuteTime": {
     "end_time": "2021-03-22T12:41:05.323856Z",
     "start_time": "2021-03-22T12:40:59.473904Z"
    }
   },
   "outputs": [
    {
     "data": {
      "image/png": "[encoded data removed]",
      "text/plain": [
       "<Figure size 864x576 with 1 Axes>"
      ]
     },
     "metadata": {
      "needs_background": "light"
     },
     "output_type": "display_data"
    }
   ],
   "source": [
    "def plot_buffer_range(span, n_values=3, fee_pct=.04, extension='png'):\n",
    "    buffer_range = [0, .03]\n",
    "    buffers = np.linspace(buffer_range[0],\n",
    "                          buffer_range[1],\n",
    "                          101)\n",
    "    emas = []\n",
    "    for buffer in buffers:\n",
    "        df = get_strategy(security.loc[start_date:end_date, :].copy(),\n",
    "                          span,\n",
    "                          buffer,)\n",
    "        fee = get_fee(df, fee_pct)\n",
    "        emas.append(get_cumret(df, 'ema',\n",
    "                               fee)\n",
    "                    )\n",
    "    df = pd.DataFrame(data=[buffers, emas]).T\n",
    "    df.columns = ['buffer', 'ema']\n",
    "    max_val = df['ema'].max()\n",
    "    min_val = df['ema'].min()\n",
    "    val_range = max_val - min_val   \n",
    "\n",
    "    # Plot\n",
    "    fig, ax = plt.subplots(figsize=(12, 8))\n",
    "    ax.plot(df.buffer,\n",
    "            df.ema,\n",
    "            linewidth=1,\n",
    "            label='EMA return',\n",
    "            )\n",
    "    ax.legend(loc='best')\n",
    "    ax.set_xlabel('buffer size (% around EMA)')\n",
    "    ax.set_ylabel('return (x)')\n",
    "\n",
    "    largest_idx = pd.Series(df['ema'].nlargest(n_values)).index\n",
    "    for large in largest_idx:\n",
    "        ax.axvline(df.iloc[large][0],\n",
    "                   color='r',\n",
    "                   linestyle=':',\n",
    "                   linewidth=1)\n",
    "        text = f'{df.iloc[large][0]:.2%}'\n",
    "        ax.annotate(text=text,\n",
    "                    xy=(df.iloc[large][0],\n",
    "                        min_val + np.random.uniform(0, 1)*val_range),\n",
    "                    color='r'\n",
    "                    )\n",
    "    title = f'{TICKER} {span}-day mean EMA max payoff: {max_val:.2%} / ' \n",
    "    title += f'{df.iloc[largest_idx[0]][0]:.2%} buffer ' \n",
    "    title += f'({start_date} - {end_date})'\n",
    "    ax.set_title(title)\n",
    "        \n",
    "\n",
    "    plt.grid(b=None, which='major', axis='both', color='#f1f1f1')\n",
    "\n",
    "    plot_filename = f'{TICKER}_{start_date}-{end_date}_buffers'\n",
    "    save_figure(plot_filename)\n",
    "\n",
    "# test driver\n",
    "plot_buffer_range(20)"
   ]
  },
  {
   "cell_type": "markdown",
   "metadata": {},
   "source": [
    "### Interactive plots"
   ]
  },
  {
   "cell_type": "markdown",
   "metadata": {
    "ExecuteTime": {
     "end_time": "2021-03-22T12:10:46.432031Z",
     "start_time": "2021-03-22T12:10:46.387091Z"
    }
   },
   "source": [
    "#### Widget defaults"
   ]
  },
  {
   "cell_type": "code",
   "execution_count": 16,
   "metadata": {
    "ExecuteTime": {
     "end_time": "2021-03-22T12:41:05.362615Z",
     "start_time": "2021-03-22T12:41:05.325949Z"
    }
   },
   "outputs": [],
   "source": [
    "string_style = {'description_width': 'initial'}\n",
    "min_fee     = 0.0\n",
    "max_fee     = .01\n",
    "delta_fee   = .0005\n",
    "default_fee = .004\n",
    "\n",
    "min_span     = 1\n",
    "max_span     = 90\n",
    "delta_span   = 1\n",
    "default_span = 20\n",
    "\n",
    "min_buffer = 0\n",
    "max_buffer = .03\n",
    "delta_buffer = .0001\n",
    "default_buffer = .01\n",
    "\n",
    "max_value = 12\n",
    "default_value = 3\n",
    "\n",
    "start_date = '2017-07-15'"
   ]
  },
  {
   "cell_type": "markdown",
   "metadata": {},
   "source": [
    "#### Interactive buffer-span"
   ]
  },
  {
   "cell_type": "code",
   "execution_count": 17,
   "metadata": {
    "ExecuteTime": {
     "end_time": "2021-03-22T12:41:05.789214Z",
     "start_time": "2021-03-22T12:41:05.365039Z"
    }
   },
   "outputs": [
    {
     "data": {
      "application/vnd.jupyter.widget-view+json": {
       "model_id": "4d2a909e3e1045d192fde4e601f88f54",
       "version_major": 2,
       "version_minor": 0
      },
      "text/plain": [
       "TwoByTwoLayout(children=(FloatSlider(value=0.004, continuous_update=False, description='Fees (%):', layout=Lay…"
      ]
     },
     "metadata": {},
     "output_type": "display_data"
    },
    {
     "data": {
      "application/vnd.jupyter.widget-view+json": {
       "model_id": "aa91066a336043f890bbdd3fffccf9e3",
       "version_major": 2,
       "version_minor": 0
      },
      "text/plain": [
       "Output()"
      ]
     },
     "metadata": {},
     "output_type": "display_data"
    }
   ],
   "source": [
    "fee_slider = FloatSlider(min=min_fee,\n",
    "                         max=max_fee,\n",
    "                         step=delta_fee,\n",
    "                         value=default_fee,\n",
    "                         description='Fees (%):',\n",
    "                         style=string_style,\n",
    "                         disabled=False,\n",
    "                         continuous_update=False,\n",
    "                         readout=True,\n",
    "                         readout_format='.2%',\n",
    "                         )\n",
    "\n",
    "span_slider = IntSlider(min=min_span,\n",
    "                        max=max_span,\n",
    "                        step=delta_span,\n",
    "                        value=default_span,\n",
    "                        description='Window:',\n",
    "                        style=string_style,\n",
    "                        disabled=False,\n",
    "                        continuous_update=False,\n",
    "                        readout=True,\n",
    "                        readout_format='d',\n",
    "                        )\n",
    "\n",
    "buffer_slider = FloatSlider(min=min_buffer,\n",
    "                            max=max_buffer,\n",
    "                            step=delta_buffer,\n",
    "                            value=default_buffer,\n",
    "                            style=string_style,\n",
    "                            continuous_update=False,\n",
    "                            description='Buffer (%):',\n",
    "                            disabled=False,\n",
    "                            readout=True,\n",
    "                            readout_format='.2%',\n",
    "                            )\n",
    "\n",
    "ui = widgets.TwoByTwoLayout(top_left=fee_slider,\n",
    "                            #top_right    = reactivity_slider,\n",
    "                            bottom_left=span_slider,\n",
    "                            bottom_right=buffer_slider,\n",
    "                            )\n",
    "\n",
    "out = widgets.interactive_output(plot_moving,\n",
    "                                 {'span': span_slider,\n",
    "                                  'buffer': buffer_slider,\n",
    "                                  'fee_pct': fee_slider,\n",
    "                                  # 'reactivity': reactivity_slider,\n",
    "                                  }\n",
    "                                 )\n",
    "\n",
    "display(ui, out)"
   ]
  },
  {
   "cell_type": "markdown",
   "metadata": {},
   "source": [
    "#### Interactive returns for window span"
   ]
  },
  {
   "cell_type": "code",
   "execution_count": 18,
   "metadata": {
    "ExecuteTime": {
     "end_time": "2021-03-22T12:41:09.524695Z",
     "start_time": "2021-03-22T12:41:05.791492Z"
    }
   },
   "outputs": [
    {
     "data": {
      "application/vnd.jupyter.widget-view+json": {
       "model_id": "b0f5ccb65305425796ceabd6bc217095",
       "version_major": 2,
       "version_minor": 0
      },
      "text/plain": [
       "HBox(children=(FloatSlider(value=0.01, continuous_update=False, description='Buffer (%):', max=0.03, readout_f…"
      ]
     },
     "metadata": {},
     "output_type": "display_data"
    },
    {
     "data": {
      "application/vnd.jupyter.widget-view+json": {
       "model_id": "08341cb749864baf8f8fc836614a7810",
       "version_major": 2,
       "version_minor": 0
      },
      "text/plain": [
       "Output()"
      ]
     },
     "metadata": {},
     "output_type": "display_data"
    }
   ],
   "source": [
    "buffer_slider = FloatSlider(min=min_buffer,\n",
    "                            max=max_buffer,\n",
    "                            step=delta_buffer,\n",
    "                            value=default_buffer,\n",
    "                            style=string_style,\n",
    "                            continuous_update=False,\n",
    "                            description='Buffer (%):',\n",
    "                            disabled=False,\n",
    "                            readout=True,\n",
    "                            readout_format='.2%',\n",
    "                            )\n",
    "\n",
    "max_values_slider = SelectionSlider(options=[x for x in range(0, max_value+1)],\n",
    "                                    value=default_value,\n",
    "                                    description='Number of maxima:',\n",
    "                                    style=string_style,\n",
    "                                    disabled=False,\n",
    "                                    continuous_update=False,\n",
    "                                    readout=True,\n",
    "                                    readout_format='d',\n",
    "                                    )\n",
    "\n",
    "fee_slider = FloatSlider(min=min_fee,\n",
    "                         max=max_fee,\n",
    "                         step=delta_fee,\n",
    "                         value=default_fee,\n",
    "                         description='Fees (%):',\n",
    "                         style=string_style,\n",
    "                         disabled=False,\n",
    "                         continuous_update=False,\n",
    "                         readout=True,\n",
    "                         readout_format='.2%',\n",
    "                         )\n",
    "\n",
    "ui  = widgets.HBox([buffer_slider, fee_slider, max_values_slider])\n",
    "\n",
    "out = widgets.interactive_output(plot_span_range,\n",
    "                                 {'buffer': buffer_slider,\n",
    "                                  'n_values': max_values_slider,\n",
    "                                  'fee_pct': fee_slider,\n",
    "                                  }\n",
    "                                 )\n",
    "\n",
    "display(ui, out)"
   ]
  },
  {
   "cell_type": "markdown",
   "metadata": {},
   "source": [
    "#### Interactive returns for buffer size"
   ]
  },
  {
   "cell_type": "code",
   "execution_count": 19,
   "metadata": {
    "ExecuteTime": {
     "end_time": "2021-03-22T12:41:15.802988Z",
     "start_time": "2021-03-22T12:41:09.526920Z"
    }
   },
   "outputs": [
    {
     "data": {
      "application/vnd.jupyter.widget-view+json": {
       "model_id": "b7554a538ae548a6997519aeedd178d9",
       "version_major": 2,
       "version_minor": 0
      },
      "text/plain": [
       "HBox(children=(IntSlider(value=20, continuous_update=False, description='Window:', max=90, min=1, style=Slider…"
      ]
     },
     "metadata": {},
     "output_type": "display_data"
    },
    {
     "data": {
      "application/vnd.jupyter.widget-view+json": {
       "model_id": "6f677156737b4a598e076b7df03376a4",
       "version_major": 2,
       "version_minor": 0
      },
      "text/plain": [
       "Output()"
      ]
     },
     "metadata": {},
     "output_type": "display_data"
    }
   ],
   "source": [
    "span_slider = IntSlider(min=min_span,\n",
    "                        max=max_span,\n",
    "                        step=delta_span,\n",
    "                        value=default_span,\n",
    "                        description='Window:',\n",
    "                        style=string_style,\n",
    "                        disabled=False,\n",
    "                        continuous_update=False,\n",
    "                        readout=True,\n",
    "                        readout_format='d',\n",
    "                        )\n",
    "\n",
    "max_values_slider = SelectionSlider(options=[x for x in range(0, max_value+1)],\n",
    "                                    value=default_value,\n",
    "                                    description='Number of maxima:',\n",
    "                                    style=string_style,\n",
    "                                    disabled=False,\n",
    "                                    continuous_update=False,\n",
    "                                    readout=True,\n",
    "                                    readout_format='d',\n",
    "                                    )\n",
    "\n",
    "fee_slider = FloatSlider(min=min_fee,\n",
    "                         max=max_fee,\n",
    "                         step=delta_fee,\n",
    "                         value=default_fee,\n",
    "                         description='Fees (%):',\n",
    "                         style=string_style,\n",
    "                         disabled=False,\n",
    "                         continuous_update=False,\n",
    "                         readout=True,\n",
    "                         readout_format='.2%',\n",
    "                         )\n",
    "\n",
    "ui  = widgets.HBox([span_slider, fee_slider, max_values_slider])\n",
    "out = widgets.interactive_output(plot_buffer_range,\n",
    "                                 {'n_values': max_values_slider,\n",
    "                                  'span': span_slider,\n",
    "                                  'fee_pct': fee_slider,\n",
    "                                  }\n",
    "                                 )\n",
    "\n",
    "display(ui, out)"
   ]
  },
  {
   "cell_type": "code",
   "execution_count": null,
   "metadata": {},
   "outputs": [],
   "source": []
  }
 ],
 "metadata": {
  "kernelspec": {
   "display_name": "Python 3",
   "language": "python",
   "name": "python3"
  },
  "language_info": {
   "codemirror_mode": {
    "name": "ipython",
    "version": 3
   },
   "file_extension": ".py",
   "mimetype": "text/x-python",
   "name": "python",
   "nbconvert_exporter": "python",
   "pygments_lexer": "ipython3",
   "version": "3.8.8"
  },
  "toc": {
   "base_numbering": 1,
   "nav_menu": {},
   "number_sections": false,
   "sideBar": true,
   "skip_h1_title": false,
   "title_cell": "Table of Contents",
   "title_sidebar": "Contents",
   "toc_cell": false,
   "toc_position": {
    "height": "calc(100% - 180px)",
    "left": "10px",
    "top": "150px",
    "width": "234.238px"
   },
   "toc_section_display": true,
   "toc_window_display": true
  }
 },
 "nbformat": 4,
 "nbformat_minor": 4
}
