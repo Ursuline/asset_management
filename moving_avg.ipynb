{
 "cells": [
  {
   "cell_type": "markdown",
   "metadata": {},
   "source": [
    "# Moving average trading"
   ]
  },
  {
   "cell_type": "code",
   "execution_count": 1,
   "metadata": {
    "ExecuteTime": {
     "end_time": "2021-03-24T08:33:12.866792Z",
     "start_time": "2021-03-24T08:33:11.503669Z"
    }
   },
   "outputs": [],
   "source": [
    "import os\n",
    "import pandas as pd\n",
    "import numpy as np\n",
    "from datetime import datetime\n",
    "import matplotlib.pyplot as plt\n",
    "\n",
    "import ipywidgets as widgets\n",
    "from ipywidgets import TwoByTwoLayout\n",
    "from ipywidgets import HBox, VBox, Label\n",
    "from ipywidgets import interactive, interactive_output\n",
    "from ipywidgets import FloatSlider, IntSlider, SelectionSlider, SelectionRangeSlider\n",
    "from ipywidgets import FloatText\n",
    "from ipywidgets import jslink\n",
    "from IPython.display import display\n",
    "\n",
    "import trading as tra\n",
    "import trading_plots as trp\n",
    "from trading_defaults import *\n",
    "\n",
    "%matplotlib inline\n",
    "%load_ext autoreload\n",
    "%autoreload 2"
   ]
  },
  {
   "cell_type": "markdown",
   "metadata": {},
   "source": [
    "### Default parameters"
   ]
  },
  {
   "cell_type": "code",
   "execution_count": 2,
   "metadata": {
    "ExecuteTime": {
     "end_time": "2021-03-24T08:33:12.908667Z",
     "start_time": "2021-03-24T08:33:12.868472Z"
    },
    "hide_input": false
   },
   "outputs": [],
   "source": [
    "TICKER     = 'ETH-USD'\n",
    "REFRESH    = True # Download fresh Yahoo data \n",
    "\n",
    "START_DATE = '2017-07-15'\n",
    "END_DATE   = '2021-03-24' # make today"
   ]
  },
  {
   "cell_type": "markdown",
   "metadata": {},
   "source": [
    "### Data download"
   ]
  },
  {
   "cell_type": "code",
   "execution_count": 3,
   "metadata": {
    "ExecuteTime": {
     "end_time": "2021-03-24T08:33:13.010792Z",
     "start_time": "2021-03-24T08:33:12.910998Z"
    }
   },
   "outputs": [
    {
     "name": "stdout",
     "output_type": "stream",
     "text": [
      "Downloading data from Yahoo Finance\n",
      "Loading ticker ETH-USD\n",
      "[*********************100%***********************]  1 of 1 completed\n"
     ]
    },
    {
     "data": {
      "text/html": [
       "<div>\n",
       "<style scoped>\n",
       "    .dataframe tbody tr th:only-of-type {\n",
       "        vertical-align: middle;\n",
       "    }\n",
       "\n",
       "    .dataframe tbody tr th {\n",
       "        vertical-align: top;\n",
       "    }\n",
       "\n",
       "    .dataframe thead th {\n",
       "        text-align: right;\n",
       "    }\n",
       "</style>\n",
       "<table border=\"1\" class=\"dataframe\">\n",
       "  <thead>\n",
       "    <tr style=\"text-align: right;\">\n",
       "      <th></th>\n",
       "      <th>Close</th>\n",
       "    </tr>\n",
       "    <tr>\n",
       "      <th>Date</th>\n",
       "      <th></th>\n",
       "    </tr>\n",
       "  </thead>\n",
       "  <tbody>\n",
       "    <tr>\n",
       "      <th>2016-03-26</th>\n",
       "      <td>10.9740000</td>\n",
       "    </tr>\n",
       "    <tr>\n",
       "      <th>2016-03-27</th>\n",
       "      <td>10.4191999</td>\n",
       "    </tr>\n",
       "    <tr>\n",
       "      <th>2016-03-28</th>\n",
       "      <td>11.6655998</td>\n",
       "    </tr>\n",
       "    <tr>\n",
       "      <th>2016-03-29</th>\n",
       "      <td>11.6563997</td>\n",
       "    </tr>\n",
       "    <tr>\n",
       "      <th>2016-03-30</th>\n",
       "      <td>11.9528999</td>\n",
       "    </tr>\n",
       "    <tr>\n",
       "      <th>...</th>\n",
       "      <td>...</td>\n",
       "    </tr>\n",
       "    <tr>\n",
       "      <th>2021-03-22</th>\n",
       "      <td>1691.3339844</td>\n",
       "    </tr>\n",
       "    <tr>\n",
       "      <th>2021-03-23</th>\n",
       "      <td>1678.6501465</td>\n",
       "    </tr>\n",
       "    <tr>\n",
       "      <th>2021-03-24</th>\n",
       "      <td>1593.4134521</td>\n",
       "    </tr>\n",
       "    <tr>\n",
       "      <th>2021-03-25</th>\n",
       "      <td>1595.3592529</td>\n",
       "    </tr>\n",
       "    <tr>\n",
       "      <th>2021-03-26</th>\n",
       "      <td>1624.6556396</td>\n",
       "    </tr>\n",
       "  </tbody>\n",
       "</table>\n",
       "<p>1823 rows × 1 columns</p>\n",
       "</div>"
      ],
      "text/plain": [
       "                   Close\n",
       "Date                    \n",
       "2016-03-26    10.9740000\n",
       "2016-03-27    10.4191999\n",
       "2016-03-28    11.6655998\n",
       "2016-03-29    11.6563997\n",
       "2016-03-30    11.9528999\n",
       "...                  ...\n",
       "2021-03-22  1691.3339844\n",
       "2021-03-23  1678.6501465\n",
       "2021-03-24  1593.4134521\n",
       "2021-03-25  1595.3592529\n",
       "2021-03-26  1624.6556396\n",
       "\n",
       "[1823 rows x 1 columns]"
      ]
     },
     "execution_count": 3,
     "metadata": {},
     "output_type": "execute_result"
    }
   ],
   "source": [
    "raw = tra.load_security(dirname = DATA_DIR, \n",
    "                        ticker  = TICKER, \n",
    "                        refresh = REFRESH, \n",
    "                        period  = DEFAULT_PERIOD,\n",
    "                        )\n",
    "security = pd.DataFrame(raw[f'Close_{TICKER}'])\n",
    "security.rename(columns={f'Close_{TICKER}': \"Close\"},\n",
    "                inplace=True)\n",
    "\n",
    "security"
   ]
  },
  {
   "cell_type": "markdown",
   "metadata": {},
   "source": [
    "#### Setup default start & end dates"
   ]
  },
  {
   "cell_type": "code",
   "execution_count": 4,
   "metadata": {
    "ExecuteTime": {
     "end_time": "2021-03-24T08:33:13.054428Z",
     "start_time": "2021-03-24T08:33:13.013262Z"
    }
   },
   "outputs": [
    {
     "name": "stdout",
     "output_type": "stream",
     "text": [
      "(datetime.datetime(2017, 7, 15, 0, 0), datetime.datetime(2021, 3, 24, 0, 0))\n"
     ]
    }
   ],
   "source": [
    "# Check dates \n",
    "#print(tra.get_title_dates(security, START_DATE, END_DATE))\n",
    "print(tra.get_datetime_dates(security, START_DATE, END_DATE))\n",
    "#print(tra.get_filename_dates(security, START_DATE, END_DATE))"
   ]
  },
  {
   "cell_type": "markdown",
   "metadata": {},
   "source": [
    "## Plotting functions"
   ]
  },
  {
   "cell_type": "markdown",
   "metadata": {},
   "source": [
    "### Main plotting function"
   ]
  },
  {
   "cell_type": "code",
   "execution_count": 5,
   "metadata": {
    "ExecuteTime": {
     "end_time": "2021-03-24T08:33:13.416124Z",
     "start_time": "2021-03-24T08:33:13.372119Z"
    }
   },
   "outputs": [],
   "source": [
    "def plot_moving(span, fee_pct, buffer, date_range):\n",
    "    '''\n",
    "    Plots security prices with moving average \n",
    "    span -> rolling window span\n",
    "    fee_pct -> fee associated with a buy/sell action \n",
    "    '''\n",
    "    #reactivity = REACTIVITY\n",
    "    start = date_range[0]\n",
    "    end   = date_range[1]\n",
    "    title_dates = tra.dates_to_strings([start, end], '%d-%b-%Y')\n",
    "    file_dates  = tra.dates_to_strings([start, end], '%Y-%m-%d')\n",
    "\n",
    "    # Extract time window\n",
    "    df = tra.build_strategy(TICKER,\n",
    "                            security.loc[start:end, :].copy(),\n",
    "                            span,\n",
    "                            buffer,\n",
    "                            INIT_WEALTH,\n",
    "                           )\n",
    "    fee  = tra.get_fee(df, fee_pct, ACTIONS)\n",
    "    hold = tra.get_cumret(df, 'hold')  # cumulative returns for hold strategy\n",
    "    ema  = tra.get_cumret(df, 'ema', fee)  # cumulative returns for EMA strategy\n",
    "\n",
    "    fig, ax = plt.subplots(figsize=(14, 8))\n",
    "    ax.plot(df.index, df.Close, linewidth=1, label='Price')\n",
    "    ax.plot(df.index, df.EMA, linewidth=1, label=f'{span}-days EMA')\n",
    "\n",
    "    ax.legend(loc='best')\n",
    "    ax.set_ylabel('Price ($)')\n",
    "    ax.xaxis.set_major_formatter(get_year_month_format())\n",
    "    ax.grid(b=None, which='both', axis='both',\n",
    "             color=GRID_COLOR, linestyle='-', linewidth=1)\n",
    "    \n",
    "    n_buys, n_sells= trp.plot_arrows(ax, df, ACTIONS, get_color_scheme())\n",
    "\n",
    "    title  = f'{TICKER} | '\n",
    "    title += f'{title_dates[0]} - {title_dates[1]} | '\n",
    "    title += f'{n_buys} buys {n_sells} sells\\n'\n",
    "    title += f'EMA payoff={ema:.2%} (Hold={hold:.1%}) | '\n",
    "    title += f'{span}-day rolling mean | {buffer:.2%} buffer'\n",
    "    ax.set_title(title, fontsize=TITLE_SIZE, color=TITLE_COLOR)\n",
    "\n",
    "    trp.save_figure(PLOT_DIR, f'{TICKER}_{file_dates[0]}_{file_dates[1]}')\n",
    "    return df"
   ]
  },
  {
   "cell_type": "code",
   "execution_count": 6,
   "metadata": {},
   "outputs": [],
   "source": [
    "def plot_span_range(buffer, n_values, fee_pct, date_range):\n",
    "    trp.plot_span_range(buffer     = buffer, \n",
    "                        n_values   = n_values, \n",
    "                        fee_pct    = fee_pct, \n",
    "                        date_range = date_range, \n",
    "                        ticker     = TICKER, \n",
    "                        security   = security, \n",
    "                       )"
   ]
  },
  {
   "cell_type": "code",
   "execution_count": 7,
   "metadata": {},
   "outputs": [
    {
     "data": {
      "image/png": "[encoded data removed]",
      "text/plain": [
       "<Figure size 1008x576 with 1 Axes>"
      ]
     },
     "metadata": {
      "needs_background": "light"
     },
     "output_type": "display_data"
    }
   ],
   "source": [
    "#### test driver for trp.plot_span_range\n",
    "plot_span_range(buffer     = .01, \n",
    "                n_values   = 12, \n",
    "                fee_pct    = FEE_PCT, \n",
    "                date_range = [datetime.strptime('2017-07-31', '%Y-%m-%d'), \n",
    "                              datetime.strptime('2021-03-22', '%Y-%m-%d')], \n",
    "               )"
   ]
  },
  {
   "cell_type": "code",
   "execution_count": 8,
   "metadata": {},
   "outputs": [],
   "source": [
    "def plot_buffer_range(span, n_values, fee_pct, date_range):\n",
    "    trp.plot_buffer_range(span     = span, \n",
    "                          n_values   = n_values, \n",
    "                          fee_pct    = fee_pct, \n",
    "                          date_range = date_range, \n",
    "                          ticker     = TICKER, \n",
    "                          security   = security, \n",
    "                         )\n",
    "    #start_string, end_string = tra.dates_to_strings(date_range)"
   ]
  },
  {
   "cell_type": "code",
   "execution_count": 9,
   "metadata": {},
   "outputs": [
    {
     "data": {
      "image/png": "[encoded data removed]",
      "text/plain": [
       "<Figure size 1008x576 with 1 Axes>"
      ]
     },
     "metadata": {
      "needs_background": "light"
     },
     "output_type": "display_data"
    }
   ],
   "source": [
    "#### test driver for trp.plot_span_range\n",
    "plot_buffer_range(span     = 20, \n",
    "                n_values   = 12, \n",
    "                fee_pct    = FEE_PCT, \n",
    "                date_range = [datetime.strptime('2017-07-31', '%Y-%m-%d'), \n",
    "                              datetime.strptime('2021-03-22', '%Y-%m-%d')], \n",
    "               )"
   ]
  },
  {
   "cell_type": "code",
   "execution_count": null,
   "metadata": {
    "ExecuteTime": {
     "end_time": "2021-03-24T08:39:36.615261Z",
     "start_time": "2021-03-24T08:33:13.635569Z"
    },
    "scrolled": false
   },
   "outputs": [],
   "source": [
    "# Contour plot of EMA for all window span/buffer size combinations\n",
    "def plot_buffer_span_contours():\n",
    "    '''\n",
    "    Contour plot of EMA as a function of rolling-window span & buffer\n",
    "    '''\n",
    "    fig_size   = (FIG_WIDTH, FIG_WIDTH) # square figure\n",
    "    n_contours = 10 # number of contours\n",
    "    n_maxima_p = 10 # number of maximum points to plot\n",
    "    n_maxima_s = 25 # number of maximum points to save to file\n",
    "\n",
    "    # Get start & end dates in various fomats\n",
    "    start, end             = tra.get_datetime_dates(security, START_DATE, END_DATE)\n",
    "    start_title, end_title = tra.dates_to_strings([start, end], '%d-%b-%Y')\n",
    "    start_name, end_name   = tra.dates_to_strings([start, end], '%Y-%m-%d')\n",
    "    #tra.get_title_dates(security, START_DATE, END_DATE)\n",
    "    #start_name, end_name   = tra.get_filename_dates(security, START_DATE, END_DATE)\n",
    "    \n",
    "    spans, buffers, emas, hold = tra.build_ema_map(TICKER, security, start, end)\n",
    "    \n",
    "    # Plot\n",
    "    fig, ax = plt.subplots(figsize=fig_size)\n",
    "    plt.contourf(buffers, spans, emas, \n",
    "                 levels=n_contours, \n",
    "                 cmap='viridis', \n",
    "                 )\n",
    "    plt.colorbar(label='EMA return')\n",
    "            \n",
    "    # Plot maxima points \n",
    "    max_ema, max_span, max_buff = trp.plot_maxima(emas, \n",
    "                                                  spans, \n",
    "                                                  buffers, \n",
    "                                                  hold, \n",
    "                                                  ax, \n",
    "                                                  n_maxima_p)\n",
    "    \n",
    "    tra.results_to_file(TICKER, spans, buffers, emas, hold, n_maxima_s)\n",
    "        \n",
    "    # Axis labels\n",
    "    ax.set_xlabel('buffer')\n",
    "    ax.set_ylabel('span')\n",
    "    \n",
    "    # Build title\n",
    "    title  = f'{TICKER} | {start_title} - {end_title}\\n'\n",
    "    title += f'EMA max payoff={max_ema:.2%} (hold={hold:.2%}) | '\n",
    "    title += f'{max_span:.0f}-day mean | '\n",
    "    title += f'opt buffer={max_buff:.2%}'\n",
    "    ax.set_title(title, fontsize=TITLE_SIZE, color=TITLE_COLOR)\n",
    "    \n",
    "    plt.grid(b=None, which='major', axis='both', color=GRID_COLOR)\n",
    "    trp.save_figure(PLOT_DIR, f'{TICKER}_{start_name}_{end_name}_contours', extension='jpg')\n",
    "    plt.show()\n",
    "    \n",
    "plot_buffer_span_contours()\n",
    "    "
   ]
  },
  {
   "cell_type": "markdown",
   "metadata": {},
   "source": [
    "### Interactive plots"
   ]
  },
  {
   "cell_type": "markdown",
   "metadata": {
    "ExecuteTime": {
     "end_time": "2021-03-22T12:10:46.432031Z",
     "start_time": "2021-03-22T12:10:46.387091Z"
    }
   },
   "source": [
    "#### Widget defaults"
   ]
  },
  {
   "cell_type": "code",
   "execution_count": 10,
   "metadata": {
    "ExecuteTime": {
     "end_time": "2021-03-24T08:49:03.924569Z",
     "start_time": "2021-03-24T08:49:03.892176Z"
    }
   },
   "outputs": [],
   "source": [
    "### Default parameter values\n",
    "string_style = {'description_width': 'initial', \n",
    "                'handle_color':      'lawngreen'}\n",
    "\n",
    "start_period, end_period = tra.get_datetime_dates(security, START_DATE, END_DATE)\n",
    "dates        = pd.date_range(start_period, end_period, freq='D')\n",
    "date_options = [(date.strftime(' %d/%m/%Y'), date) for date in dates]\n",
    "date_index   = (0, len(date_options) - 1)\n",
    "\n",
    "# Tx/broker's fee\n",
    "min_fee     = 0.0\n",
    "max_fee     = .01\n",
    "delta_fee   = .0005\n",
    "default_fee = FEE_PCT\n",
    "\n",
    "# of days for running mean\n",
    "min_span     = MIN_SPAN\n",
    "max_span     = MAX_SPAN\n",
    "delta_span   = 1\n",
    "default_span = 20\n",
    "\n",
    "# buffer around EMA\n",
    "min_buffer     = MIN_BUFF\n",
    "max_buffer     = MAX_BUFF\n",
    "delta_buffer   = .0001\n",
    "default_buffer = .01\n",
    "\n",
    "# number of maxima\n",
    "max_value     = 15\n",
    "default_value = 12\n"
   ]
  },
  {
   "cell_type": "code",
   "execution_count": 11,
   "metadata": {},
   "outputs": [],
   "source": [
    "## Widget methods\n",
    "\n",
    "### Sliders\n",
    "def get_span_slider():\n",
    "    return IntSlider(min = min_span,\n",
    "                     max=max_span,\n",
    "                     step=delta_span,\n",
    "                     value=default_span,\n",
    "                     #description='Mean span:',\n",
    "                     style=string_style,\n",
    "                     disabled=False,\n",
    "                     continuous_update=False,\n",
    "                     readout=True,\n",
    "                     readout_format='d',\n",
    "                     layout = {'width': '250px'},\n",
    "                    )\n",
    "\n",
    "def get_buffer_slider():\n",
    "    return FloatSlider(min=min_buffer,\n",
    "                        max=max_buffer,\n",
    "                        step=delta_buffer,\n",
    "                        value=default_buffer,\n",
    "                        style=string_style,\n",
    "                        continuous_update=False,\n",
    "                        #description='Buffer (%):',\n",
    "                        disabled=False,\n",
    "                        readout=True,\n",
    "                        readout_format='.2%',\n",
    "                        layout      = {'width': '250px'},\n",
    "                       )\n",
    "    \n",
    "def get_fee_slider():\n",
    "    return FloatSlider(min=min_fee,\n",
    "                       max=max_fee,\n",
    "                       step=delta_fee,\n",
    "                       value=default_fee,\n",
    "                       #description='Fees (%):',\n",
    "                       style=string_style,\n",
    "                       disabled=False,\n",
    "                       continuous_update=False,\n",
    "                       readout=True,\n",
    "                       readout_format='.2%',\n",
    "                       layout      = {'width': '250px'},\n",
    "                      )\n",
    "\n",
    "def get_max_values_slider():\n",
    "   return SelectionSlider(options=[x for x in range(0, max_value+1)],\n",
    "                          value=default_value,\n",
    "                          description='Number of maxima:',\n",
    "                          style=string_style,\n",
    "                          disabled=False,\n",
    "                          continuous_update=False,\n",
    "                          readout=True,\n",
    "                          readout_format='d',\n",
    "                          layout      = {'width': '500px'},\n",
    "                          )\n",
    "                       \n",
    "def get_date_range_slider():\n",
    "    return SelectionRangeSlider(options = date_options,\n",
    "                                 index   = date_index,\n",
    "                                 description = 'Period:',\n",
    "                                 orientation = 'horizontal',\n",
    "                                 style       = string_style,\n",
    "                                 layout      = {'width': '500px'}\n",
    "                                )\n",
    "### Text boxes\n",
    "def get_fee_text_box():\n",
    "    return FloatText(min=min_fee,\n",
    "                     max=max_fee,\n",
    "                     step=delta_fee,\n",
    "                     value=default_fee,\n",
    "                     description='Fees:',\n",
    "                     style=string_style,\n",
    "                     disabled=False,\n",
    "                     readout_format='6.3%',\n",
    "                     layout={'width': '150px'},\n",
    "                    )\n",
    "                       \n",
    "def get_span_text_box():\n",
    "    return FloatText(min=min_span,\n",
    "                     max=max_span,\n",
    "                     step=delta_span,\n",
    "                     value=default_span,\n",
    "                     description='Span:',\n",
    "                     style=string_style,\n",
    "                     disabled=False,\n",
    "                     readout_format='d',\n",
    "                     layout={'width': '150px'},\n",
    "                    )\n",
    "                       \n",
    "def get_buffer_text_box():\n",
    "    return FloatText(min   = min_fee,\n",
    "                     max   = max_fee,\n",
    "                     step  = delta_fee,\n",
    "                     value = default_fee,\n",
    "                     style       = string_style,\n",
    "                     disabled    = False,\n",
    "                     description = 'Buffer:',\n",
    "                     readout_format = '3%',\n",
    "                     layout = {'width': '150px'},\n",
    "                    )\n"
   ]
  },
  {
   "cell_type": "markdown",
   "metadata": {},
   "source": [
    "#### Interactive returns for window span"
   ]
  },
  {
   "cell_type": "code",
   "execution_count": 16,
   "metadata": {
    "ExecuteTime": {
     "end_time": "2021-03-24T08:49:12.076496Z",
     "start_time": "2021-03-24T08:49:06.202921Z"
    }
   },
   "outputs": [
    {
     "data": {
      "application/vnd.jupyter.widget-view+json": {
       "model_id": "7b2ecbb216c74e82b5bc912f8aa8ddca",
       "version_major": 2,
       "version_minor": 0
      },
      "text/plain": [
       "TwoByTwoLayout(children=(HBox(children=(FloatText(value=0.004, description='Fees:', layout=Layout(width='150px…"
      ]
     },
     "metadata": {},
     "output_type": "display_data"
    },
    {
     "data": {
      "application/vnd.jupyter.widget-view+json": {
       "model_id": "886b4ed3904445e8b95b402677e77b77",
       "version_major": 2,
       "version_minor": 0
      },
      "text/plain": [
       "Output()"
      ]
     },
     "metadata": {},
     "output_type": "display_data"
    }
   ],
   "source": [
    "# Mean window span range optimizer interactive\n",
    "buffer_slider   = get_buffer_slider()\n",
    "buffer_text_box = get_buffer_text_box()\n",
    "buffer_link     = jslink((buffer_slider, 'value'), (buffer_text_box, 'value'))\n",
    "\n",
    "max_values_slider   = get_max_values_slider()\n",
    "\n",
    "fee_slider   = get_fee_slider()\n",
    "fee_text_box = get_fee_text_box()\n",
    "fee_link     = jslink((fee_slider, 'value'), (fee_text_box, 'value'))\n",
    "\n",
    "date_range_slider = get_date_range_slider()\n",
    "\n",
    "fee_widgets    = HBox([fee_text_box, fee_slider])\n",
    "buffer_widgets = HBox([buffer_text_box, buffer_slider])\n",
    "\n",
    "out = interactive_output(plot_span_range,\n",
    "                         {'buffer'    : buffer_slider,\n",
    "                          'n_values'  : max_values_slider,\n",
    "                          'fee_pct'   : fee_slider,\n",
    "                          'date_range': date_range_slider,\n",
    "                         }\n",
    "                        )\n",
    "\n",
    "ui = TwoByTwoLayout(top_left     = fee_widgets,\n",
    "                    top_right    = date_range_slider,\n",
    "                    bottom_left  = buffer_widgets,\n",
    "                    bottom_right = max_values_slider,\n",
    "                   )\n",
    "\n",
    "display(ui, out)"
   ]
  },
  {
   "cell_type": "markdown",
   "metadata": {},
   "source": [
    "#### Interactive returns for buffer size"
   ]
  },
  {
   "cell_type": "code",
   "execution_count": 17,
   "metadata": {
    "ExecuteTime": {
     "end_time": "2021-03-24T08:49:21.855189Z",
     "start_time": "2021-03-24T08:49:12.081397Z"
    }
   },
   "outputs": [
    {
     "data": {
      "application/vnd.jupyter.widget-view+json": {
       "model_id": "ab6dad0d009b4b34afb69471ac36f8c8",
       "version_major": 2,
       "version_minor": 0
      },
      "text/plain": [
       "TwoByTwoLayout(children=(HBox(children=(FloatText(value=0.004, description='Fees:', layout=Layout(width='150px…"
      ]
     },
     "metadata": {},
     "output_type": "display_data"
    },
    {
     "data": {
      "application/vnd.jupyter.widget-view+json": {
       "model_id": "76fcfad9c5b84afca3ec8b4d2166475a",
       "version_major": 2,
       "version_minor": 0
      },
      "text/plain": [
       "Output()"
      ]
     },
     "metadata": {},
     "output_type": "display_data"
    }
   ],
   "source": [
    "# Buffer range optimizer interactive \n",
    "span_slider   = get_span_slider()\n",
    "span_text_box = get_span_text_box()\n",
    "span_link     = jslink((span_slider, 'value'), (span_text_box, 'value'))\n",
    "\n",
    "max_values_slider = get_max_values_slider()\n",
    "\n",
    "fee_slider   = get_fee_slider()\n",
    "fee_text_box = get_fee_text_box()\n",
    "fee_link     = jslink((fee_slider, 'value'), (fee_text_box, 'value'))\n",
    "\n",
    "date_range_slider = get_date_range_slider()\n",
    "\n",
    "fee_widgets    = HBox([fee_text_box, fee_slider])\n",
    "span_widgets = HBox([span_text_box, span_slider])\n",
    "\n",
    "out = interactive_output(plot_buffer_range,\n",
    "                         {'span'      : span_slider,\n",
    "                          'n_values'  : max_values_slider,\n",
    "                          'fee_pct'   : fee_slider,\n",
    "                          'date_range': date_range_slider,\n",
    "                          }\n",
    "                         )\n",
    "\n",
    "ui = TwoByTwoLayout(top_left     = fee_widgets,\n",
    "                    top_right    = date_range_slider,\n",
    "                    bottom_left  = span_widgets,\n",
    "                    bottom_right = max_values_slider,\n",
    "                    )\n",
    "\n",
    "display(ui, out)"
   ]
  },
  {
   "cell_type": "markdown",
   "metadata": {},
   "source": [
    "#### Interactive buffer-span"
   ]
  },
  {
   "cell_type": "code",
   "execution_count": 15,
   "metadata": {
    "ExecuteTime": {
     "end_time": "2021-03-24T08:49:23.067658Z",
     "start_time": "2021-03-24T08:49:21.857471Z"
    },
    "scrolled": false
   },
   "outputs": [
    {
     "data": {
      "application/vnd.jupyter.widget-view+json": {
       "model_id": "3f41f18bfc4b493e8087ee49ffdbd560",
       "version_major": 2,
       "version_minor": 0
      },
      "text/plain": [
       "TwoByTwoLayout(children=(HBox(children=(FloatText(value=0.004, description='Fees:', layout=Layout(width='150px…"
      ]
     },
     "metadata": {},
     "output_type": "display_data"
    },
    {
     "data": {
      "application/vnd.jupyter.widget-view+json": {
       "model_id": "d2d9ac0b7ef94770bbaef81caa84e1ce",
       "version_major": 2,
       "version_minor": 0
      },
      "text/plain": [
       "Output()"
      ]
     },
     "metadata": {},
     "output_type": "display_data"
    }
   ],
   "source": [
    "# Buffer-span interactive plot\n",
    "\n",
    "fee_slider   = get_fee_slider()\n",
    "fee_text_box = get_fee_text_box()\n",
    "fee_link     = jslink((fee_slider, 'value'), (fee_text_box, 'value'))\n",
    "\n",
    "span_slider   = get_span_slider()\n",
    "span_text_box = get_span_text_box()\n",
    "span_link     = jslink((span_slider, 'value'), (span_text_box, 'value'))\n",
    "\n",
    "buffer_slider   = get_buffer_slider()\n",
    "buffer_text_box = get_buffer_text_box()\n",
    "buffer_link     = jslink((buffer_slider, 'value'), (buffer_text_box, 'value'))\n",
    "\n",
    "date_range_slider = get_date_range_slider()\n",
    "\n",
    "out = interactive_output(plot_moving,\n",
    "                         {'span'      : span_slider,\n",
    "                          'buffer'    : buffer_slider,\n",
    "                          'fee_pct'   : fee_slider,\n",
    "                          'date_range': date_range_slider,\n",
    "                          }\n",
    "                         )\n",
    "\n",
    "fee_widgets    = HBox([fee_text_box, fee_slider])\n",
    "span_widgets   = HBox([span_text_box, span_slider])\n",
    "buffer_widgets = HBox([buffer_text_box, buffer_slider])\n",
    "\n",
    "\n",
    "ui = TwoByTwoLayout(top_left     = fee_widgets,\n",
    "                    top_right    = date_range_slider,\n",
    "                    bottom_left  = span_widgets,\n",
    "                    bottom_right = buffer_widgets,\n",
    "                   )\n",
    "\n",
    "display(ui, out)"
   ]
  },
  {
   "cell_type": "code",
   "execution_count": null,
   "metadata": {},
   "outputs": [],
   "source": []
  },
  {
   "cell_type": "code",
   "execution_count": null,
   "metadata": {},
   "outputs": [],
   "source": []
  }
 ],
 "metadata": {
  "hide_input": false,
  "kernelspec": {
   "display_name": "Python 3",
   "language": "python",
   "name": "python3"
  },
  "language_info": {
   "codemirror_mode": {
    "name": "ipython",
    "version": 3
   },
   "file_extension": ".py",
   "mimetype": "text/x-python",
   "name": "python",
   "nbconvert_exporter": "python",
   "pygments_lexer": "ipython3",
   "version": "3.8.5"
  },
  "toc": {
   "base_numbering": 1,
   "nav_menu": {},
   "number_sections": false,
   "sideBar": true,
   "skip_h1_title": false,
   "title_cell": "Table of Contents",
   "title_sidebar": "Contents",
   "toc_cell": false,
   "toc_position": {
    "height": "calc(100% - 180px)",
    "left": "10px",
    "top": "150px",
    "width": "234.238px"
   },
   "toc_section_display": true,
   "toc_window_display": false
  }
 },
 "nbformat": 4,
 "nbformat_minor": 4
}
